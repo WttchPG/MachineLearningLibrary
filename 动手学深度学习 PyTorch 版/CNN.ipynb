{
 "cells": [
  {
   "cell_type": "code",
   "execution_count": 40,
   "id": "initial_id",
   "metadata": {
    "collapsed": true,
    "ExecuteTime": {
     "end_time": "2024-01-11T14:06:35.261290Z",
     "start_time": "2024-01-11T14:06:35.250881Z"
    }
   },
   "outputs": [],
   "source": [
    "from utils.torch_util import get_device\n",
    "import torch\n",
    "from torch import nn\n",
    "\n",
    "model = nn.Sequential(\n",
    "    # 1@28*28 -> 6@28*28\n",
    "    nn.Conv2d(1, 6, kernel_size=5, padding=2), nn.ReLU(),\n",
    "    # 6@28*28 -> 6@14*14\n",
    "    nn.MaxPool2d(kernel_size=2, stride=2),\n",
    "    # 6@14*14 -> 16@10*10\n",
    "    nn.Conv2d(6, 16, kernel_size=5), nn.ReLU(),\n",
    "    # 16@10*10 -> 16@5*5\n",
    "    nn.MaxPool2d(kernel_size=2, stride=2),\n",
    "    # 16@5*5 -> 400\n",
    "    nn.Flatten(),\n",
    "    # 400 -> 120\n",
    "    nn.Linear(16 * 5 * 5, 120), nn.ReLU(),\n",
    "    nn.Dropout(),\n",
    "    # 120 -> 84\n",
    "    nn.Linear(120, 84), nn.ReLU(),\n",
    "    # 84 -> 10\n",
    "    nn.Linear(84, 10),\n",
    "    # nn.Softmax(dim=1)\n",
    ")\n",
    "\n",
    "train_device = get_device()\n",
    "\n",
    "model = model.to(device=train_device)"
   ]
  },
  {
   "cell_type": "code",
   "outputs": [
    {
     "name": "stdout",
     "output_type": "stream",
     "text": [
      "training on mps\n"
     ]
    }
   ],
   "source": [
    "from torchvision.transforms.v2 import ToImage, Compose, Resize, Normalize, ToDtype\n",
    "from torchvision.datasets import MNIST\n",
    "from datasets import root_path\n",
    "from torch.utils.data import DataLoader\n",
    "\n",
    "batch_size = 256\n",
    "epoch = 10\n",
    "lr = 0.003\n",
    "\n",
    "transform = Compose([\n",
    "    ToImage(),\n",
    "    ToDtype(torch.float32),\n",
    "    Normalize([0], [0.5])\n",
    "])\n",
    "\n",
    "train_data_loader = DataLoader(MNIST(root_path + \"/torchvision/cache\", train=True, download=True, transform=transform),\n",
    "                               batch_size=batch_size, shuffle=True)\n",
    "test_data_loader = DataLoader(MNIST(root_path + \"/torchvision/cache\", train=False, download=True, transform=transform),\n",
    "                              batch_size=batch_size, shuffle=True)\n",
    "\n",
    "\n",
    "def init_weights(m):\n",
    "    if type(m) == nn.Linear or type(m) == nn.Conv2d:\n",
    "        nn.init.xavier_uniform_(m.weight)\n",
    "\n",
    "\n",
    "model.apply(init_weights)\n",
    "print(f'training on {train_device}')\n"
   ],
   "metadata": {
    "collapsed": false,
    "ExecuteTime": {
     "end_time": "2024-01-11T14:06:35.354592Z",
     "start_time": "2024-01-11T14:06:35.266699Z"
    }
   },
   "id": "3b2f260b33ae765",
   "execution_count": 41
  },
  {
   "cell_type": "code",
   "outputs": [
    {
     "name": "stdout",
     "output_type": "stream",
     "text": [
      "tensor(0.3021, device='mps:0')\n",
      "Test Precision: 0.4602\n",
      "tensor(0.3750, device='mps:0')\n",
      "Test Precision: 0.5169\n",
      "tensor(0.5000, device='mps:0')\n",
      "Test Precision: 0.6214\n",
      "tensor(0.5833, device='mps:0')\n",
      "Test Precision: 0.6987\n",
      "tensor(0.5833, device='mps:0')\n",
      "Test Precision: 0.7624\n",
      "tensor(0.6458, device='mps:0')\n",
      "Test Precision: 0.8074\n",
      "tensor(0.6875, device='mps:0')\n",
      "Test Precision: 0.8499\n",
      "tensor(0.7083, device='mps:0')\n",
      "Test Precision: 0.8721\n",
      "tensor(0.6458, device='mps:0')\n",
      "Test Precision: 0.8865\n",
      "tensor(0.7917, device='mps:0')\n",
      "Test Precision: 0.9023\n"
     ]
    }
   ],
   "source": [
    "\n",
    "import torch\n",
    "from torchmetrics import Accuracy\n",
    "\n",
    "optimizer = torch.optim.Adam(model.parameters(), lr=0.0001)\n",
    "loss = nn.CrossEntropyLoss()\n",
    "accuracy = Accuracy(task=\"multiclass\", num_classes=10)\n",
    "accuracy = accuracy.to(train_device)\n",
    "\n",
    "for i in range(epoch):\n",
    "    model.train()\n",
    "    for batch_idx, (X, y) in enumerate(train_data_loader):\n",
    "        optimizer.zero_grad()\n",
    "        X, y = X.to(train_device), y.to(train_device) # type: torch.Tensor, torch.Tensor\n",
    "        y_pred = model(X)\n",
    "        l = loss(y_pred, y)\n",
    "        l.backward()\n",
    "        optimizer.step()\n",
    "\n",
    "    model.eval()\n",
    "    with torch.no_grad():\n",
    "        acc = accuracy(y_pred.argmax(dim=1), y)\n",
    "        print(acc)\n",
    "\n",
    "\n",
    "        pr = 0\n",
    "        for test_X, test_y in test_data_loader:\n",
    "            test_prec = model(test_X.to(train_device))\n",
    "            pr += (test_prec.argmax(dim=1) == test_y.to(train_device)).sum().item()\n",
    "        print(f'Test Precision: {pr / len(test_data_loader.dataset)}')\n",
    "\n"
   ],
   "metadata": {
    "collapsed": false,
    "ExecuteTime": {
     "end_time": "2024-01-11T14:08:04.646222Z",
     "start_time": "2024-01-11T14:06:35.355905Z"
    }
   },
   "id": "2f9bc97665fcde03",
   "execution_count": 42
  }
 ],
 "metadata": {
  "kernelspec": {
   "display_name": "Python 3",
   "language": "python",
   "name": "python3"
  },
  "language_info": {
   "codemirror_mode": {
    "name": "ipython",
    "version": 2
   },
   "file_extension": ".py",
   "mimetype": "text/x-python",
   "name": "python",
   "nbconvert_exporter": "python",
   "pygments_lexer": "ipython2",
   "version": "2.7.6"
  }
 },
 "nbformat": 4,
 "nbformat_minor": 5
}
