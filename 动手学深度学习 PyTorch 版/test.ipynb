{
 "cells": [
  {
   "cell_type": "code",
   "execution_count": 4,
   "id": "initial_id",
   "metadata": {
    "collapsed": true,
    "ExecuteTime": {
     "end_time": "2024-01-11T09:26:10.391915Z",
     "start_time": "2024-01-11T09:26:07.435112Z"
    }
   },
   "outputs": [
    {
     "name": "stdout",
     "output_type": "stream",
     "text": [
      "job_name                time(s)\n",
      "----------------------------------------\n",
      "epoch 1                    0.10\n",
      "epoch 2                    0.09\n",
      "epoch 3                    0.19\n",
      "epoch 4                    0.12\n",
      "epoch 5                    0.10\n",
      "epoch 6                    0.09\n",
      "epoch 7                    0.09\n",
      "epoch 8                    0.09\n",
      "epoch 9                    0.09\n",
      "epoch 10                   0.09\n",
      "epoch 11                   0.09\n",
      "epoch 12                   0.09\n",
      "epoch 13                   0.09\n",
      "epoch 14                   0.09\n",
      "epoch 15                   0.09\n",
      "epoch 16                   0.09\n",
      "epoch 17                   0.09\n",
      "epoch 18                   0.09\n",
      "epoch 19                   0.09\n",
      "epoch 20                   0.10\n",
      "epoch 21                   0.11\n",
      "epoch 22                   0.10\n",
      "epoch 23                   0.09\n",
      "epoch 24                   0.09\n",
      "epoch 25                   0.09\n",
      "epoch 26                   0.09\n",
      "epoch 27                   0.10\n",
      "epoch 28                   0.09\n",
      "epoch 29                   0.09\n",
      "epoch 30                   0.09\n",
      "[9.885986328125, 8.822671890258789, 8.056737899780273, 7.557933807373047, 7.0436296463012695, 6.677184104919434, 6.362575531005859, 6.1128668785095215, 5.885826110839844, 5.646611213684082, 5.449227809906006, 5.356739044189453, 5.2978129386901855, 5.013334274291992, 4.878260135650635, 4.732301712036133, 4.6125407218933105, 4.560725212097168, 4.493914604187012, 4.388176918029785, 4.1350860595703125, 4.245248317718506, 4.055220127105713, 3.9620277881622314, 3.9865031242370605, 3.8409321308135986, 3.8211846351623535, 3.689819812774658, 3.659825325012207, 3.763662576675415] [9.93526554107666, 8.78565788269043, 8.208728790283203, 7.549427032470703, 7.107882499694824, 6.600142955780029, 6.405085563659668, 5.764804840087891, 5.902848243713379, 5.735720634460449, 5.554640769958496, 5.377190113067627, 4.92199182510376, 5.026658058166504, 4.732023239135742, 4.56793212890625, 4.71172571182251, 4.146030426025391, 4.465252876281738, 4.091432571411133, 4.033219814300537, 3.982590436935425, 4.156292915344238, 4.011198043823242, 3.677124261856079, 3.910428524017334, 3.8423285484313965, 3.461787223815918, 3.984931468963623, 3.335747480392456]\n"
     ]
    },
    {
     "data": {
      "text/plain": "Sequential(\n  (0): Linear(in_features=330, out_features=10, bias=True)\n  (1): Dropout(p=0.2, inplace=False)\n  (2): ReLU()\n  (3): Linear(in_features=10, out_features=1, bias=True)\n)"
     },
     "execution_count": 4,
     "metadata": {},
     "output_type": "execute_result"
    }
   ],
   "source": [
    "from sklearn.model_selection import KFold\n",
    "from utils.torch_util import get_device\n",
    "from time import sleep\n",
    "\n",
    "import numpy\n",
    "from torch.utils.data import DataLoader, Subset\n",
    "\n",
    "from utils.stopwatch import StopWatch\n",
    "import torch\n",
    "import torch.nn as nn\n",
    "from torch import Tensor\n",
    "import pandas as pd\n",
    "\n",
    "from datasets.kaggle import HousePriceAdvancedRegressionTechniquesDataset\n",
    "\n",
    "stopwatch = StopWatch()\n",
    "dataset = HousePriceAdvancedRegressionTechniquesDataset()\n",
    "\n",
    "loss = nn.MSELoss()\n",
    "in_features = dataset.shape[1]\n",
    "\n",
    "net = nn.Sequential(\n",
    "    nn.Linear(in_features, 10),\n",
    "    nn.Dropout(0.2),\n",
    "    nn.ReLU(),\n",
    "    nn.Linear(10, 1)\n",
    ")\n",
    "net = net.to(get_device())\n",
    "optimizer = torch.optim.Adam(net.parameters(), lr=10e-3, weight_decay=1e-2)\n",
    "\n",
    "\n",
    "def log_rmse(model: nn.Module, features: Tensor, labels: Tensor):\n",
    "    cliped_preds = torch.clamp(model(features), 1, float('inf'))\n",
    "    rmse = torch.sqrt(loss(torch.log(cliped_preds), torch.log(labels)))\n",
    "    return rmse.item()\n",
    "\n",
    "\n",
    "epoch = 30\n",
    "\n",
    "train_ls = []\n",
    "test_ls = []\n",
    "for i in range(epoch):\n",
    "    stopwatch.start(f\"epoch {i + 1}\")\n",
    "    kfold = KFold(n_splits=10, shuffle=True, random_state=0).split(dataset)\n",
    "    train_idx, test_idx = next(kfold)\n",
    "    train_dataset = Subset(dataset, train_idx)\n",
    "    test_dataset = Subset(dataset, test_idx)[:]\n",
    "    dataLoader = DataLoader(train_dataset, batch_size=64, shuffle=True)\n",
    "    for j, data in enumerate(dataLoader):\n",
    "        optimizer.zero_grad()\n",
    "        l = loss(net(data[0]), data[1])\n",
    "        l.backward()\n",
    "        optimizer.step()\n",
    "    train_ls.append(log_rmse(net, train_dataset[:][:-1][0], train_dataset[:][-1]))\n",
    "    test_ls.append(log_rmse(net, test_dataset[:-1][0], test_dataset[-1]))\n",
    "    stopwatch.stop()\n",
    "\n",
    "stopwatch.display()\n",
    "\n",
    "predict_price = net(dataset.predict_data)\n",
    "\n",
    "print(train_ls, test_ls)\n",
    "net"
   ]
  },
  {
   "cell_type": "code",
   "outputs": [
    {
     "data": {
      "text/plain": "tensor([[104313.1562],\n        [120185.9922],\n        [151670.0625],\n        ...,\n        [158826.7344],\n        [ 94744.2109],\n        [176662.2656]], device='mps:0', grad_fn=<LinearBackward0>)"
     },
     "execution_count": 7,
     "metadata": {},
     "output_type": "execute_result"
    }
   ],
   "source": [
    "predict_price"
   ],
   "metadata": {
    "collapsed": false,
    "ExecuteTime": {
     "end_time": "2024-01-11T07:54:17.632979Z",
     "start_time": "2024-01-11T07:54:17.611382Z"
    }
   },
   "id": "fa15ca0bb4a36bba",
   "execution_count": 7
  },
  {
   "cell_type": "code",
   "outputs": [],
   "source": [
    "\n",
    "predict_data = pd.read_csv(\"/Volumes/WTTCH/datasets/house-prices-advanced-regression-techniques\" + \"/test.csv\")\n",
    "predict_data['SalePrice'] = predict_price.cpu().detach().numpy()"
   ],
   "metadata": {
    "collapsed": false,
    "ExecuteTime": {
     "end_time": "2024-01-11T07:56:55.942247Z",
     "start_time": "2024-01-11T07:56:55.928075Z"
    }
   },
   "id": "54da5bb30e951be2",
   "execution_count": 17
  },
  {
   "cell_type": "code",
   "outputs": [],
   "source": [
    "predict_data = pd.concat([predict_data['Id'], predict_data['SalePrice']], axis=1)\n",
    "\n",
    "predict_data.to_csv(\"submission.csv\", index=False)"
   ],
   "metadata": {
    "collapsed": false,
    "ExecuteTime": {
     "end_time": "2024-01-11T08:02:05.215423Z",
     "start_time": "2024-01-11T08:02:05.205680Z"
    }
   },
   "id": "59b2fa7dd5b62386",
   "execution_count": 21
  },
  {
   "cell_type": "code",
   "outputs": [],
   "source": [],
   "metadata": {
    "collapsed": false
   },
   "id": "290d78292c226570"
  }
 ],
 "metadata": {
  "kernelspec": {
   "display_name": "Python 3",
   "language": "python",
   "name": "python3"
  },
  "language_info": {
   "codemirror_mode": {
    "name": "ipython",
    "version": 2
   },
   "file_extension": ".py",
   "mimetype": "text/x-python",
   "name": "python",
   "nbconvert_exporter": "python",
   "pygments_lexer": "ipython2",
   "version": "2.7.6"
  }
 },
 "nbformat": 4,
 "nbformat_minor": 5
}
