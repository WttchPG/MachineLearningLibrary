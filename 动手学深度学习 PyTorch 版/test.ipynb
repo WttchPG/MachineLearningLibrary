{
 "cells": [
  {
   "cell_type": "code",
   "execution_count": 6,
   "id": "initial_id",
   "metadata": {
    "collapsed": true,
    "ExecuteTime": {
     "end_time": "2024-01-11T07:54:11.577135Z",
     "start_time": "2024-01-11T07:54:08.665750Z"
    }
   },
   "outputs": [
    {
     "name": "stdout",
     "output_type": "stream",
     "text": [
      "job_name                time(s)\n",
      "----------------------------------------\n",
      "epoch 1                    0.10\n",
      "epoch 2                    0.09\n",
      "epoch 3                    0.17\n",
      "epoch 4                    0.09\n",
      "epoch 5                    0.10\n",
      "epoch 6                    0.10\n",
      "epoch 7                    0.10\n",
      "epoch 8                    0.09\n",
      "epoch 9                    0.09\n",
      "epoch 10                   0.09\n",
      "epoch 11                   0.09\n",
      "epoch 12                   0.09\n",
      "epoch 13                   0.09\n",
      "epoch 14                   0.09\n",
      "epoch 15                   0.09\n",
      "epoch 16                   0.09\n",
      "epoch 17                   0.10\n",
      "epoch 18                   0.09\n",
      "epoch 19                   0.09\n",
      "epoch 20                   0.09\n",
      "epoch 21                   0.09\n",
      "epoch 22                   0.09\n",
      "epoch 23                   0.09\n",
      "epoch 24                   0.09\n",
      "epoch 25                   0.09\n",
      "epoch 26                   0.09\n",
      "epoch 27                   0.09\n",
      "epoch 28                   0.09\n",
      "epoch 29                   0.09\n",
      "epoch 30                   0.09\n",
      "[3.30271053314209, 2.618884325027466, 2.2225303649902344, 1.9450194835662842, 1.7319523096084595, 1.5607631206512451, 1.4180362224578857, 1.2963342666625977, 1.190676212310791, 1.096963882446289, 1.0140275955200195, 0.9396785497665405, 0.8730607628822327, 0.8116222620010376, 0.7558882236480713, 0.7051196098327637, 0.6583732962608337, 0.615398108959198, 0.5757431983947754, 0.5393681526184082, 0.505531907081604, 0.47427552938461304, 0.4455575942993164, 0.41908934712409973, 0.3945348262786865, 0.371809184551239, 0.3513360321521759, 0.3321684002876282, 0.31447961926460266, 0.29829663038253784] [3.302185297012329, 2.618302822113037, 2.2217187881469727, 1.9434175491333008, 1.7298574447631836, 1.5585432052612305, 1.415486454963684, 1.293414831161499, 1.1874523162841797, 1.0934364795684814, 1.0100210905075073, 0.9351354837417603, 0.8680033087730408, 0.8060903549194336, 0.7498683929443359, 0.6985122561454773, 0.6512272357940674, 0.607615053653717, 0.5673297643661499, 0.5303789377212524, 0.49589693546295166, 0.4639850854873657, 0.43453261256217957, 0.40732237696647644, 0.3820507228374481, 0.35852479934692383, 0.33729544281959534, 0.31737032532691956, 0.29884591698646545, 0.28183355927467346]\n"
     ]
    }
   ],
   "source": [
    "from sklearn.model_selection import KFold\n",
    "from utils.torch_util import get_device\n",
    "from time import sleep\n",
    "\n",
    "import numpy\n",
    "from torch.utils.data import DataLoader, Subset\n",
    "\n",
    "from utils.stopwatch import StopWatch\n",
    "import torch\n",
    "import torch.nn as nn\n",
    "from torch import Tensor\n",
    "import pandas as pd\n",
    "\n",
    "from DatasetUtil.kaggle import HousePriceAdvancedRegressionTechniquesDataset\n",
    "\n",
    "stopwatch = StopWatch()\n",
    "dataset = HousePriceAdvancedRegressionTechniquesDataset()\n",
    "\n",
    "loss = nn.MSELoss()\n",
    "in_features = dataset.shape[1]\n",
    "\n",
    "net = nn.Sequential(\n",
    "    nn.Linear(in_features, 1)\n",
    ")\n",
    "net = net.to(get_device())\n",
    "optimizer = torch.optim.Adam(net.parameters(), lr=10-3)\n",
    "\n",
    "\n",
    "def log_rmse(model: nn.Module, features: Tensor, labels: Tensor):\n",
    "    cliped_preds = torch.clamp(model(features), 1, float('inf'))\n",
    "    rmse = torch.sqrt(loss(torch.log(cliped_preds), torch.log(labels)))\n",
    "    return rmse.item()\n",
    "\n",
    "epoch = 30\n",
    "\n",
    "\n",
    "train_ls = []\n",
    "test_ls = []\n",
    "for i in range(epoch):\n",
    "    stopwatch.start(f\"epoch {i + 1}\")\n",
    "    kfold = KFold(n_splits=10, shuffle=True, random_state=0).split(dataset)\n",
    "    train_idx, test_idx = next(kfold)\n",
    "    train_dataset = Subset(dataset, train_idx)\n",
    "    test_dataset = Subset(dataset, test_idx)[:]\n",
    "    dataLoader = DataLoader(train_dataset, batch_size=64, shuffle=True)\n",
    "    for j, data in enumerate(dataLoader):\n",
    "        optimizer.zero_grad()\n",
    "        l = loss(net(data[0]), data[1])\n",
    "        l.backward()\n",
    "        optimizer.step()\n",
    "    train_ls.append(log_rmse(net, train_dataset[:][:-1][0], train_dataset[:][-1]))\n",
    "    test_ls.append(log_rmse(net, test_dataset[:-1][0], test_dataset[-1]))\n",
    "    stopwatch.stop()\n",
    "\n",
    "stopwatch.display()\n",
    "\n",
    "predict_price = net(dataset.predict_data)\n",
    "\n",
    "print(train_ls, test_ls)"
   ]
  },
  {
   "cell_type": "code",
   "outputs": [
    {
     "data": {
      "text/plain": "tensor([[104313.1562],\n        [120185.9922],\n        [151670.0625],\n        ...,\n        [158826.7344],\n        [ 94744.2109],\n        [176662.2656]], device='mps:0', grad_fn=<LinearBackward0>)"
     },
     "execution_count": 7,
     "metadata": {},
     "output_type": "execute_result"
    }
   ],
   "source": [
    "predict_price"
   ],
   "metadata": {
    "collapsed": false,
    "ExecuteTime": {
     "end_time": "2024-01-11T07:54:17.632979Z",
     "start_time": "2024-01-11T07:54:17.611382Z"
    }
   },
   "id": "fa15ca0bb4a36bba",
   "execution_count": 7
  },
  {
   "cell_type": "code",
   "outputs": [],
   "source": [
    "\n",
    "predict_data = pd.read_csv(\"/Volumes/WTTCH/datasets/house-prices-advanced-regression-techniques\" + \"/test.csv\")\n",
    "predict_data['SalePrice'] = predict_price.cpu().detach().numpy()"
   ],
   "metadata": {
    "collapsed": false,
    "ExecuteTime": {
     "end_time": "2024-01-11T07:56:55.942247Z",
     "start_time": "2024-01-11T07:56:55.928075Z"
    }
   },
   "id": "54da5bb30e951be2",
   "execution_count": 17
  },
  {
   "cell_type": "code",
   "outputs": [],
   "source": [
    "predict_data = pd.concat([predict_data['Id'], predict_data['SalePrice']], axis=1)\n",
    "\n",
    "predict_data.to_csv(\"submission.csv\", index=False)"
   ],
   "metadata": {
    "collapsed": false,
    "ExecuteTime": {
     "end_time": "2024-01-11T08:02:05.215423Z",
     "start_time": "2024-01-11T08:02:05.205680Z"
    }
   },
   "id": "59b2fa7dd5b62386",
   "execution_count": 21
  },
  {
   "cell_type": "code",
   "outputs": [],
   "source": [],
   "metadata": {
    "collapsed": false
   },
   "id": "290d78292c226570"
  }
 ],
 "metadata": {
  "kernelspec": {
   "display_name": "Python 3",
   "language": "python",
   "name": "python3"
  },
  "language_info": {
   "codemirror_mode": {
    "name": "ipython",
    "version": 2
   },
   "file_extension": ".py",
   "mimetype": "text/x-python",
   "name": "python",
   "nbconvert_exporter": "python",
   "pygments_lexer": "ipython2",
   "version": "2.7.6"
  }
 },
 "nbformat": 4,
 "nbformat_minor": 5
}
