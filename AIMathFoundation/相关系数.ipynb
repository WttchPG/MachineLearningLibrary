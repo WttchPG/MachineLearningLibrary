{
 "cells": [
  {
   "cell_type": "markdown",
   "source": [
    "# 皮尔森相关系数及假设检验"
   ],
   "metadata": {
    "collapsed": false
   },
   "id": "15fa477db48fc1ff"
  },
  {
   "cell_type": "code",
   "execution_count": 19,
   "outputs": [
    {
     "data": {
      "text/plain": "(-0.4894946761511898, -1.775122616469848)"
     },
     "execution_count": 19,
     "metadata": {},
     "output_type": "execute_result"
    }
   ],
   "source": [
    "import numpy as np\n",
    "from scipy.stats import pearsonr\n",
    "\n",
    "tang = np.array([\n",
    "    [3.8, 4, 5.8, 8, 11.3, 14.4, 16.5, 16.2, 13.8, 10.8, 6.7, 4.7], \n",
    "    [77.7, 51.2, 60.1, 54.1, 55.4, 56.8, 45, 55.3, 67.5, 73.3, 76.6, 79.6]\n",
    "])\n",
    "\n",
    "mean = tang.mean(axis=1).reshape((-1, 1)) # type: np.ndarray\n",
    "\n",
    "# 样本值 减 目标值\n",
    "dt_tang = tang - mean\n",
    "\n",
    "r = np.sum(dt_tang[0] * dt_tang[1]) / (np.sqrt(np.sum((dt_tang[0]) ** 2)) * np.sqrt(np.sum((dt_tang[1]) ** 2)))\n",
    "\n",
    "t = r * np.sqrt( (tang.shape[1] - 2) / (1 - r ** 2))\n",
    "r, t"
   ],
   "metadata": {
    "collapsed": false,
    "ExecuteTime": {
     "end_time": "2023-11-24T07:40:18.609858Z",
     "start_time": "2023-11-24T07:40:18.606353Z"
    }
   },
   "id": "b1c83f17ac724ba7"
  },
  {
   "cell_type": "code",
   "execution_count": 11,
   "outputs": [
    {
     "data": {
      "text/plain": "PearsonRResult(statistic=-0.4894946761511897, pvalue=0.10626538135989474)"
     },
     "execution_count": 11,
     "metadata": {},
     "output_type": "execute_result"
    }
   ],
   "source": [
    "pearsonr(tang[0], tang[1])"
   ],
   "metadata": {
    "collapsed": false,
    "ExecuteTime": {
     "end_time": "2023-11-24T07:36:36.027492Z",
     "start_time": "2023-11-24T07:36:36.010120Z"
    }
   },
   "id": "85f946771c65c4e5"
  },
  {
   "cell_type": "markdown",
   "source": [
    "# 斯皮尔曼等级相关及假设检验"
   ],
   "metadata": {
    "collapsed": false
   },
   "id": "eaef5a241504b963"
  },
  {
   "cell_type": "code",
   "execution_count": 25,
   "outputs": [
    {
     "data": {
      "text/plain": "array([[ 1.,  2.,  4.,  6.,  8., 10., 12., 11.,  9.,  7.,  5.,  3.],\n       [11.,  2.,  7.,  3.,  5.,  6.,  1.,  4.,  8.,  9., 10., 12.]])"
     },
     "execution_count": 25,
     "metadata": {},
     "output_type": "execute_result"
    }
   ],
   "source": [
    "from scipy.stats import rankdata\n",
    "\n",
    "rank_data = rankdata(tang, axis=1)\n",
    "rank_data"
   ],
   "metadata": {
    "collapsed": false,
    "ExecuteTime": {
     "end_time": "2023-11-24T07:43:36.362073Z",
     "start_time": "2023-11-24T07:43:36.353906Z"
    }
   },
   "id": "6041dbebbf959918"
  },
  {
   "cell_type": "code",
   "execution_count": 27,
   "outputs": [
    {
     "data": {
      "text/plain": "(-0.4825174825174825, -1.7420687907187031)"
     },
     "execution_count": 27,
     "metadata": {},
     "output_type": "execute_result"
    }
   ],
   "source": [
    "# 公式法\n",
    "n = rank_data.shape[1]\n",
    "d = rank_data[0] - rank_data[1]\n",
    "\n",
    "r = 1 - (6 * np.sum(d ** 2)) / (n ** 3 - n)\n",
    "\n",
    "t = r * np.sqrt( (n - 2) / (1 - r ** 2))\n",
    "r, t"
   ],
   "metadata": {
    "collapsed": false,
    "ExecuteTime": {
     "end_time": "2023-11-24T07:46:32.660527Z",
     "start_time": "2023-11-24T07:46:32.652070Z"
    }
   },
   "id": "6be1895a0db60a7c"
  },
  {
   "cell_type": "code",
   "execution_count": 26,
   "outputs": [
    {
     "data": {
      "text/plain": "SignificanceResult(statistic=-0.4825174825174825, pvalue=0.11210929146889191)"
     },
     "execution_count": 26,
     "metadata": {},
     "output_type": "execute_result"
    }
   ],
   "source": [
    "from scipy.stats import spearmanr\n",
    "# 调用\n",
    "spearmanr(rank_data[0], rank_data[1])"
   ],
   "metadata": {
    "collapsed": false,
    "ExecuteTime": {
     "end_time": "2023-11-24T07:43:58.882261Z",
     "start_time": "2023-11-24T07:43:58.862364Z"
    }
   },
   "id": "6e3edceb9f994e49"
  },
  {
   "cell_type": "markdown",
   "source": [
    "# 肯德尔系数及假设检验\n",
    "\n",
    "## 同一评价者无相同等级评定"
   ],
   "metadata": {
    "collapsed": false
   },
   "id": "5975a33115674831"
  },
  {
   "cell_type": "code",
   "execution_count": 28,
   "outputs": [
    {
     "data": {
      "text/plain": "array([[1. , 3. , 3. , 2.5, 2.5, 1. ],\n       [3. , 1.5, 1. , 2.5, 2.5, 2. ],\n       [2. , 1.5, 2. , 1. , 1. , 3. ]])"
     },
     "execution_count": 28,
     "metadata": {},
     "output_type": "execute_result"
    }
   ],
   "source": [
    "data = np.array([\n",
    "    [1, 4, 2.5, 5, 6, 2.5],\n",
    "    [2, 3, 1, 5, 6, 4],\n",
    "    [1.5, 3, 1.5, 4, 5.5, 5.5]\n",
    "])\n",
    "\n",
    "rank_data = rankdata(data, axis=0)\n",
    "rank_data"
   ],
   "metadata": {
    "collapsed": false,
    "ExecuteTime": {
     "end_time": "2023-11-24T08:13:00.752221Z",
     "start_time": "2023-11-24T08:13:00.746278Z"
    }
   },
   "id": "4751b87fb4b4e1a6"
  },
  {
   "cell_type": "code",
   "execution_count": null,
   "outputs": [],
   "source": [
    "from scipy.stats import kendalltau\n",
    "\n",
    "kendalltau()"
   ],
   "metadata": {
    "collapsed": false
   },
   "id": "bd20dfaba39103e7"
  }
 ],
 "metadata": {
  "kernelspec": {
   "display_name": "Python 3",
   "language": "python",
   "name": "python3"
  },
  "language_info": {
   "codemirror_mode": {
    "name": "ipython",
    "version": 2
   },
   "file_extension": ".py",
   "mimetype": "text/x-python",
   "name": "python",
   "nbconvert_exporter": "python",
   "pygments_lexer": "ipython2",
   "version": "2.7.6"
  }
 },
 "nbformat": 4,
 "nbformat_minor": 5
}
