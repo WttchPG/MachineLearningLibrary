{
 "cells": [
  {
   "cell_type": "markdown",
   "source": [
    "# 1. quick start"
   ],
   "metadata": {
    "collapsed": false
   },
   "id": "6be68c90dc64d1b9"
  },
  {
   "cell_type": "code",
   "execution_count": 29,
   "outputs": [],
   "source": [
    "import torch\n",
    "from torch import nn\n",
    "import numpy as np\n",
    "from torch.utils.data import DataLoader\n",
    "from torchvision import datasets\n",
    "from torchvision.transforms import ToTensor"
   ],
   "metadata": {
    "collapsed": false,
    "ExecuteTime": {
     "end_time": "2023-10-24T03:41:13.580175Z",
     "start_time": "2023-10-24T03:41:13.544679Z"
    }
   },
   "id": "initial_id"
  },
  {
   "cell_type": "code",
   "execution_count": 30,
   "outputs": [],
   "source": [
    "# Download training data from open datasets.\n",
    "training_data = datasets.FashionMNIST(\n",
    "    root=\"data\",\n",
    "    train=True,\n",
    "    download=True,\n",
    "    transform=ToTensor(),\n",
    ")\n",
    "\n",
    "# Download test data from open datasets.\n",
    "test_data = datasets.FashionMNIST(\n",
    "    root=\"data\",\n",
    "    train=False,\n",
    "    download=True,\n",
    "    transform=ToTensor(),\n",
    ")"
   ],
   "metadata": {
    "collapsed": false,
    "ExecuteTime": {
     "end_time": "2023-10-24T03:41:13.644608Z",
     "start_time": "2023-10-24T03:41:13.551977Z"
    }
   },
   "id": "a87af0c29e1ce9cf"
  },
  {
   "cell_type": "markdown",
   "source": [
    "将`Dataset`作为参数传递给`DataLoader`。在我们的数据集上包裹了一个可迭代的，并支持自动批处理、采样、洗牌和多进程数据加载。\n",
    "\n",
    "定义一个64个批次大小，即可迭代数据加载器中的每个元素将返回一批64个功能和标签。\n",
    "\n",
    "`DataLoader`支持 map 、迭代对数据进行处理。\n",
    "* map: 是一个 tensor 到 tensor 的映射, 即: X -> y；\n",
    "* 迭代: 是一个 list(tensor) 的列表, 即: (X, y);"
   ],
   "metadata": {
    "collapsed": false
   },
   "id": "a3292e236a64f283"
  },
  {
   "cell_type": "code",
   "execution_count": 31,
   "outputs": [
    {
     "name": "stdout",
     "output_type": "stream",
     "text": [
      "torch.Size([64, 1, 28, 28]) torch.Size([64])\n"
     ]
    }
   ],
   "source": [
    "batch_size = 64\n",
    "\n",
    "training_loader = DataLoader(dataset=training_data, batch_size=batch_size)\n",
    "test_loader = DataLoader(dataset=test_data, batch_size=batch_size)\n",
    "\n",
    "for X, y in training_loader: # type: (np.ndarray, np.ndarray)\n",
    "    print(X.shape, y.shape)\n",
    "    break"
   ],
   "metadata": {
    "collapsed": false,
    "ExecuteTime": {
     "end_time": "2023-10-24T03:41:13.645647Z",
     "start_time": "2023-10-24T03:41:13.582084Z"
    }
   },
   "id": "44b8668a34f3595f"
  },
  {
   "cell_type": "markdown",
   "source": [
    "## mac torch 加速 mps"
   ],
   "metadata": {
    "collapsed": false
   },
   "id": "ce954c0ed859e349"
  },
  {
   "cell_type": "code",
   "execution_count": 32,
   "outputs": [
    {
     "data": {
      "text/plain": "(True, True)"
     },
     "execution_count": 32,
     "metadata": {},
     "output_type": "execute_result"
    }
   ],
   "source": [
    "torch.backends.mps.is_available(), torch.backends.mps.is_built()"
   ],
   "metadata": {
    "collapsed": false,
    "ExecuteTime": {
     "end_time": "2023-10-24T03:41:13.645885Z",
     "start_time": "2023-10-24T03:41:13.591907Z"
    }
   },
   "id": "4d84f69141827838"
  },
  {
   "cell_type": "code",
   "execution_count": 39,
   "outputs": [
    {
     "data": {
      "text/plain": "tensor([[0.5061, 0.5847],\n        [0.2257, 0.8152],\n        [0.3402, 0.5185]], device='mps:0')"
     },
     "execution_count": 39,
     "metadata": {},
     "output_type": "execute_result"
    }
   ],
   "source": [
    "device = torch.device('mps')\n",
    "# 指定 device\n",
    "torch.rand((3, 2), device=device)"
   ],
   "metadata": {
    "collapsed": false,
    "ExecuteTime": {
     "end_time": "2023-10-24T03:42:11.157016Z",
     "start_time": "2023-10-24T03:42:11.142276Z"
    }
   },
   "id": "8dbfe19f4bb79f48"
  },
  {
   "cell_type": "markdown",
   "source": [
    "# 2. tensor\n",
    "\n",
    "`tensor`类似于 NumPy 的`ndarray`s，只是张量可以在GPU或其他硬件加速器上运行。\n",
    "事实上，`tensor`和 NumPy 数组通常可以共享相同的底层内存，无需复制数据。\n",
    "\n",
    "## tensor 和 numpy 转换\n",
    "\n",
    "tensor 转换为 numpy 数组"
   ],
   "metadata": {
    "collapsed": false
   },
   "id": "20e5ec761f93f1a1"
  },
  {
   "cell_type": "code",
   "execution_count": 34,
   "outputs": [
    {
     "data": {
      "text/plain": "array([1., 1., 1., 1., 1.], dtype=float32)"
     },
     "execution_count": 34,
     "metadata": {},
     "output_type": "execute_result"
    }
   ],
   "source": [
    "t = torch.ones(5)\n",
    "t.numpy()"
   ],
   "metadata": {
    "collapsed": false,
    "ExecuteTime": {
     "end_time": "2023-10-24T03:41:13.646255Z",
     "start_time": "2023-10-24T03:41:13.599319Z"
    }
   },
   "id": "badbe3aaa80511eb"
  },
  {
   "cell_type": "markdown",
   "source": [
    "numpy 数组 转换为 tensor"
   ],
   "metadata": {
    "collapsed": false
   },
   "id": "1d9f50312cce6f35"
  },
  {
   "cell_type": "code",
   "execution_count": 35,
   "outputs": [
    {
     "data": {
      "text/plain": "tensor([1., 1., 1., 1., 1.], dtype=torch.float64)"
     },
     "execution_count": 35,
     "metadata": {},
     "output_type": "execute_result"
    }
   ],
   "source": [
    "n = np.ones(5)\n",
    "torch.from_numpy(n)"
   ],
   "metadata": {
    "collapsed": false,
    "ExecuteTime": {
     "end_time": "2023-10-24T03:41:13.646431Z",
     "start_time": "2023-10-24T03:41:13.603067Z"
    }
   },
   "id": "f0f0bee0899dcee8"
  },
  {
   "cell_type": "code",
   "execution_count": 36,
   "outputs": [
    {
     "name": "stdout",
     "output_type": "stream",
     "text": [
      "Random Tensor: \n",
      " tensor([[0.9436, 0.6357, 0.1043],\n",
      "        [0.3591, 0.8148, 0.9719]]) \n",
      "\n",
      "Ones Tensor: \n",
      " tensor([[1., 1., 1.],\n",
      "        [1., 1., 1.]]) \n",
      "\n",
      "Zeros Tensor: \n",
      " tensor([[0., 0., 0.],\n",
      "        [0., 0., 0.]])\n"
     ]
    }
   ],
   "source": [
    "shape = (2,3)\n",
    "rand_tensor = torch.rand(shape)\n",
    "ones_tensor = torch.ones(shape)\n",
    "zeros_tensor = torch.zeros(shape)\n",
    "\n",
    "print(f\"Random Tensor: \\n {rand_tensor} \\n\")\n",
    "print(f\"Ones Tensor: \\n {ones_tensor} \\n\")\n",
    "print(f\"Zeros Tensor: \\n {zeros_tensor}\")"
   ],
   "metadata": {
    "collapsed": false,
    "ExecuteTime": {
     "end_time": "2023-10-24T03:41:13.646728Z",
     "start_time": "2023-10-24T03:41:13.607192Z"
    }
   },
   "id": "350ea1ca34c9bb41"
  },
  {
   "cell_type": "code",
   "execution_count": 40,
   "outputs": [
    {
     "name": "stdout",
     "output_type": "stream",
     "text": [
      "Shape of tensor: torch.Size([3, 4])\n",
      "Datatype of tensor: torch.float32\n",
      "Device tensor is stored on: cpu\n"
     ]
    }
   ],
   "source": [
    "tensor = torch.rand(3,4)\n",
    "\n",
    "print(f\"Shape of tensor: {tensor.shape}\")\n",
    "print(f\"Datatype of tensor: {tensor.dtype}\")\n",
    "print(f\"Device tensor is stored on: {tensor.device}\")"
   ],
   "metadata": {
    "collapsed": false,
    "ExecuteTime": {
     "end_time": "2023-10-24T03:43:49.281164Z",
     "start_time": "2023-10-24T03:43:49.258628Z"
    }
   },
   "id": "ca2c83c83cdb143"
  },
  {
   "cell_type": "code",
   "execution_count": 44,
   "outputs": [
    {
     "data": {
      "text/plain": "device(type='mps', index=0)"
     },
     "execution_count": 44,
     "metadata": {},
     "output_type": "execute_result"
    }
   ],
   "source": [
    "if torch.mps:\n",
    "    tensor = tensor.to('mps')"
   ],
   "metadata": {
    "collapsed": false,
    "ExecuteTime": {
     "end_time": "2023-10-24T03:45:37.851625Z",
     "start_time": "2023-10-24T03:45:37.843458Z"
    }
   },
   "id": "8c45507a2a16428b"
  }
 ],
 "metadata": {
  "kernelspec": {
   "display_name": "Python 3",
   "language": "python",
   "name": "python3"
  },
  "language_info": {
   "codemirror_mode": {
    "name": "ipython",
    "version": 2
   },
   "file_extension": ".py",
   "mimetype": "text/x-python",
   "name": "python",
   "nbconvert_exporter": "python",
   "pygments_lexer": "ipython2",
   "version": "2.7.6"
  }
 },
 "nbformat": 4,
 "nbformat_minor": 5
}
