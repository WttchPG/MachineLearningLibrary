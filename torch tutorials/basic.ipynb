{
 "cells": [
  {
   "cell_type": "markdown",
   "source": [
    "# 1. quick start"
   ],
   "metadata": {
    "collapsed": false
   },
   "id": "6be68c90dc64d1b9"
  },
  {
   "cell_type": "code",
   "execution_count": 18,
   "outputs": [],
   "source": [
    "import torch\n",
    "from torch import nn\n",
    "import numpy as np\n",
    "from torch.utils.data import DataLoader, Dataset\n",
    "from torchvision import datasets\n",
    "from torchvision.transforms import ToTensor\n",
    "\n",
    "import matplotlib.pyplot as plt"
   ],
   "metadata": {
    "collapsed": false,
    "ExecuteTime": {
     "end_time": "2023-12-01T06:51:23.997313Z",
     "start_time": "2023-12-01T06:51:23.752919Z"
    }
   },
   "id": "initial_id"
  },
  {
   "cell_type": "code",
   "execution_count": 19,
   "outputs": [],
   "source": [
    "# Download training data from open datasets.\n",
    "training_data = datasets.FashionMNIST(\n",
    "    root=\"data\",\n",
    "    train=True,\n",
    "    download=True,\n",
    "    transform=ToTensor(),\n",
    ")\n",
    "\n",
    "# Download test data from open datasets.\n",
    "test_data = datasets.FashionMNIST(\n",
    "    root=\"data\",\n",
    "    train=False,\n",
    "    download=True,\n",
    "    transform=ToTensor(),\n",
    ")"
   ],
   "metadata": {
    "collapsed": false,
    "ExecuteTime": {
     "end_time": "2023-12-01T06:51:24.356121Z",
     "start_time": "2023-12-01T06:51:23.758277Z"
    }
   },
   "id": "a87af0c29e1ce9cf"
  },
  {
   "cell_type": "markdown",
   "source": [
    "将`Dataset`作为参数传递给`DataLoader`。在我们的数据集上包裹了一个可迭代的，并支持自动批处理、采样、洗牌和多进程数据加载。\n",
    "\n",
    "定义一个64个批次大小，即可迭代数据加载器中的每个元素将返回一批64个功能和标签。\n",
    "\n",
    "`DataLoader`支持 map 、迭代对数据进行处理。\n",
    "* map: 是一个 tensor 到 tensor 的映射, 即: X -> y；\n",
    "* 迭代: 是一个 list(tensor) 的列表, 即: (X, y);"
   ],
   "metadata": {
    "collapsed": false
   },
   "id": "a3292e236a64f283"
  },
  {
   "cell_type": "code",
   "execution_count": 20,
   "outputs": [
    {
     "name": "stdout",
     "output_type": "stream",
     "text": [
      "torch.Size([64, 1, 28, 28]) torch.Size([64])\n"
     ]
    }
   ],
   "source": [
    "batch_size = 64\n",
    "\n",
    "training_loader = DataLoader(dataset=training_data, batch_size=batch_size)\n",
    "test_loader = DataLoader(dataset=test_data, batch_size=batch_size)\n",
    "\n",
    "for X, y in training_loader: # type: (np.ndarray, np.ndarray)\n",
    "    print(X.shape, y.shape)\n",
    "    break"
   ],
   "metadata": {
    "collapsed": false,
    "ExecuteTime": {
     "end_time": "2023-12-01T06:51:24.416466Z",
     "start_time": "2023-12-01T06:51:23.787023Z"
    }
   },
   "id": "44b8668a34f3595f"
  },
  {
   "cell_type": "markdown",
   "source": [
    "## mac torch 加速 mps"
   ],
   "metadata": {
    "collapsed": false
   },
   "id": "ce954c0ed859e349"
  },
  {
   "cell_type": "code",
   "execution_count": 21,
   "outputs": [
    {
     "data": {
      "text/plain": "(True, True)"
     },
     "execution_count": 21,
     "metadata": {},
     "output_type": "execute_result"
    }
   ],
   "source": [
    "torch.backends.mps.is_available(), torch.backends.mps.is_built()"
   ],
   "metadata": {
    "collapsed": false,
    "ExecuteTime": {
     "end_time": "2023-12-01T06:51:24.423635Z",
     "start_time": "2023-12-01T06:51:23.794686Z"
    }
   },
   "id": "4d84f69141827838"
  },
  {
   "cell_type": "code",
   "execution_count": 22,
   "outputs": [
    {
     "data": {
      "text/plain": "tensor([[0.4919, 0.5320],\n        [0.5621, 0.4893],\n        [0.7877, 0.4495]], device='mps:0')"
     },
     "execution_count": 22,
     "metadata": {},
     "output_type": "execute_result"
    }
   ],
   "source": [
    "device = torch.device('mps')\n",
    "# 指定 device\n",
    "torch.rand((3, 2), device=device)"
   ],
   "metadata": {
    "collapsed": false,
    "ExecuteTime": {
     "end_time": "2023-12-01T06:51:24.448996Z",
     "start_time": "2023-12-01T06:51:23.800834Z"
    }
   },
   "id": "8dbfe19f4bb79f48"
  },
  {
   "cell_type": "markdown",
   "source": [
    "# 2. tensor\n",
    "\n",
    "`tensor`类似于 NumPy 的`ndarray`s，只是张量可以在GPU或其他硬件加速器上运行。\n",
    "事实上，`tensor`和 NumPy 数组通常可以共享相同的底层内存，无需复制数据。\n",
    "\n",
    "## tensor 和 numpy 转换\n",
    "\n",
    "tensor 转换为 numpy 数组"
   ],
   "metadata": {
    "collapsed": false
   },
   "id": "20e5ec761f93f1a1"
  },
  {
   "cell_type": "code",
   "execution_count": 23,
   "outputs": [
    {
     "data": {
      "text/plain": "array([1., 1., 1., 1., 1.], dtype=float32)"
     },
     "execution_count": 23,
     "metadata": {},
     "output_type": "execute_result"
    }
   ],
   "source": [
    "t = torch.ones(5)\n",
    "t.numpy()"
   ],
   "metadata": {
    "collapsed": false,
    "ExecuteTime": {
     "end_time": "2023-12-01T06:51:24.469231Z",
     "start_time": "2023-12-01T06:51:23.813019Z"
    }
   },
   "id": "badbe3aaa80511eb"
  },
  {
   "cell_type": "markdown",
   "source": [
    "numpy 数组 转换为 tensor"
   ],
   "metadata": {
    "collapsed": false
   },
   "id": "1d9f50312cce6f35"
  },
  {
   "cell_type": "code",
   "execution_count": 24,
   "outputs": [
    {
     "data": {
      "text/plain": "tensor([1., 1., 1., 1., 1.], dtype=torch.float64)"
     },
     "execution_count": 24,
     "metadata": {},
     "output_type": "execute_result"
    }
   ],
   "source": [
    "n = np.ones(5)\n",
    "torch.from_numpy(n)"
   ],
   "metadata": {
    "collapsed": false,
    "ExecuteTime": {
     "end_time": "2023-12-01T06:51:24.469862Z",
     "start_time": "2023-12-01T06:51:23.818779Z"
    }
   },
   "id": "f0f0bee0899dcee8"
  },
  {
   "cell_type": "code",
   "execution_count": 25,
   "outputs": [
    {
     "name": "stdout",
     "output_type": "stream",
     "text": [
      "Random Tensor: \n",
      " tensor([[0.1135, 0.1835, 0.1242],\n",
      "        [0.6622, 0.9394, 0.9275]]) \n",
      "\n",
      "Ones Tensor: \n",
      " tensor([[1., 1., 1.],\n",
      "        [1., 1., 1.]]) \n",
      "\n",
      "Zeros Tensor: \n",
      " tensor([[0., 0., 0.],\n",
      "        [0., 0., 0.]])\n"
     ]
    }
   ],
   "source": [
    "shape = (2,3)\n",
    "rand_tensor = torch.rand(shape)\n",
    "ones_tensor = torch.ones(shape)\n",
    "zeros_tensor = torch.zeros(shape)\n",
    "\n",
    "print(f\"Random Tensor: \\n {rand_tensor} \\n\")\n",
    "print(f\"Ones Tensor: \\n {ones_tensor} \\n\")\n",
    "print(f\"Zeros Tensor: \\n {zeros_tensor}\")"
   ],
   "metadata": {
    "collapsed": false,
    "ExecuteTime": {
     "end_time": "2023-12-01T06:51:24.495469Z",
     "start_time": "2023-12-01T06:51:23.823743Z"
    }
   },
   "id": "350ea1ca34c9bb41"
  },
  {
   "cell_type": "code",
   "execution_count": 26,
   "outputs": [
    {
     "name": "stdout",
     "output_type": "stream",
     "text": [
      "Shape of tensor: torch.Size([3, 4])\n",
      "Datatype of tensor: torch.float32\n",
      "Device tensor is stored on: cpu\n"
     ]
    }
   ],
   "source": [
    "tensor = torch.rand(3,4)\n",
    "\n",
    "print(f\"Shape of tensor: {tensor.shape}\")\n",
    "print(f\"Datatype of tensor: {tensor.dtype}\")\n",
    "print(f\"Device tensor is stored on: {tensor.device}\")"
   ],
   "metadata": {
    "collapsed": false,
    "ExecuteTime": {
     "end_time": "2023-12-01T06:51:24.496263Z",
     "start_time": "2023-12-01T06:51:23.828868Z"
    }
   },
   "id": "ca2c83c83cdb143"
  },
  {
   "cell_type": "markdown",
   "source": [
    "# 3. 数据集和数据加载器\n",
    "\n",
    "PyTorch提供两个数据原型：`torch.utils.data.DataLoader`和`torch.utils.data.Dataset`，允许您使用预加载的数据集以及您自己的数据。\n",
    "`Dataset` 存储样本及其相应的标签，`DataLoader`将可迭代的包裹在Dataset周围，以便轻松访问样本。\n",
    "\n",
    "## 加载数据集\n",
    "加载 FashionMNIST 数据集:"
   ],
   "metadata": {
    "collapsed": false
   },
   "id": "4d95d2beb18e2da7"
  },
  {
   "cell_type": "code",
   "execution_count": 27,
   "outputs": [],
   "source": [
    "\n",
    "training_data = datasets.FashionMNIST(\n",
    "    root=\"data\",\n",
    "    train=True,\n",
    "    download=True,\n",
    "    transform=ToTensor()\n",
    ")\n",
    "\n",
    "test_data = datasets.FashionMNIST(\n",
    "    root=\"data\",\n",
    "    train=False,\n",
    "    download=True,\n",
    "    transform=ToTensor()\n",
    ")"
   ],
   "metadata": {
    "collapsed": false,
    "ExecuteTime": {
     "end_time": "2023-12-01T06:51:24.523216Z",
     "start_time": "2023-12-01T06:51:23.834485Z"
    }
   },
   "id": "b9d4ee33a3699d7c"
  },
  {
   "cell_type": "markdown",
   "source": [
    "## 迭代和可视化数据集"
   ],
   "metadata": {
    "collapsed": false
   },
   "id": "e0827b1dc25e6565"
  },
  {
   "cell_type": "code",
   "execution_count": 28,
   "outputs": [
    {
     "data": {
      "text/plain": "<Figure size 800x800 with 9 Axes>",
      "image/png": "[encoded data removed]"
     },
     "metadata": {},
     "output_type": "display_data"
    }
   ],
   "source": [
    "labels_map = {\n",
    "    0: \"T-Shirt\",\n",
    "    1: \"Trouser\",\n",
    "    2: \"Pullover\",\n",
    "    3: \"Dress\",\n",
    "    4: \"Coat\",\n",
    "    5: \"Sandal\",\n",
    "    6: \"Shirt\",\n",
    "    7: \"Sneaker\",\n",
    "    8: \"Bag\",\n",
    "    9: \"Ankle Boot\",\n",
    "}\n",
    "figure = plt.figure(figsize=(8, 8))\n",
    "cols, rows = 3, 3\n",
    "# 抽9幅图片并可视化出来\n",
    "for i in range(1, cols * rows + 1):\n",
    "    sample_idx = torch.randint(len(training_data), size=(1,)).item()\n",
    "    img, img_label = training_data[sample_idx]\n",
    "    figure.add_subplot(rows, cols, i)\n",
    "    plt.title(labels_map[img_label])\n",
    "    plt.axis(\"off\")\n",
    "    plt.imshow(img.squeeze(), cmap=\"gray\")\n",
    "plt.show()"
   ],
   "metadata": {
    "collapsed": false,
    "ExecuteTime": {
     "end_time": "2023-12-01T06:51:24.873408Z",
     "start_time": "2023-12-01T06:51:23.861265Z"
    }
   },
   "id": "78b13251c2b5dac6"
  },
  {
   "cell_type": "markdown",
   "source": [
    "## 为您的文件创造自定义数据集\n",
    "\n",
    "自定义数据集类必须实现三个函数: `__init__`, `__len__`, `__getitem__`。"
   ],
   "metadata": {
    "collapsed": false
   },
   "id": "1bd7f5cff9aa8e92"
  },
  {
   "cell_type": "code",
   "execution_count": 29,
   "outputs": [],
   "source": [
    "import os\n",
    "import pandas as pd\n",
    "from torchvision.io import read_image\n",
    "\n",
    "# FashionMNIST 实现\n",
    "class CustomImageDataset(Dataset):\n",
    "    \n",
    "    def __init__(self, annotation_file, img_dir, transform=None, target_transform=None):\n",
    "        self.image_labels = pd.read_csv(annotation_file)\n",
    "        self.image_dir = img_dir\n",
    "        # 样本转换器，一般是一个 callable 就行，相当于编码器：将图片转换为 tensor 等。\n",
    "        self.transform = transform\n",
    "        # 目标样本转换器\n",
    "        self.target_transform = target_transform\n",
    "    \n",
    "    def __len__(self):\n",
    "        return len(self.image_labels)\n",
    "    \n",
    "    def __getitem__(self, idx):\n",
    "        img_path = os.path.join(self.image_dir, self.image_labels.iloc[idx, 0])\n",
    "        image = read_image(img_path)\n",
    "        label = self.image_labels.iloc[idx, 1]\n",
    "        if self.transform:\n",
    "            image = self.transform(image)\n",
    "        if self.target_transform:\n",
    "            label = self.target_transform(label)\n",
    "        \n",
    "        return image, label\n",
    "        "
   ],
   "metadata": {
    "collapsed": false,
    "ExecuteTime": {
     "end_time": "2023-12-01T06:51:24.873883Z",
     "start_time": "2023-12-01T06:51:24.347103Z"
    }
   },
   "id": "771243be8673adf8"
  },
  {
   "cell_type": "markdown",
   "source": [
    "## 使用 DataLoaders 准备数据进行训练\n",
    "\n",
    "## 使用 DataLoader 迭代\n"
   ],
   "metadata": {
    "collapsed": false
   },
   "id": "6227a3bc2e6afdc8"
  },
  {
   "cell_type": "code",
   "execution_count": 30,
   "outputs": [
    {
     "name": "stdout",
     "output_type": "stream",
     "text": [
      "Feature batch shape: torch.Size([64, 1, 28, 28])\n",
      "Labels batch shape: torch.Size([64])\n"
     ]
    },
    {
     "data": {
      "text/plain": "<Figure size 640x480 with 1 Axes>",
      "image/png": "[encoded data removed]"
     },
     "metadata": {},
     "output_type": "display_data"
    },
    {
     "name": "stdout",
     "output_type": "stream",
     "text": [
      "Label: 9\n"
     ]
    }
   ],
   "source": [
    "# Display image and label.\n",
    "train_features, train_labels = next(iter(training_loader))\n",
    "print(f\"Feature batch shape: {train_features.size()}\")\n",
    "print(f\"Labels batch shape: {train_labels.size()}\")\n",
    "img = train_features[0].squeeze()\n",
    "label = train_labels[0]\n",
    "plt.imshow(img, cmap=\"gray\")\n",
    "plt.show()\n",
    "print(f\"Label: {label}\")"
   ],
   "metadata": {
    "collapsed": false,
    "ExecuteTime": {
     "end_time": "2023-12-01T06:51:25.105296Z",
     "start_time": "2023-12-01T06:51:24.354346Z"
    }
   },
   "id": "f228fea652b38eea"
  },
  {
   "cell_type": "markdown",
   "source": [
    "# 4. Transform\n",
    "\n",
    "ToTensor、Lambda"
   ],
   "metadata": {
    "collapsed": false
   },
   "id": "7c9f9c32af674329"
  },
  {
   "cell_type": "code",
   "execution_count": 31,
   "outputs": [],
   "source": [
    "from torchvision.transforms import ToTensor, Lambda\n",
    "\n",
    "ds = datasets.FashionMNIST(\n",
    "    root=\"data\",\n",
    "    train=True,\n",
    "    download=True,\n",
    "    transform=ToTensor(),\n",
    "    target_transform=Lambda(lambda y: torch.zeros(10, dtype=torch.float).scatter_(0, torch.tensor(y), value=1))\n",
    ")"
   ],
   "metadata": {
    "collapsed": false,
    "ExecuteTime": {
     "end_time": "2023-12-01T06:51:25.106609Z",
     "start_time": "2023-12-01T06:51:24.511408Z"
    }
   },
   "id": "bde1c084fdbd153a"
  },
  {
   "cell_type": "code",
   "execution_count": 32,
   "outputs": [
    {
     "name": "stdout",
     "output_type": "stream",
     "text": [
      "tensor([[[0.0000, 0.0000, 0.0000, 0.0000, 0.0000, 0.0000, 0.0000, 0.0000,\n",
      "          0.0000, 0.0000, 0.0000, 0.0000, 0.0000, 0.0000, 0.0000, 0.0000,\n",
      "          0.0000, 0.0000, 0.0000, 0.0000, 0.0000, 0.0000, 0.0000, 0.0000,\n",
      "          0.0000, 0.0000, 0.0000, 0.0000],\n",
      "         [0.0000, 0.0000, 0.0000, 0.0000, 0.0000, 0.0000, 0.0000, 0.0000,\n",
      "          0.0000, 0.0000, 0.0000, 0.0000, 0.0000, 0.0000, 0.0000, 0.0000,\n",
      "          0.0000, 0.0000, 0.0000, 0.0000, 0.0000, 0.0000, 0.0000, 0.0000,\n",
      "          0.0000, 0.0000, 0.0000, 0.0000],\n",
      "         [0.0000, 0.0000, 0.0000, 0.0000, 0.0000, 0.0000, 0.0000, 0.0000,\n",
      "          0.0000, 0.0000, 0.0000, 0.0000, 0.0000, 0.0000, 0.0000, 0.0000,\n",
      "          0.0000, 0.0000, 0.0000, 0.0000, 0.0000, 0.0000, 0.0000, 0.0000,\n",
      "          0.0000, 0.0000, 0.0000, 0.0000],\n",
      "         [0.0000, 0.0000, 0.0000, 0.0000, 0.0000, 0.0000, 0.0000, 0.0000,\n",
      "          0.0000, 0.0000, 0.0000, 0.0000, 0.0039, 0.0000, 0.0000, 0.0510,\n",
      "          0.2863, 0.0000, 0.0000, 0.0039, 0.0157, 0.0000, 0.0000, 0.0000,\n",
      "          0.0000, 0.0039, 0.0039, 0.0000],\n",
      "         [0.0000, 0.0000, 0.0000, 0.0000, 0.0000, 0.0000, 0.0000, 0.0000,\n",
      "          0.0000, 0.0000, 0.0000, 0.0000, 0.0118, 0.0000, 0.1412, 0.5333,\n",
      "          0.4980, 0.2431, 0.2118, 0.0000, 0.0000, 0.0000, 0.0039, 0.0118,\n",
      "          0.0157, 0.0000, 0.0000, 0.0118],\n",
      "         [0.0000, 0.0000, 0.0000, 0.0000, 0.0000, 0.0000, 0.0000, 0.0000,\n",
      "          0.0000, 0.0000, 0.0000, 0.0000, 0.0235, 0.0000, 0.4000, 0.8000,\n",
      "          0.6902, 0.5255, 0.5647, 0.4824, 0.0902, 0.0000, 0.0000, 0.0000,\n",
      "          0.0000, 0.0471, 0.0392, 0.0000],\n",
      "         [0.0000, 0.0000, 0.0000, 0.0000, 0.0000, 0.0000, 0.0000, 0.0000,\n",
      "          0.0000, 0.0000, 0.0000, 0.0000, 0.0000, 0.0000, 0.6078, 0.9255,\n",
      "          0.8118, 0.6980, 0.4196, 0.6118, 0.6314, 0.4275, 0.2510, 0.0902,\n",
      "          0.3020, 0.5098, 0.2824, 0.0588],\n",
      "         [0.0000, 0.0000, 0.0000, 0.0000, 0.0000, 0.0000, 0.0000, 0.0000,\n",
      "          0.0000, 0.0000, 0.0000, 0.0039, 0.0000, 0.2706, 0.8118, 0.8745,\n",
      "          0.8549, 0.8471, 0.8471, 0.6392, 0.4980, 0.4745, 0.4784, 0.5725,\n",
      "          0.5529, 0.3451, 0.6745, 0.2588],\n",
      "         [0.0000, 0.0000, 0.0000, 0.0000, 0.0000, 0.0000, 0.0000, 0.0000,\n",
      "          0.0000, 0.0039, 0.0039, 0.0039, 0.0000, 0.7843, 0.9098, 0.9098,\n",
      "          0.9137, 0.8980, 0.8745, 0.8745, 0.8431, 0.8353, 0.6431, 0.4980,\n",
      "          0.4824, 0.7686, 0.8980, 0.0000],\n",
      "         [0.0000, 0.0000, 0.0000, 0.0000, 0.0000, 0.0000, 0.0000, 0.0000,\n",
      "          0.0000, 0.0000, 0.0000, 0.0000, 0.0000, 0.7176, 0.8824, 0.8471,\n",
      "          0.8745, 0.8941, 0.9216, 0.8902, 0.8784, 0.8706, 0.8784, 0.8667,\n",
      "          0.8745, 0.9608, 0.6784, 0.0000],\n",
      "         [0.0000, 0.0000, 0.0000, 0.0000, 0.0000, 0.0000, 0.0000, 0.0000,\n",
      "          0.0000, 0.0000, 0.0000, 0.0000, 0.0000, 0.7569, 0.8941, 0.8549,\n",
      "          0.8353, 0.7765, 0.7059, 0.8314, 0.8235, 0.8275, 0.8353, 0.8745,\n",
      "          0.8627, 0.9529, 0.7922, 0.0000],\n",
      "         [0.0000, 0.0000, 0.0000, 0.0000, 0.0000, 0.0000, 0.0000, 0.0000,\n",
      "          0.0000, 0.0039, 0.0118, 0.0000, 0.0471, 0.8588, 0.8627, 0.8314,\n",
      "          0.8549, 0.7529, 0.6627, 0.8902, 0.8157, 0.8549, 0.8784, 0.8314,\n",
      "          0.8863, 0.7725, 0.8196, 0.2039],\n",
      "         [0.0000, 0.0000, 0.0000, 0.0000, 0.0000, 0.0000, 0.0000, 0.0000,\n",
      "          0.0000, 0.0000, 0.0235, 0.0000, 0.3882, 0.9569, 0.8706, 0.8627,\n",
      "          0.8549, 0.7961, 0.7765, 0.8667, 0.8431, 0.8353, 0.8706, 0.8627,\n",
      "          0.9608, 0.4667, 0.6549, 0.2196],\n",
      "         [0.0000, 0.0000, 0.0000, 0.0000, 0.0000, 0.0000, 0.0000, 0.0000,\n",
      "          0.0000, 0.0157, 0.0000, 0.0000, 0.2157, 0.9255, 0.8941, 0.9020,\n",
      "          0.8941, 0.9412, 0.9098, 0.8353, 0.8549, 0.8745, 0.9176, 0.8510,\n",
      "          0.8510, 0.8196, 0.3608, 0.0000],\n",
      "         [0.0000, 0.0000, 0.0039, 0.0157, 0.0235, 0.0275, 0.0078, 0.0000,\n",
      "          0.0000, 0.0000, 0.0000, 0.0000, 0.9294, 0.8863, 0.8510, 0.8745,\n",
      "          0.8706, 0.8588, 0.8706, 0.8667, 0.8471, 0.8745, 0.8980, 0.8431,\n",
      "          0.8549, 1.0000, 0.3020, 0.0000],\n",
      "         [0.0000, 0.0118, 0.0000, 0.0000, 0.0000, 0.0000, 0.0000, 0.0000,\n",
      "          0.0000, 0.2431, 0.5686, 0.8000, 0.8941, 0.8118, 0.8353, 0.8667,\n",
      "          0.8549, 0.8157, 0.8275, 0.8549, 0.8784, 0.8745, 0.8588, 0.8431,\n",
      "          0.8784, 0.9569, 0.6235, 0.0000],\n",
      "         [0.0000, 0.0000, 0.0000, 0.0000, 0.0706, 0.1725, 0.3216, 0.4196,\n",
      "          0.7412, 0.8941, 0.8627, 0.8706, 0.8510, 0.8863, 0.7843, 0.8039,\n",
      "          0.8275, 0.9020, 0.8784, 0.9176, 0.6902, 0.7373, 0.9804, 0.9725,\n",
      "          0.9137, 0.9333, 0.8431, 0.0000],\n",
      "         [0.0000, 0.2235, 0.7333, 0.8157, 0.8784, 0.8667, 0.8784, 0.8157,\n",
      "          0.8000, 0.8392, 0.8157, 0.8196, 0.7843, 0.6235, 0.9608, 0.7569,\n",
      "          0.8078, 0.8745, 1.0000, 1.0000, 0.8667, 0.9176, 0.8667, 0.8275,\n",
      "          0.8627, 0.9098, 0.9647, 0.0000],\n",
      "         [0.0118, 0.7922, 0.8941, 0.8784, 0.8667, 0.8275, 0.8275, 0.8392,\n",
      "          0.8039, 0.8039, 0.8039, 0.8627, 0.9412, 0.3137, 0.5882, 1.0000,\n",
      "          0.8980, 0.8667, 0.7373, 0.6039, 0.7490, 0.8235, 0.8000, 0.8196,\n",
      "          0.8706, 0.8941, 0.8824, 0.0000],\n",
      "         [0.3843, 0.9137, 0.7765, 0.8235, 0.8706, 0.8980, 0.8980, 0.9176,\n",
      "          0.9765, 0.8627, 0.7608, 0.8431, 0.8510, 0.9451, 0.2549, 0.2863,\n",
      "          0.4157, 0.4588, 0.6588, 0.8588, 0.8667, 0.8431, 0.8510, 0.8745,\n",
      "          0.8745, 0.8784, 0.8980, 0.1137],\n",
      "         [0.2941, 0.8000, 0.8314, 0.8000, 0.7569, 0.8039, 0.8275, 0.8824,\n",
      "          0.8471, 0.7255, 0.7725, 0.8078, 0.7765, 0.8353, 0.9412, 0.7647,\n",
      "          0.8902, 0.9608, 0.9373, 0.8745, 0.8549, 0.8314, 0.8196, 0.8706,\n",
      "          0.8627, 0.8667, 0.9020, 0.2627],\n",
      "         [0.1882, 0.7961, 0.7176, 0.7608, 0.8353, 0.7725, 0.7255, 0.7451,\n",
      "          0.7608, 0.7529, 0.7922, 0.8392, 0.8588, 0.8667, 0.8627, 0.9255,\n",
      "          0.8824, 0.8471, 0.7804, 0.8078, 0.7294, 0.7098, 0.6941, 0.6745,\n",
      "          0.7098, 0.8039, 0.8078, 0.4510],\n",
      "         [0.0000, 0.4784, 0.8588, 0.7569, 0.7020, 0.6706, 0.7176, 0.7686,\n",
      "          0.8000, 0.8235, 0.8353, 0.8118, 0.8275, 0.8235, 0.7843, 0.7686,\n",
      "          0.7608, 0.7490, 0.7647, 0.7490, 0.7765, 0.7529, 0.6902, 0.6118,\n",
      "          0.6549, 0.6941, 0.8235, 0.3608],\n",
      "         [0.0000, 0.0000, 0.2902, 0.7412, 0.8314, 0.7490, 0.6863, 0.6745,\n",
      "          0.6863, 0.7098, 0.7255, 0.7373, 0.7412, 0.7373, 0.7569, 0.7765,\n",
      "          0.8000, 0.8196, 0.8235, 0.8235, 0.8275, 0.7373, 0.7373, 0.7608,\n",
      "          0.7529, 0.8471, 0.6667, 0.0000],\n",
      "         [0.0078, 0.0000, 0.0000, 0.0000, 0.2588, 0.7843, 0.8706, 0.9294,\n",
      "          0.9373, 0.9490, 0.9647, 0.9529, 0.9569, 0.8667, 0.8627, 0.7569,\n",
      "          0.7490, 0.7020, 0.7137, 0.7137, 0.7098, 0.6902, 0.6510, 0.6588,\n",
      "          0.3882, 0.2275, 0.0000, 0.0000],\n",
      "         [0.0000, 0.0000, 0.0000, 0.0000, 0.0000, 0.0000, 0.0000, 0.1569,\n",
      "          0.2392, 0.1725, 0.2824, 0.1608, 0.1373, 0.0000, 0.0000, 0.0000,\n",
      "          0.0000, 0.0000, 0.0000, 0.0000, 0.0000, 0.0000, 0.0000, 0.0000,\n",
      "          0.0000, 0.0000, 0.0000, 0.0000],\n",
      "         [0.0000, 0.0000, 0.0000, 0.0000, 0.0000, 0.0000, 0.0000, 0.0000,\n",
      "          0.0000, 0.0000, 0.0000, 0.0000, 0.0000, 0.0000, 0.0000, 0.0000,\n",
      "          0.0000, 0.0000, 0.0000, 0.0000, 0.0000, 0.0000, 0.0000, 0.0000,\n",
      "          0.0000, 0.0000, 0.0000, 0.0000],\n",
      "         [0.0000, 0.0000, 0.0000, 0.0000, 0.0000, 0.0000, 0.0000, 0.0000,\n",
      "          0.0000, 0.0000, 0.0000, 0.0000, 0.0000, 0.0000, 0.0000, 0.0000,\n",
      "          0.0000, 0.0000, 0.0000, 0.0000, 0.0000, 0.0000, 0.0000, 0.0000,\n",
      "          0.0000, 0.0000, 0.0000, 0.0000]]]) tensor([0., 0., 0., 0., 0., 0., 0., 0., 0., 1.])\n"
     ]
    }
   ],
   "source": [
    "for k, v in ds:\n",
    "    print(k, v)\n",
    "    break"
   ],
   "metadata": {
    "collapsed": false,
    "ExecuteTime": {
     "end_time": "2023-12-01T06:51:25.107192Z",
     "start_time": "2023-12-01T06:51:24.535386Z"
    }
   },
   "id": "ca52057fefd2fd55"
  },
  {
   "cell_type": "markdown",
   "source": [
    "# 5. 建立神经网络\n",
    "\n",
    "## 获取训练设备"
   ],
   "metadata": {
    "collapsed": false
   },
   "id": "24e832165f3265cb"
  },
  {
   "cell_type": "code",
   "execution_count": 33,
   "outputs": [
    {
     "name": "stdout",
     "output_type": "stream",
     "text": [
      "使用 mps 训练\n"
     ]
    }
   ],
   "source": [
    "device = (\"cuda\" if torch.cuda.is_available() else \"mps\" if torch.backends.mps.is_available() else 'cpu')\n",
    "\n",
    "print(f'使用 {device} 训练')"
   ],
   "metadata": {
    "collapsed": false,
    "ExecuteTime": {
     "end_time": "2023-12-01T06:51:25.107470Z",
     "start_time": "2023-12-01T06:51:24.550673Z"
    }
   },
   "id": "dd164d01f3c6f3ad"
  },
  {
   "cell_type": "markdown",
   "source": [
    "## 定义类\n",
    "\n",
    "使用 `nn.Module` 的子类来定义神经网络，并在 `__init__` 中初始化神经网络。每个 `nn.Module` 子类在 `forward` 方法\n",
    "中实现对输入数据的操作。"
   ],
   "metadata": {
    "collapsed": false
   },
   "id": "1a65bd7d7e154f9b"
  },
  {
   "cell_type": "code",
   "execution_count": 34,
   "outputs": [],
   "source": [
    "class NeuralNetwork(nn.Module):\n",
    "    def __init__(self):\n",
    "        super().__init__()\n",
    "        # 扁平化，默认扁平化为一维\n",
    "        self.flatten = nn.Flatten()\n",
    "        self.linear_relu_stack = nn.Sequential(\n",
    "            nn.Linear(28 * 28, 512),\n",
    "            nn.ReLU(),\n",
    "            nn.Linear(512, 512),\n",
    "            nn.ReLU(),\n",
    "            nn.Linear(512, 10)\n",
    "        )\n",
    "        \n",
    "    def forward(self, x):\n",
    "        x = self.flatten(x)\n",
    "        logits = self.linear_relu_stack(x)\n",
    "        return logits"
   ],
   "metadata": {
    "collapsed": false,
    "ExecuteTime": {
     "end_time": "2023-12-01T06:51:25.107629Z",
     "start_time": "2023-12-01T06:51:24.575558Z"
    }
   },
   "id": "fd3e0c76572fc6a9"
  },
  {
   "cell_type": "markdown",
   "source": [
    "可以更改模型的训练设备:"
   ],
   "metadata": {
    "collapsed": false
   },
   "id": "dfa7123fb4d9251f"
  },
  {
   "cell_type": "code",
   "execution_count": 35,
   "outputs": [
    {
     "data": {
      "text/plain": "NeuralNetwork(\n  (flatten): Flatten(start_dim=1, end_dim=-1)\n  (linear_relu_stack): Sequential(\n    (0): Linear(in_features=784, out_features=512, bias=True)\n    (1): ReLU()\n    (2): Linear(in_features=512, out_features=512, bias=True)\n    (3): ReLU()\n    (4): Linear(in_features=512, out_features=10, bias=True)\n  )\n)"
     },
     "execution_count": 35,
     "metadata": {},
     "output_type": "execute_result"
    }
   ],
   "source": [
    "model = NeuralNetwork().to(device)\n",
    "\n",
    "model"
   ],
   "metadata": {
    "collapsed": false,
    "ExecuteTime": {
     "end_time": "2023-12-01T06:51:25.108005Z",
     "start_time": "2023-12-01T06:51:24.584273Z"
    }
   },
   "id": "f198d5a1fc405516"
  },
  {
   "cell_type": "markdown",
   "source": [
    "当我们传递输入数据值，会执行模型的 `forward`，以及一些后台操作，不要直接调用 `model.forward()`。"
   ],
   "metadata": {
    "collapsed": false
   },
   "id": "fba08e8742de4a2e"
  },
  {
   "cell_type": "code",
   "execution_count": 36,
   "outputs": [
    {
     "data": {
      "text/plain": "tensor([1], device='mps:0')"
     },
     "execution_count": 36,
     "metadata": {},
     "output_type": "execute_result"
    }
   ],
   "source": [
    "X = torch.rand(1, 28, 28, device=device)\n",
    "\n",
    "logits = model(X)\n",
    "pred_probab = nn.Softmax(dim=1)(logits)\n",
    "y_pred = pred_probab.argmax(1)\n",
    "\n",
    "y_pred"
   ],
   "metadata": {
    "collapsed": false,
    "ExecuteTime": {
     "end_time": "2023-12-01T06:51:25.770295Z",
     "start_time": "2023-12-01T06:51:24.621829Z"
    }
   },
   "id": "7d96be969734449f"
  },
  {
   "cell_type": "markdown",
   "source": [
    "显示模型参数:"
   ],
   "metadata": {
    "collapsed": false
   },
   "id": "ece211ffd8bdd563"
  },
  {
   "cell_type": "code",
   "execution_count": 37,
   "outputs": [
    {
     "name": "stdout",
     "output_type": "stream",
     "text": [
      "Layer: linear_relu_stack.0.weight | Size: torch.Size([512, 784]) | Values: tensor([[ 0.0223, -0.0299, -0.0314,  ...,  0.0313,  0.0247,  0.0161],\n",
      "        [-0.0248,  0.0254,  0.0255,  ..., -0.0283,  0.0294,  0.0062]],\n",
      "       device='mps:0', grad_fn=<SliceBackward0>)\n",
      "Layer: linear_relu_stack.0.bias | Size: torch.Size([512]) | Values: tensor([-0.0169, -0.0304], device='mps:0', grad_fn=<SliceBackward0>)\n",
      "Layer: linear_relu_stack.2.weight | Size: torch.Size([512, 512]) | Values: tensor([[ 0.0247, -0.0297,  0.0159,  ...,  0.0358,  0.0030, -0.0138],\n",
      "        [ 0.0339, -0.0390,  0.0209,  ...,  0.0400, -0.0375, -0.0324]],\n",
      "       device='mps:0', grad_fn=<SliceBackward0>)\n",
      "Layer: linear_relu_stack.2.bias | Size: torch.Size([512]) | Values: tensor([-0.0385, -0.0205], device='mps:0', grad_fn=<SliceBackward0>)\n",
      "Layer: linear_relu_stack.4.weight | Size: torch.Size([10, 512]) | Values: tensor([[-0.0383, -0.0088, -0.0389,  ..., -0.0309,  0.0190,  0.0169],\n",
      "        [-0.0210, -0.0193, -0.0368,  ..., -0.0046, -0.0139,  0.0156]],\n",
      "       device='mps:0', grad_fn=<SliceBackward0>)\n",
      "Layer: linear_relu_stack.4.bias | Size: torch.Size([10]) | Values: tensor([0.0138, 0.0016], device='mps:0', grad_fn=<SliceBackward0>)\n"
     ]
    }
   ],
   "source": [
    "for name, param in model.named_parameters():\n",
    "    print(f'Layer: {name} | Size: {param.size()} | Values: {param[:2]}')"
   ],
   "metadata": {
    "collapsed": false,
    "ExecuteTime": {
     "end_time": "2023-12-01T06:51:25.899335Z",
     "start_time": "2023-12-01T06:51:25.770158Z"
    }
   },
   "id": "45ed610e63215a59"
  },
  {
   "cell_type": "markdown",
   "source": [
    "# 6. 自动区分 `torch.autograd`\n",
    "\n",
    "PyTorch 有一个名为 `torch.autograd` 的内置微分引擎，它支持任何计算图的梯度自动计算。"
   ],
   "metadata": {
    "collapsed": false
   },
   "id": "71d438d0815352ee"
  },
  {
   "cell_type": "code",
   "execution_count": 38,
   "outputs": [],
   "source": [
    "import torch\n",
    "\n",
    "x = torch.ones(5)\n",
    "y = torch.zeros(3)\n",
    "w = torch.randn(5, 3, requires_grad=True)\n",
    "b = torch.randn(3, requires_grad=True)"
   ],
   "metadata": {
    "collapsed": false,
    "ExecuteTime": {
     "end_time": "2023-12-01T06:51:25.899783Z",
     "start_time": "2023-12-01T06:51:25.896395Z"
    }
   },
   "id": "a58ff8e481bbbd2b"
  },
  {
   "cell_type": "code",
   "execution_count": 39,
   "outputs": [
    {
     "data": {
      "text/plain": "tensor(3.1310, grad_fn=<BinaryCrossEntropyWithLogitsBackward0>)"
     },
     "execution_count": 39,
     "metadata": {},
     "output_type": "execute_result"
    }
   ],
   "source": [
    "z = x @ w + b\n",
    "\n",
    "loss = torch.nn.functional.binary_cross_entropy_with_logits(z, y)\n",
    "loss"
   ],
   "metadata": {
    "collapsed": false,
    "ExecuteTime": {
     "end_time": "2023-12-01T06:51:25.942545Z",
     "start_time": "2023-12-01T06:51:25.900302Z"
    }
   },
   "id": "15426edb36d907dc"
  },
  {
   "cell_type": "code",
   "execution_count": 40,
   "outputs": [
    {
     "data": {
      "text/plain": "(<AddBackward0 at 0x16898bd60>,\n <BinaryCrossEntropyWithLogitsBackward0 at 0x16898bb20>)"
     },
     "execution_count": 40,
     "metadata": {},
     "output_type": "execute_result"
    }
   ],
   "source": [
    "z.grad_fn, loss.grad_fn"
   ],
   "metadata": {
    "collapsed": false,
    "ExecuteTime": {
     "end_time": "2023-12-01T06:51:25.943257Z",
     "start_time": "2023-12-01T06:51:25.912503Z"
    }
   },
   "id": "74ccb89756e96c51"
  },
  {
   "cell_type": "markdown",
   "source": [
    "## 计算梯度"
   ],
   "metadata": {
    "collapsed": false
   },
   "id": "c5f14c57f54c47c7"
  },
  {
   "cell_type": "code",
   "execution_count": 41,
   "outputs": [
    {
     "data": {
      "text/plain": "(tensor([[0.3279, 0.1657, 0.3299],\n         [0.3279, 0.1657, 0.3299],\n         [0.3279, 0.1657, 0.3299],\n         [0.3279, 0.1657, 0.3299],\n         [0.3279, 0.1657, 0.3299]]),\n tensor([0.3279, 0.1657, 0.3299]))"
     },
     "execution_count": 41,
     "metadata": {},
     "output_type": "execute_result"
    }
   ],
   "source": [
    "loss.backward()\n",
    "\n",
    "w.grad, b.grad"
   ],
   "metadata": {
    "collapsed": false,
    "ExecuteTime": {
     "end_time": "2023-12-01T06:51:25.944928Z",
     "start_time": "2023-12-01T06:51:25.916935Z"
    }
   },
   "id": "b320eca9fe7604d6"
  },
  {
   "cell_type": "markdown",
   "source": [
    "## 禁用梯度跟踪"
   ],
   "metadata": {
    "collapsed": false
   },
   "id": "eb56685c01bcaa79"
  },
  {
   "cell_type": "code",
   "execution_count": 42,
   "outputs": [
    {
     "name": "stdout",
     "output_type": "stream",
     "text": [
      "True\n",
      "False\n"
     ]
    }
   ],
   "source": [
    "z = torch.matmul(x, w)+b\n",
    "print(z.requires_grad)\n",
    "\n",
    "with torch.no_grad():\n",
    "    z = torch.matmul(x, w)+b\n",
    "print(z.requires_grad)"
   ],
   "metadata": {
    "collapsed": false,
    "ExecuteTime": {
     "end_time": "2023-12-01T06:51:25.945520Z",
     "start_time": "2023-12-01T06:51:25.927245Z"
    }
   },
   "id": "4b6e04da66df80c6"
  },
  {
   "cell_type": "code",
   "execution_count": 43,
   "outputs": [
    {
     "name": "stdout",
     "output_type": "stream",
     "text": [
      "False\n"
     ]
    }
   ],
   "source": [
    "z = torch.matmul(x, w)+b\n",
    "z_det = z.detach()\n",
    "print(z_det.requires_grad)"
   ],
   "metadata": {
    "collapsed": false,
    "ExecuteTime": {
     "end_time": "2023-12-01T06:51:25.945819Z",
     "start_time": "2023-12-01T06:51:25.931206Z"
    }
   },
   "id": "eca0654cfbf5c368"
  },
  {
   "cell_type": "markdown",
   "source": [
    "# 7. 优化模型参数\n",
    "\n",
    "* epochs: 迭代次数\n",
    "* batch_size: 批处理大小，样本数量\n",
    "* learning_rate: 学习率"
   ],
   "metadata": {
    "collapsed": false
   },
   "id": "cb48798cb9da315d"
  },
  {
   "cell_type": "code",
   "execution_count": 44,
   "outputs": [],
   "source": [
    "learning_rate = 1e-3\n",
    "batch_size = 64\n",
    "epochs = 5"
   ],
   "metadata": {
    "collapsed": false,
    "ExecuteTime": {
     "end_time": "2023-12-01T06:51:25.945973Z",
     "start_time": "2023-12-01T06:51:25.935811Z"
    }
   },
   "id": "fdfa00b50b5c79c2"
  },
  {
   "cell_type": "markdown",
   "source": [
    "## 优化循环\n",
    "每个循环都包含两个重要的参数:\n",
    "* The Train Loop: 迭代训练数据集，并尝试收敛到最佳参数。\n",
    "* The Validation/Test Loop: 迭代测试数据集，以检查模型性能是否正在提高。\n",
    "\n",
    "## 损失函数\n",
    "\n",
    "常见的损失函数包括用于回归任务的 `nn.MSELoss`（平均平方错误）和用于分类的 `nn.NLLLoss`（负对数可能性）。\n",
    "`nn.CrossEntropyLoss` 结合了 `nn.LogSoftmax` 和 `nn.NLLLoss`。\n",
    "\n",
    "我们将模型的输出 logit 传递给 `nn.CrossEntropyLoss`，这将使logit正常化并计算预测误差。"
   ],
   "metadata": {
    "collapsed": false
   },
   "id": "5233ce2aae050908"
  },
  {
   "cell_type": "code",
   "execution_count": 45,
   "outputs": [],
   "source": [
    "loss_fn = nn.CrossEntropyLoss()"
   ],
   "metadata": {
    "collapsed": false,
    "ExecuteTime": {
     "end_time": "2023-12-01T06:51:25.957118Z",
     "start_time": "2023-12-01T06:51:25.939121Z"
    }
   },
   "id": "af89cf0aa05a6dff"
  },
  {
   "cell_type": "markdown",
   "source": [
    "## 优化器\n",
    "\n",
    "所有优化逻辑都封装在 `optimizer` 对象中。在这里，我们使用SGD优化器；此外，PyTorch中有许多不同的优化器，如 `ADAM` 和 `RMSProp` ，它们更适用于不同类型的模型和数据。\n"
   ],
   "metadata": {
    "collapsed": false
   },
   "id": "3c6ceb7d9d853c64"
  },
  {
   "cell_type": "code",
   "execution_count": 46,
   "outputs": [],
   "source": [
    "optimizer = torch.optim.SGD(model.parameters(), lr=learning_rate)"
   ],
   "metadata": {
    "collapsed": false,
    "ExecuteTime": {
     "end_time": "2023-12-01T06:51:25.959955Z",
     "start_time": "2023-12-01T06:51:25.941970Z"
    }
   },
   "id": "ff4133e870a89a39"
  },
  {
   "cell_type": "markdown",
   "source": [
    "## 全面实施"
   ],
   "metadata": {
    "collapsed": false
   },
   "id": "f0bc1ad18d02561a"
  },
  {
   "cell_type": "code",
   "execution_count": 47,
   "outputs": [
    {
     "name": "stdout",
     "output_type": "stream",
     "text": [
      "loss: 2.314908  [   64/60000]\n",
      "loss: 2.295885  [ 6464/60000]\n",
      "loss: 2.281688  [12864/60000]\n",
      "loss: 2.263592  [19264/60000]\n",
      "loss: 2.250982  [25664/60000]\n",
      "loss: 2.224304  [32064/60000]\n",
      "loss: 2.220338  [38464/60000]\n",
      "loss: 2.188718  [44864/60000]\n",
      "loss: 2.194222  [51264/60000]\n",
      "loss: 2.149699  [57664/60000]\n",
      "Test Error: \n",
      " Accuracy: 51.1%, Avg loss: 2.153790 \n",
      "\n",
      "loss: 2.174373  [   64/60000]\n",
      "loss: 2.159592  [ 6464/60000]\n",
      "loss: 2.102700  [12864/60000]\n",
      "loss: 2.107068  [19264/60000]\n",
      "loss: 2.073663  [25664/60000]\n",
      "loss: 2.002842  [32064/60000]\n",
      "loss: 2.024353  [38464/60000]\n",
      "loss: 1.944634  [44864/60000]\n",
      "loss: 1.955551  [51264/60000]\n",
      "loss: 1.872423  [57664/60000]\n",
      "Test Error: \n",
      " Accuracy: 61.1%, Avg loss: 1.881021 \n",
      "\n",
      "loss: 1.924230  [   64/60000]\n",
      "loss: 1.889817  [ 6464/60000]\n",
      "loss: 1.768728  [12864/60000]\n",
      "loss: 1.800239  [19264/60000]\n",
      "loss: 1.717966  [25664/60000]\n",
      "loss: 1.649505  [32064/60000]\n",
      "loss: 1.665618  [38464/60000]\n",
      "loss: 1.566645  [44864/60000]\n",
      "loss: 1.596966  [51264/60000]\n",
      "loss: 1.483053  [57664/60000]\n",
      "Test Error: \n",
      " Accuracy: 62.0%, Avg loss: 1.511789 \n",
      "\n",
      "loss: 1.584900  [   64/60000]\n",
      "loss: 1.549756  [ 6464/60000]\n",
      "loss: 1.395440  [12864/60000]\n",
      "loss: 1.464000  [19264/60000]\n",
      "loss: 1.362668  [25664/60000]\n",
      "loss: 1.343348  [32064/60000]\n",
      "loss: 1.352834  [38464/60000]\n",
      "loss: 1.277975  [44864/60000]\n",
      "loss: 1.320698  [51264/60000]\n",
      "loss: 1.216414  [57664/60000]\n",
      "Test Error: \n",
      " Accuracy: 63.4%, Avg loss: 1.248092 \n",
      "\n",
      "loss: 1.328445  [   64/60000]\n",
      "loss: 1.311772  [ 6464/60000]\n",
      "loss: 1.143457  [12864/60000]\n",
      "loss: 1.249237  [19264/60000]\n",
      "loss: 1.129233  [25664/60000]\n",
      "loss: 1.147273  [32064/60000]\n",
      "loss: 1.165578  [38464/60000]\n",
      "loss: 1.102564  [44864/60000]\n",
      "loss: 1.151363  [51264/60000]\n",
      "loss: 1.065905  [57664/60000]\n",
      "Test Error: \n",
      " Accuracy: 64.8%, Avg loss: 1.087060 \n",
      "\n",
      "loss: 1.160826  [   64/60000]\n",
      "loss: 1.164662  [ 6464/60000]\n",
      "loss: 0.980524  [12864/60000]\n",
      "loss: 1.116762  [19264/60000]\n",
      "loss: 0.988376  [25664/60000]\n",
      "loss: 1.017648  [32064/60000]\n",
      "loss: 1.052491  [38464/60000]\n",
      "loss: 0.991437  [44864/60000]\n",
      "loss: 1.041435  [51264/60000]\n",
      "loss: 0.972988  [57664/60000]\n",
      "Test Error: \n",
      " Accuracy: 66.1%, Avg loss: 0.983529 \n",
      "\n",
      "loss: 1.044661  [   64/60000]\n",
      "loss: 1.070207  [ 6464/60000]\n",
      "loss: 0.868976  [12864/60000]\n",
      "loss: 1.028239  [19264/60000]\n",
      "loss: 0.900443  [25664/60000]\n",
      "loss: 0.926206  [32064/60000]\n",
      "loss: 0.978300  [38464/60000]\n",
      "loss: 0.918153  [44864/60000]\n",
      "loss: 0.964099  [51264/60000]\n",
      "loss: 0.910168  [57664/60000]\n",
      "Test Error: \n",
      " Accuracy: 67.4%, Avg loss: 0.912113 \n",
      "\n",
      "loss: 0.957945  [   64/60000]\n",
      "loss: 1.003757  [ 6464/60000]\n",
      "loss: 0.787953  [12864/60000]\n",
      "loss: 0.964330  [19264/60000]\n",
      "loss: 0.841250  [25664/60000]\n",
      "loss: 0.858028  [32064/60000]\n",
      "loss: 0.925315  [38464/60000]\n",
      "loss: 0.868101  [44864/60000]\n",
      "loss: 0.907349  [51264/60000]\n",
      "loss: 0.863937  [57664/60000]\n",
      "Test Error: \n",
      " Accuracy: 68.7%, Avg loss: 0.859688 \n",
      "\n",
      "loss: 0.889962  [   64/60000]\n",
      "loss: 0.953262  [ 6464/60000]\n",
      "loss: 0.726381  [12864/60000]\n",
      "loss: 0.915656  [19264/60000]\n",
      "loss: 0.798529  [25664/60000]\n",
      "loss: 0.805593  [32064/60000]\n",
      "loss: 0.884413  [38464/60000]\n",
      "loss: 0.832434  [44864/60000]\n",
      "loss: 0.863971  [51264/60000]\n",
      "loss: 0.828029  [57664/60000]\n",
      "Test Error: \n",
      " Accuracy: 70.0%, Avg loss: 0.819235 \n",
      "\n",
      "loss: 0.834649  [   64/60000]\n",
      "loss: 0.911953  [ 6464/60000]\n",
      "loss: 0.677716  [12864/60000]\n",
      "loss: 0.877482  [19264/60000]\n",
      "loss: 0.765836  [25664/60000]\n",
      "loss: 0.764389  [32064/60000]\n",
      "loss: 0.850702  [38464/60000]\n",
      "loss: 0.805556  [44864/60000]\n",
      "loss: 0.829594  [51264/60000]\n",
      "loss: 0.798591  [57664/60000]\n",
      "Test Error: \n",
      " Accuracy: 71.2%, Avg loss: 0.786605 \n",
      "\n",
      "Done!\n"
     ]
    }
   ],
   "source": [
    "def train_loop(dataloader: DataLoader, model: nn.Module, loss_fn, optimizer: torch.optim.Optimizer):\n",
    "    size = len(dataloader.dataset)\n",
    "    model.train()\n",
    "    \n",
    "    for batch, (X, y) in enumerate(dataloader):\n",
    "        X = X.to(device)\n",
    "        y = y.to(device)\n",
    "        # 计算\n",
    "        pred = model(X)\n",
    "        # 损失函数\n",
    "        loss = loss_fn(pred, y)\n",
    "        \n",
    "        # 传播\n",
    "        loss.backward()\n",
    "        # 收集梯度，调整参数\n",
    "        optimizer.step()\n",
    "        # 梯度归零\n",
    "        optimizer.zero_grad()\n",
    "        \n",
    "        if batch % 100 == 0:\n",
    "            loss, current = loss.item(), (batch + 1) * len(X)\n",
    "            print(f\"loss: {loss:>7f}  [{current:>5d}/{size:>5d}]\")\n",
    "\n",
    "def test_loop(dataloader: DataLoader, model: nn.Module, loss_fn):\n",
    "    model.eval()\n",
    "    \n",
    "    size = len(dataloader.dataset)\n",
    "    num_batches = len(dataloader)\n",
    "    \n",
    "    test_loss, correct = 0, 0\n",
    "    \n",
    "    with torch.no_grad():\n",
    "        for X, y in dataloader:\n",
    "            X = X.to(device)\n",
    "            y = y.to(device)\n",
    "            pred = model(X)\n",
    "            test_loss += loss_fn(pred, y).item()\n",
    "            correct += (pred.argmax(1) == y).type(torch.float).sum().item()\n",
    "    \n",
    "    test_loss /= num_batches\n",
    "    correct /= size\n",
    "\n",
    "    print(f\"Test Error: \\n Accuracy: {(100*correct):>0.1f}%, Avg loss: {test_loss:>8f} \\n\")\n",
    "    \n",
    "    \n",
    "epochs = 10\n",
    "\n",
    "model = model.to(device)\n",
    "\n",
    "for t in range(epochs):\n",
    "    train_loop(training_loader, model, loss_fn, optimizer)\n",
    "    test_loop(test_loader, model, loss_fn)\n",
    "    \n",
    "print(\"Done!\")"
   ],
   "metadata": {
    "collapsed": false,
    "ExecuteTime": {
     "end_time": "2023-12-01T06:52:28.542615Z",
     "start_time": "2023-12-01T06:51:25.949512Z"
    }
   },
   "id": "e359677a44b04db8"
  },
  {
   "cell_type": "markdown",
   "source": [
    "# 8. 保存并加载模型"
   ],
   "metadata": {
    "collapsed": false
   },
   "id": "f9a7873212bfac4d"
  },
  {
   "cell_type": "code",
   "execution_count": 48,
   "outputs": [],
   "source": [
    "import torchvision.models as models\n",
    "\n",
    "# model = models.vgg16(weights='IMAGENET1K_V1')\n",
    "torch.save(model.state_dict(), 'model/model_weights.pth')"
   ],
   "metadata": {
    "collapsed": false,
    "ExecuteTime": {
     "end_time": "2023-12-01T06:52:28.555679Z",
     "start_time": "2023-12-01T06:52:28.546242Z"
    }
   },
   "id": "d0618fe531432ffb"
  },
  {
   "cell_type": "code",
   "execution_count": 49,
   "outputs": [
    {
     "data": {
      "text/plain": "<All keys matched successfully>"
     },
     "execution_count": 49,
     "metadata": {},
     "output_type": "execute_result"
    }
   ],
   "source": [
    "load_model = NeuralNetwork().to('mps')\n",
    "load_model.load_state_dict(torch.load('model/model_weights.pth'))\n"
   ],
   "metadata": {
    "collapsed": false,
    "ExecuteTime": {
     "end_time": "2023-12-01T06:52:28.585768Z",
     "start_time": "2023-12-01T06:52:28.556880Z"
    }
   },
   "id": "51a9cc5cdea80840"
  },
  {
   "cell_type": "code",
   "execution_count": 50,
   "outputs": [],
   "source": [
    "torch.save(model, 'model/model.pth')\n",
    "load_model = torch.load('model/model.pth')"
   ],
   "metadata": {
    "collapsed": false,
    "ExecuteTime": {
     "end_time": "2023-12-01T06:52:28.586563Z",
     "start_time": "2023-12-01T06:52:28.578449Z"
    }
   },
   "id": "b940829e5b72376e"
  },
  {
   "cell_type": "code",
   "execution_count": 51,
   "outputs": [
    {
     "data": {
      "text/plain": "array([['Ankle Boot', 'Pullover', 'Trouser', 'Trouser', 'Shirt',\n        'Trouser', 'Coat', 'Coat', 'Sneaker', 'Sneaker', 'Coat',\n        'Sandal', 'Sneaker', 'Dress', 'Coat', 'Trouser', 'Pullover',\n        'Pullover', 'Bag', 'T-Shirt', 'Shirt', 'Sneaker', 'Sneaker',\n        'Sneaker', 'Trouser', 'Pullover', 'Coat', 'Dress', 'Ankle Boot',\n        'Dress', 'Bag', 'Bag', 'Dress', 'Dress', 'Bag', 'T-Shirt',\n        'Sneaker', 'Sneaker', 'Sneaker', 'Ankle Boot', 'T-Shirt',\n        'Trouser', 'Dress', 'Ankle Boot', 'Coat', 'Ankle Boot',\n        'Pullover', 'Trouser', 'Coat', 'Pullover', 'Pullover',\n        'Pullover', 'Sneaker', 'Shirt', 'Coat', 'Pullover', 'Bag',\n        'Coat', 'Bag', 'T-Shirt', 'Sneaker', 'Sneaker', 'Bag', 'Sandal'],\n       ['Ankle Boot', 'Pullover', 'Trouser', 'Trouser', 'Shirt',\n        'Trouser', 'Coat', 'Shirt', 'Sandal', 'Sneaker', 'Coat',\n        'Sandal', 'Sneaker', 'Dress', 'Coat', 'Trouser', 'Pullover',\n        'Coat', 'Bag', 'T-Shirt', 'Pullover', 'Sandal', 'Sneaker',\n        'Ankle Boot', 'Trouser', 'Coat', 'Shirt', 'T-Shirt',\n        'Ankle Boot', 'Dress', 'Bag', 'Bag', 'Dress', 'Dress', 'Bag',\n        'T-Shirt', 'Sneaker', 'Sandal', 'Sneaker', 'Ankle Boot', 'Shirt',\n        'Trouser', 'Dress', 'Sneaker', 'Shirt', 'Sneaker', 'Pullover',\n        'Trouser', 'Pullover', 'Pullover', 'Coat', 'Coat', 'Sandal',\n        'Bag', 'Pullover', 'Pullover', 'Bag', 'Coat', 'Bag', 'T-Shirt',\n        'Sneaker', 'Sneaker', 'Bag', 'Sandal'],\n       ['5.2244296', '7.1073565', '8.716412', '6.8297205', '2.9636772',\n        '6.1519547', '2.1936493', '3.1728845', '1.7569679', '5.0254636',\n        '4.6835217', '3.4576743', '3.405665', '4.882923', '6.163089',\n        '5.971786', '3.346618', '4.271052', '4.92157', '7.284742',\n        '4.2859306', '5.423464', '7.9780517', '5.7218194', '6.8693027',\n        '2.616965', '5.5523467', '5.9238176', '6.6264324', '3.9842393',\n        '7.815894', '2.6434393', '2.9387891', '4.2112656', '4.9213166',\n        '3.3176768', '5.822557', '2.224753', '6.755564', '8.673022',\n        '6.560499', '8.618254', '3.7034488', '7.315453', '5.992302',\n        '3.2722158', '5.5073695', '6.595068', '3.259469', '4.7683454',\n        '5.678683', '3.0816898', '2.2057316', '4.9767528', '3.4198735',\n        '4.905743', '6.581269', '5.261424', '5.551481', '3.1454537',\n        '6.214602', '6.550619', '6.728294', '2.6463208']], dtype='<U32')"
     },
     "execution_count": 51,
     "metadata": {},
     "output_type": "execute_result"
    }
   ],
   "source": [
    "\n",
    "load_model.eval()\n",
    "ret = []\n",
    "for X, y in test_loader:\n",
    "    X = X.to('mps')\n",
    "    y = y.to('mps')\n",
    "    model_ret = load_model(X) # type: torch.Tensor\n",
    "    ret = model_ret.argmax(1) # type: torch.Tensor\n",
    "    ret_label = [labels_map[i.item()] for i in ret]\n",
    "    y_label = [labels_map[i.item()] for i in y.data]\n",
    "    max = model_ret.max(1) # type: torch.return_types.max\n",
    "    ret = np.array([ret_label, y_label, max[0].cpu().detach().numpy()])\n",
    "    break\n",
    "ret"
   ],
   "metadata": {
    "collapsed": false,
    "ExecuteTime": {
     "end_time": "2023-12-01T06:52:28.660992Z",
     "start_time": "2023-12-01T06:52:28.586249Z"
    }
   },
   "id": "ebf60ea3e3cf4b7c"
  },
  {
   "cell_type": "code",
   "execution_count": 51,
   "outputs": [],
   "source": [],
   "metadata": {
    "collapsed": false,
    "ExecuteTime": {
     "end_time": "2023-12-01T06:52:28.662430Z",
     "start_time": "2023-12-01T06:52:28.661220Z"
    }
   },
   "id": "98860a3696e13b19"
  }
 ],
 "metadata": {
  "kernelspec": {
   "display_name": "Python 3",
   "language": "python",
   "name": "python3"
  },
  "language_info": {
   "codemirror_mode": {
    "name": "ipython",
    "version": 2
   },
   "file_extension": ".py",
   "mimetype": "text/x-python",
   "name": "python",
   "nbconvert_exporter": "python",
   "pygments_lexer": "ipython2",
   "version": "2.7.6"
  }
 },
 "nbformat": 4,
 "nbformat_minor": 5
}
