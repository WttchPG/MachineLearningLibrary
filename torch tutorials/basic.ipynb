{
 "cells": [
  {
   "cell_type": "markdown",
   "source": [
    "# 1. quick start"
   ],
   "metadata": {
    "collapsed": false
   },
   "id": "6be68c90dc64d1b9"
  },
  {
   "cell_type": "code",
   "execution_count": 74,
   "outputs": [],
   "source": [
    "import torch\n",
    "from torch import nn\n",
    "import numpy as np\n",
    "from torch.utils.data import DataLoader, Dataset\n",
    "from torchvision import datasets\n",
    "from torchvision.transforms import ToTensor\n",
    "\n",
    "import matplotlib.pyplot as plt"
   ],
   "metadata": {
    "collapsed": false,
    "ExecuteTime": {
     "end_time": "2023-10-24T08:54:12.041862Z",
     "start_time": "2023-10-24T08:54:11.960803Z"
    }
   },
   "id": "initial_id"
  },
  {
   "cell_type": "code",
   "execution_count": 75,
   "outputs": [],
   "source": [
    "# Download training data from open datasets.\n",
    "training_data = datasets.FashionMNIST(\n",
    "    root=\"data\",\n",
    "    train=True,\n",
    "    download=True,\n",
    "    transform=ToTensor(),\n",
    ")\n",
    "\n",
    "# Download test data from open datasets.\n",
    "test_data = datasets.FashionMNIST(\n",
    "    root=\"data\",\n",
    "    train=False,\n",
    "    download=True,\n",
    "    transform=ToTensor(),\n",
    ")"
   ],
   "metadata": {
    "collapsed": false,
    "ExecuteTime": {
     "end_time": "2023-10-24T08:54:12.143988Z",
     "start_time": "2023-10-24T08:54:11.965011Z"
    }
   },
   "id": "a87af0c29e1ce9cf"
  },
  {
   "cell_type": "markdown",
   "source": [
    "将`Dataset`作为参数传递给`DataLoader`。在我们的数据集上包裹了一个可迭代的，并支持自动批处理、采样、洗牌和多进程数据加载。\n",
    "\n",
    "定义一个64个批次大小，即可迭代数据加载器中的每个元素将返回一批64个功能和标签。\n",
    "\n",
    "`DataLoader`支持 map 、迭代对数据进行处理。\n",
    "* map: 是一个 tensor 到 tensor 的映射, 即: X -> y；\n",
    "* 迭代: 是一个 list(tensor) 的列表, 即: (X, y);"
   ],
   "metadata": {
    "collapsed": false
   },
   "id": "a3292e236a64f283"
  },
  {
   "cell_type": "code",
   "execution_count": 76,
   "outputs": [
    {
     "name": "stdout",
     "output_type": "stream",
     "text": [
      "torch.Size([64, 1, 28, 28]) torch.Size([64])\n"
     ]
    }
   ],
   "source": [
    "batch_size = 64\n",
    "\n",
    "training_loader = DataLoader(dataset=training_data, batch_size=batch_size)\n",
    "test_loader = DataLoader(dataset=test_data, batch_size=batch_size)\n",
    "\n",
    "for X, y in training_loader: # type: (np.ndarray, np.ndarray)\n",
    "    print(X.shape, y.shape)\n",
    "    break"
   ],
   "metadata": {
    "collapsed": false,
    "ExecuteTime": {
     "end_time": "2023-10-24T08:54:12.147416Z",
     "start_time": "2023-10-24T08:54:11.986764Z"
    }
   },
   "id": "44b8668a34f3595f"
  },
  {
   "cell_type": "markdown",
   "source": [
    "## mac torch 加速 mps"
   ],
   "metadata": {
    "collapsed": false
   },
   "id": "ce954c0ed859e349"
  },
  {
   "cell_type": "code",
   "execution_count": 77,
   "outputs": [
    {
     "data": {
      "text/plain": "(True, True)"
     },
     "execution_count": 77,
     "metadata": {},
     "output_type": "execute_result"
    }
   ],
   "source": [
    "torch.backends.mps.is_available(), torch.backends.mps.is_built()"
   ],
   "metadata": {
    "collapsed": false,
    "ExecuteTime": {
     "end_time": "2023-10-24T08:54:12.148777Z",
     "start_time": "2023-10-24T08:54:11.993012Z"
    }
   },
   "id": "4d84f69141827838"
  },
  {
   "cell_type": "code",
   "execution_count": 78,
   "outputs": [
    {
     "data": {
      "text/plain": "tensor([[0.6393, 0.9914],\n        [0.5151, 0.0716],\n        [0.9402, 0.9957]], device='mps:0')"
     },
     "execution_count": 78,
     "metadata": {},
     "output_type": "execute_result"
    }
   ],
   "source": [
    "device = torch.device('mps')\n",
    "# 指定 device\n",
    "torch.rand((3, 2), device=device)"
   ],
   "metadata": {
    "collapsed": false,
    "ExecuteTime": {
     "end_time": "2023-10-24T08:54:12.161738Z",
     "start_time": "2023-10-24T08:54:11.996223Z"
    }
   },
   "id": "8dbfe19f4bb79f48"
  },
  {
   "cell_type": "markdown",
   "source": [
    "# 2. tensor\n",
    "\n",
    "`tensor`类似于 NumPy 的`ndarray`s，只是张量可以在GPU或其他硬件加速器上运行。\n",
    "事实上，`tensor`和 NumPy 数组通常可以共享相同的底层内存，无需复制数据。\n",
    "\n",
    "## tensor 和 numpy 转换\n",
    "\n",
    "tensor 转换为 numpy 数组"
   ],
   "metadata": {
    "collapsed": false
   },
   "id": "20e5ec761f93f1a1"
  },
  {
   "cell_type": "code",
   "execution_count": 79,
   "outputs": [
    {
     "data": {
      "text/plain": "array([1., 1., 1., 1., 1.], dtype=float32)"
     },
     "execution_count": 79,
     "metadata": {},
     "output_type": "execute_result"
    }
   ],
   "source": [
    "t = torch.ones(5)\n",
    "t.numpy()"
   ],
   "metadata": {
    "collapsed": false,
    "ExecuteTime": {
     "end_time": "2023-10-24T08:54:12.174015Z",
     "start_time": "2023-10-24T08:54:12.006755Z"
    }
   },
   "id": "badbe3aaa80511eb"
  },
  {
   "cell_type": "markdown",
   "source": [
    "numpy 数组 转换为 tensor"
   ],
   "metadata": {
    "collapsed": false
   },
   "id": "1d9f50312cce6f35"
  },
  {
   "cell_type": "code",
   "execution_count": 80,
   "outputs": [
    {
     "data": {
      "text/plain": "tensor([1., 1., 1., 1., 1.], dtype=torch.float64)"
     },
     "execution_count": 80,
     "metadata": {},
     "output_type": "execute_result"
    }
   ],
   "source": [
    "n = np.ones(5)\n",
    "torch.from_numpy(n)"
   ],
   "metadata": {
    "collapsed": false,
    "ExecuteTime": {
     "end_time": "2023-10-24T08:54:12.175461Z",
     "start_time": "2023-10-24T08:54:12.009455Z"
    }
   },
   "id": "f0f0bee0899dcee8"
  },
  {
   "cell_type": "code",
   "execution_count": 81,
   "outputs": [
    {
     "name": "stdout",
     "output_type": "stream",
     "text": [
      "Random Tensor: \n",
      " tensor([[0.3030, 0.1234, 0.9488],\n",
      "        [0.4487, 0.7536, 0.2179]]) \n",
      "\n",
      "Ones Tensor: \n",
      " tensor([[1., 1., 1.],\n",
      "        [1., 1., 1.]]) \n",
      "\n",
      "Zeros Tensor: \n",
      " tensor([[0., 0., 0.],\n",
      "        [0., 0., 0.]])\n"
     ]
    }
   ],
   "source": [
    "shape = (2,3)\n",
    "rand_tensor = torch.rand(shape)\n",
    "ones_tensor = torch.ones(shape)\n",
    "zeros_tensor = torch.zeros(shape)\n",
    "\n",
    "print(f\"Random Tensor: \\n {rand_tensor} \\n\")\n",
    "print(f\"Ones Tensor: \\n {ones_tensor} \\n\")\n",
    "print(f\"Zeros Tensor: \\n {zeros_tensor}\")"
   ],
   "metadata": {
    "collapsed": false,
    "ExecuteTime": {
     "end_time": "2023-10-24T08:54:12.176727Z",
     "start_time": "2023-10-24T08:54:12.012411Z"
    }
   },
   "id": "350ea1ca34c9bb41"
  },
  {
   "cell_type": "code",
   "execution_count": 82,
   "outputs": [
    {
     "name": "stdout",
     "output_type": "stream",
     "text": [
      "Shape of tensor: torch.Size([3, 4])\n",
      "Datatype of tensor: torch.float32\n",
      "Device tensor is stored on: cpu\n"
     ]
    }
   ],
   "source": [
    "tensor = torch.rand(3,4)\n",
    "\n",
    "print(f\"Shape of tensor: {tensor.shape}\")\n",
    "print(f\"Datatype of tensor: {tensor.dtype}\")\n",
    "print(f\"Device tensor is stored on: {tensor.device}\")"
   ],
   "metadata": {
    "collapsed": false,
    "ExecuteTime": {
     "end_time": "2023-10-24T08:54:12.176796Z",
     "start_time": "2023-10-24T08:54:12.015641Z"
    }
   },
   "id": "ca2c83c83cdb143"
  },
  {
   "cell_type": "markdown",
   "source": [
    "# 3. 数据集和数据加载器\n",
    "\n",
    "PyTorch提供两个数据原型：`torch.utils.data.DataLoader`和`torch.utils.data.Dataset`，允许您使用预加载的数据集以及您自己的数据。\n",
    "`Dataset` 存储样本及其相应的标签，`DataLoader`将可迭代的包裹在Dataset周围，以便轻松访问样本。\n",
    "\n",
    "## 加载数据集\n",
    "加载 FashionMNIST 数据集:"
   ],
   "metadata": {
    "collapsed": false
   },
   "id": "4d95d2beb18e2da7"
  },
  {
   "cell_type": "code",
   "execution_count": 83,
   "outputs": [],
   "source": [
    "\n",
    "training_data = datasets.FashionMNIST(\n",
    "    root=\"data\",\n",
    "    train=True,\n",
    "    download=True,\n",
    "    transform=ToTensor()\n",
    ")\n",
    "\n",
    "test_data = datasets.FashionMNIST(\n",
    "    root=\"data\",\n",
    "    train=False,\n",
    "    download=True,\n",
    "    transform=ToTensor()\n",
    ")"
   ],
   "metadata": {
    "collapsed": false,
    "ExecuteTime": {
     "end_time": "2023-10-24T08:54:12.198222Z",
     "start_time": "2023-10-24T08:54:12.018080Z"
    }
   },
   "id": "b9d4ee33a3699d7c"
  },
  {
   "cell_type": "markdown",
   "source": [
    "## 迭代和可视化数据集"
   ],
   "metadata": {
    "collapsed": false
   },
   "id": "e0827b1dc25e6565"
  },
  {
   "cell_type": "code",
   "execution_count": 84,
   "outputs": [
    {
     "data": {
      "text/plain": "<Figure size 800x800 with 9 Axes>",
      "image/png": "[encoded data removed]"
     },
     "metadata": {},
     "output_type": "display_data"
    }
   ],
   "source": [
    "labels_map = {\n",
    "    0: \"T-Shirt\",\n",
    "    1: \"Trouser\",\n",
    "    2: \"Pullover\",\n",
    "    3: \"Dress\",\n",
    "    4: \"Coat\",\n",
    "    5: \"Sandal\",\n",
    "    6: \"Shirt\",\n",
    "    7: \"Sneaker\",\n",
    "    8: \"Bag\",\n",
    "    9: \"Ankle Boot\",\n",
    "}\n",
    "figure = plt.figure(figsize=(8, 8))\n",
    "cols, rows = 3, 3\n",
    "# 抽9幅图片并可视化出来\n",
    "for i in range(1, cols * rows + 1):\n",
    "    sample_idx = torch.randint(len(training_data), size=(1,)).item()\n",
    "    img, img_label = training_data[sample_idx]\n",
    "    figure.add_subplot(rows, cols, i)\n",
    "    plt.title(labels_map[img_label])\n",
    "    plt.axis(\"off\")\n",
    "    plt.imshow(img.squeeze(), cmap=\"gray\")\n",
    "plt.show()"
   ],
   "metadata": {
    "collapsed": false,
    "ExecuteTime": {
     "end_time": "2023-10-24T08:54:12.316233Z",
     "start_time": "2023-10-24T08:54:12.037949Z"
    }
   },
   "id": "78b13251c2b5dac6"
  },
  {
   "cell_type": "markdown",
   "source": [
    "## 为您的文件创造自定义数据集\n",
    "\n",
    "自定义数据集类必须实现三个函数: `__init__`, `__len__`, `__getitem__`。"
   ],
   "metadata": {
    "collapsed": false
   },
   "id": "1bd7f5cff9aa8e92"
  },
  {
   "cell_type": "code",
   "execution_count": 85,
   "outputs": [],
   "source": [
    "import os\n",
    "import pandas as pd\n",
    "from torchvision.io import read_image\n",
    "\n",
    "# FashionMNIST 实现\n",
    "class CustomImageDataset(Dataset):\n",
    "    \n",
    "    def __init__(self, annotation_file, img_dir, transform=None, target_transform=None):\n",
    "        self.image_labels = pd.read_csv(annotation_file)\n",
    "        self.image_dir = img_dir\n",
    "        # 样本转换器，一般是一个 callable 就行，相当于编码器：将图片转换为 tensor 等。\n",
    "        self.transform = transform\n",
    "        # 目标样本转换器\n",
    "        self.target_transform = target_transform\n",
    "    \n",
    "    def __len__(self):\n",
    "        return len(self.image_labels)\n",
    "    \n",
    "    def __getitem__(self, idx):\n",
    "        img_path = os.path.join(self.image_dir, self.image_labels.iloc[idx, 0])\n",
    "        image = read_image(img_path)\n",
    "        label = self.image_labels.iloc[idx, 1]\n",
    "        if self.transform:\n",
    "            image = self.transform(image)\n",
    "        if self.target_transform:\n",
    "            label = self.target_transform(label)\n",
    "        \n",
    "        return image, label\n",
    "        "
   ],
   "metadata": {
    "collapsed": false,
    "ExecuteTime": {
     "end_time": "2023-10-24T08:54:12.317458Z",
     "start_time": "2023-10-24T08:54:12.211788Z"
    }
   },
   "id": "771243be8673adf8"
  },
  {
   "cell_type": "markdown",
   "source": [
    "## 使用 DataLoaders 准备数据进行训练\n",
    "\n",
    "## 使用 DataLoader 迭代\n"
   ],
   "metadata": {
    "collapsed": false
   },
   "id": "6227a3bc2e6afdc8"
  },
  {
   "cell_type": "code",
   "execution_count": 86,
   "outputs": [
    {
     "name": "stdout",
     "output_type": "stream",
     "text": [
      "Feature batch shape: torch.Size([64, 1, 28, 28])\n",
      "Labels batch shape: torch.Size([64])\n"
     ]
    },
    {
     "data": {
      "text/plain": "<Figure size 640x480 with 1 Axes>",
      "image/png": "[encoded data removed]"
     },
     "metadata": {},
     "output_type": "display_data"
    },
    {
     "name": "stdout",
     "output_type": "stream",
     "text": [
      "Label: 9\n"
     ]
    }
   ],
   "source": [
    "# Display image and label.\n",
    "train_features, train_labels = next(iter(training_loader))\n",
    "print(f\"Feature batch shape: {train_features.size()}\")\n",
    "print(f\"Labels batch shape: {train_labels.size()}\")\n",
    "img = train_features[0].squeeze()\n",
    "label = train_labels[0]\n",
    "plt.imshow(img, cmap=\"gray\")\n",
    "plt.show()\n",
    "print(f\"Label: {label}\")"
   ],
   "metadata": {
    "collapsed": false,
    "ExecuteTime": {
     "end_time": "2023-10-24T08:54:12.318480Z",
     "start_time": "2023-10-24T08:54:12.218961Z"
    }
   },
   "id": "f228fea652b38eea"
  },
  {
   "cell_type": "markdown",
   "source": [
    "# 4. Transform\n",
    "\n",
    "ToTensor、Lambda"
   ],
   "metadata": {
    "collapsed": false
   },
   "id": "7c9f9c32af674329"
  },
  {
   "cell_type": "code",
   "execution_count": 87,
   "outputs": [],
   "source": [
    "from torchvision.transforms import ToTensor, Lambda\n",
    "\n",
    "ds = datasets.FashionMNIST(\n",
    "    root=\"data\",\n",
    "    train=True,\n",
    "    download=True,\n",
    "    transform=ToTensor(),\n",
    "    target_transform=Lambda(lambda y: torch.zeros(10, dtype=torch.float).scatter_(0, torch.tensor(y), value=1))\n",
    ")"
   ],
   "metadata": {
    "collapsed": false,
    "ExecuteTime": {
     "end_time": "2023-10-24T08:54:12.318551Z",
     "start_time": "2023-10-24T08:54:12.273233Z"
    }
   },
   "id": "bde1c084fdbd153a"
  },
  {
   "cell_type": "code",
   "execution_count": 88,
   "outputs": [
    {
     "name": "stdout",
     "output_type": "stream",
     "text": [
      "tensor([[[0.0000, 0.0000, 0.0000, 0.0000, 0.0000, 0.0000, 0.0000, 0.0000,\n",
      "          0.0000, 0.0000, 0.0000, 0.0000, 0.0000, 0.0000, 0.0000, 0.0000,\n",
      "          0.0000, 0.0000, 0.0000, 0.0000, 0.0000, 0.0000, 0.0000, 0.0000,\n",
      "          0.0000, 0.0000, 0.0000, 0.0000],\n",
      "         [0.0000, 0.0000, 0.0000, 0.0000, 0.0000, 0.0000, 0.0000, 0.0000,\n",
      "          0.0000, 0.0000, 0.0000, 0.0000, 0.0000, 0.0000, 0.0000, 0.0000,\n",
      "          0.0000, 0.0000, 0.0000, 0.0000, 0.0000, 0.0000, 0.0000, 0.0000,\n",
      "          0.0000, 0.0000, 0.0000, 0.0000],\n",
      "         [0.0000, 0.0000, 0.0000, 0.0000, 0.0000, 0.0000, 0.0000, 0.0000,\n",
      "          0.0000, 0.0000, 0.0000, 0.0000, 0.0000, 0.0000, 0.0000, 0.0000,\n",
      "          0.0000, 0.0000, 0.0000, 0.0000, 0.0000, 0.0000, 0.0000, 0.0000,\n",
      "          0.0000, 0.0000, 0.0000, 0.0000],\n",
      "         [0.0000, 0.0000, 0.0000, 0.0000, 0.0000, 0.0000, 0.0000, 0.0000,\n",
      "          0.0000, 0.0000, 0.0000, 0.0000, 0.0039, 0.0000, 0.0000, 0.0510,\n",
      "          0.2863, 0.0000, 0.0000, 0.0039, 0.0157, 0.0000, 0.0000, 0.0000,\n",
      "          0.0000, 0.0039, 0.0039, 0.0000],\n",
      "         [0.0000, 0.0000, 0.0000, 0.0000, 0.0000, 0.0000, 0.0000, 0.0000,\n",
      "          0.0000, 0.0000, 0.0000, 0.0000, 0.0118, 0.0000, 0.1412, 0.5333,\n",
      "          0.4980, 0.2431, 0.2118, 0.0000, 0.0000, 0.0000, 0.0039, 0.0118,\n",
      "          0.0157, 0.0000, 0.0000, 0.0118],\n",
      "         [0.0000, 0.0000, 0.0000, 0.0000, 0.0000, 0.0000, 0.0000, 0.0000,\n",
      "          0.0000, 0.0000, 0.0000, 0.0000, 0.0235, 0.0000, 0.4000, 0.8000,\n",
      "          0.6902, 0.5255, 0.5647, 0.4824, 0.0902, 0.0000, 0.0000, 0.0000,\n",
      "          0.0000, 0.0471, 0.0392, 0.0000],\n",
      "         [0.0000, 0.0000, 0.0000, 0.0000, 0.0000, 0.0000, 0.0000, 0.0000,\n",
      "          0.0000, 0.0000, 0.0000, 0.0000, 0.0000, 0.0000, 0.6078, 0.9255,\n",
      "          0.8118, 0.6980, 0.4196, 0.6118, 0.6314, 0.4275, 0.2510, 0.0902,\n",
      "          0.3020, 0.5098, 0.2824, 0.0588],\n",
      "         [0.0000, 0.0000, 0.0000, 0.0000, 0.0000, 0.0000, 0.0000, 0.0000,\n",
      "          0.0000, 0.0000, 0.0000, 0.0039, 0.0000, 0.2706, 0.8118, 0.8745,\n",
      "          0.8549, 0.8471, 0.8471, 0.6392, 0.4980, 0.4745, 0.4784, 0.5725,\n",
      "          0.5529, 0.3451, 0.6745, 0.2588],\n",
      "         [0.0000, 0.0000, 0.0000, 0.0000, 0.0000, 0.0000, 0.0000, 0.0000,\n",
      "          0.0000, 0.0039, 0.0039, 0.0039, 0.0000, 0.7843, 0.9098, 0.9098,\n",
      "          0.9137, 0.8980, 0.8745, 0.8745, 0.8431, 0.8353, 0.6431, 0.4980,\n",
      "          0.4824, 0.7686, 0.8980, 0.0000],\n",
      "         [0.0000, 0.0000, 0.0000, 0.0000, 0.0000, 0.0000, 0.0000, 0.0000,\n",
      "          0.0000, 0.0000, 0.0000, 0.0000, 0.0000, 0.7176, 0.8824, 0.8471,\n",
      "          0.8745, 0.8941, 0.9216, 0.8902, 0.8784, 0.8706, 0.8784, 0.8667,\n",
      "          0.8745, 0.9608, 0.6784, 0.0000],\n",
      "         [0.0000, 0.0000, 0.0000, 0.0000, 0.0000, 0.0000, 0.0000, 0.0000,\n",
      "          0.0000, 0.0000, 0.0000, 0.0000, 0.0000, 0.7569, 0.8941, 0.8549,\n",
      "          0.8353, 0.7765, 0.7059, 0.8314, 0.8235, 0.8275, 0.8353, 0.8745,\n",
      "          0.8627, 0.9529, 0.7922, 0.0000],\n",
      "         [0.0000, 0.0000, 0.0000, 0.0000, 0.0000, 0.0000, 0.0000, 0.0000,\n",
      "          0.0000, 0.0039, 0.0118, 0.0000, 0.0471, 0.8588, 0.8627, 0.8314,\n",
      "          0.8549, 0.7529, 0.6627, 0.8902, 0.8157, 0.8549, 0.8784, 0.8314,\n",
      "          0.8863, 0.7725, 0.8196, 0.2039],\n",
      "         [0.0000, 0.0000, 0.0000, 0.0000, 0.0000, 0.0000, 0.0000, 0.0000,\n",
      "          0.0000, 0.0000, 0.0235, 0.0000, 0.3882, 0.9569, 0.8706, 0.8627,\n",
      "          0.8549, 0.7961, 0.7765, 0.8667, 0.8431, 0.8353, 0.8706, 0.8627,\n",
      "          0.9608, 0.4667, 0.6549, 0.2196],\n",
      "         [0.0000, 0.0000, 0.0000, 0.0000, 0.0000, 0.0000, 0.0000, 0.0000,\n",
      "          0.0000, 0.0157, 0.0000, 0.0000, 0.2157, 0.9255, 0.8941, 0.9020,\n",
      "          0.8941, 0.9412, 0.9098, 0.8353, 0.8549, 0.8745, 0.9176, 0.8510,\n",
      "          0.8510, 0.8196, 0.3608, 0.0000],\n",
      "         [0.0000, 0.0000, 0.0039, 0.0157, 0.0235, 0.0275, 0.0078, 0.0000,\n",
      "          0.0000, 0.0000, 0.0000, 0.0000, 0.9294, 0.8863, 0.8510, 0.8745,\n",
      "          0.8706, 0.8588, 0.8706, 0.8667, 0.8471, 0.8745, 0.8980, 0.8431,\n",
      "          0.8549, 1.0000, 0.3020, 0.0000],\n",
      "         [0.0000, 0.0118, 0.0000, 0.0000, 0.0000, 0.0000, 0.0000, 0.0000,\n",
      "          0.0000, 0.2431, 0.5686, 0.8000, 0.8941, 0.8118, 0.8353, 0.8667,\n",
      "          0.8549, 0.8157, 0.8275, 0.8549, 0.8784, 0.8745, 0.8588, 0.8431,\n",
      "          0.8784, 0.9569, 0.6235, 0.0000],\n",
      "         [0.0000, 0.0000, 0.0000, 0.0000, 0.0706, 0.1725, 0.3216, 0.4196,\n",
      "          0.7412, 0.8941, 0.8627, 0.8706, 0.8510, 0.8863, 0.7843, 0.8039,\n",
      "          0.8275, 0.9020, 0.8784, 0.9176, 0.6902, 0.7373, 0.9804, 0.9725,\n",
      "          0.9137, 0.9333, 0.8431, 0.0000],\n",
      "         [0.0000, 0.2235, 0.7333, 0.8157, 0.8784, 0.8667, 0.8784, 0.8157,\n",
      "          0.8000, 0.8392, 0.8157, 0.8196, 0.7843, 0.6235, 0.9608, 0.7569,\n",
      "          0.8078, 0.8745, 1.0000, 1.0000, 0.8667, 0.9176, 0.8667, 0.8275,\n",
      "          0.8627, 0.9098, 0.9647, 0.0000],\n",
      "         [0.0118, 0.7922, 0.8941, 0.8784, 0.8667, 0.8275, 0.8275, 0.8392,\n",
      "          0.8039, 0.8039, 0.8039, 0.8627, 0.9412, 0.3137, 0.5882, 1.0000,\n",
      "          0.8980, 0.8667, 0.7373, 0.6039, 0.7490, 0.8235, 0.8000, 0.8196,\n",
      "          0.8706, 0.8941, 0.8824, 0.0000],\n",
      "         [0.3843, 0.9137, 0.7765, 0.8235, 0.8706, 0.8980, 0.8980, 0.9176,\n",
      "          0.9765, 0.8627, 0.7608, 0.8431, 0.8510, 0.9451, 0.2549, 0.2863,\n",
      "          0.4157, 0.4588, 0.6588, 0.8588, 0.8667, 0.8431, 0.8510, 0.8745,\n",
      "          0.8745, 0.8784, 0.8980, 0.1137],\n",
      "         [0.2941, 0.8000, 0.8314, 0.8000, 0.7569, 0.8039, 0.8275, 0.8824,\n",
      "          0.8471, 0.7255, 0.7725, 0.8078, 0.7765, 0.8353, 0.9412, 0.7647,\n",
      "          0.8902, 0.9608, 0.9373, 0.8745, 0.8549, 0.8314, 0.8196, 0.8706,\n",
      "          0.8627, 0.8667, 0.9020, 0.2627],\n",
      "         [0.1882, 0.7961, 0.7176, 0.7608, 0.8353, 0.7725, 0.7255, 0.7451,\n",
      "          0.7608, 0.7529, 0.7922, 0.8392, 0.8588, 0.8667, 0.8627, 0.9255,\n",
      "          0.8824, 0.8471, 0.7804, 0.8078, 0.7294, 0.7098, 0.6941, 0.6745,\n",
      "          0.7098, 0.8039, 0.8078, 0.4510],\n",
      "         [0.0000, 0.4784, 0.8588, 0.7569, 0.7020, 0.6706, 0.7176, 0.7686,\n",
      "          0.8000, 0.8235, 0.8353, 0.8118, 0.8275, 0.8235, 0.7843, 0.7686,\n",
      "          0.7608, 0.7490, 0.7647, 0.7490, 0.7765, 0.7529, 0.6902, 0.6118,\n",
      "          0.6549, 0.6941, 0.8235, 0.3608],\n",
      "         [0.0000, 0.0000, 0.2902, 0.7412, 0.8314, 0.7490, 0.6863, 0.6745,\n",
      "          0.6863, 0.7098, 0.7255, 0.7373, 0.7412, 0.7373, 0.7569, 0.7765,\n",
      "          0.8000, 0.8196, 0.8235, 0.8235, 0.8275, 0.7373, 0.7373, 0.7608,\n",
      "          0.7529, 0.8471, 0.6667, 0.0000],\n",
      "         [0.0078, 0.0000, 0.0000, 0.0000, 0.2588, 0.7843, 0.8706, 0.9294,\n",
      "          0.9373, 0.9490, 0.9647, 0.9529, 0.9569, 0.8667, 0.8627, 0.7569,\n",
      "          0.7490, 0.7020, 0.7137, 0.7137, 0.7098, 0.6902, 0.6510, 0.6588,\n",
      "          0.3882, 0.2275, 0.0000, 0.0000],\n",
      "         [0.0000, 0.0000, 0.0000, 0.0000, 0.0000, 0.0000, 0.0000, 0.1569,\n",
      "          0.2392, 0.1725, 0.2824, 0.1608, 0.1373, 0.0000, 0.0000, 0.0000,\n",
      "          0.0000, 0.0000, 0.0000, 0.0000, 0.0000, 0.0000, 0.0000, 0.0000,\n",
      "          0.0000, 0.0000, 0.0000, 0.0000],\n",
      "         [0.0000, 0.0000, 0.0000, 0.0000, 0.0000, 0.0000, 0.0000, 0.0000,\n",
      "          0.0000, 0.0000, 0.0000, 0.0000, 0.0000, 0.0000, 0.0000, 0.0000,\n",
      "          0.0000, 0.0000, 0.0000, 0.0000, 0.0000, 0.0000, 0.0000, 0.0000,\n",
      "          0.0000, 0.0000, 0.0000, 0.0000],\n",
      "         [0.0000, 0.0000, 0.0000, 0.0000, 0.0000, 0.0000, 0.0000, 0.0000,\n",
      "          0.0000, 0.0000, 0.0000, 0.0000, 0.0000, 0.0000, 0.0000, 0.0000,\n",
      "          0.0000, 0.0000, 0.0000, 0.0000, 0.0000, 0.0000, 0.0000, 0.0000,\n",
      "          0.0000, 0.0000, 0.0000, 0.0000]]]) tensor([0., 0., 0., 0., 0., 0., 0., 0., 0., 1.])\n"
     ]
    }
   ],
   "source": [
    "for k, v in ds:\n",
    "    print(k, v)\n",
    "    break"
   ],
   "metadata": {
    "collapsed": false,
    "ExecuteTime": {
     "end_time": "2023-10-24T08:54:12.318667Z",
     "start_time": "2023-10-24T08:54:12.293469Z"
    }
   },
   "id": "ca52057fefd2fd55"
  },
  {
   "cell_type": "markdown",
   "source": [
    "# 5. 建立神经网络\n",
    "\n",
    "## 获取训练设备"
   ],
   "metadata": {
    "collapsed": false
   },
   "id": "24e832165f3265cb"
  },
  {
   "cell_type": "code",
   "execution_count": 89,
   "outputs": [
    {
     "name": "stdout",
     "output_type": "stream",
     "text": [
      "使用 mps 训练\n"
     ]
    }
   ],
   "source": [
    "device = (\"cuda\" if torch.cuda.is_available() else \"mps\" if torch.backends.mps.is_available() else 'cpu')\n",
    "\n",
    "print(f'使用 {device} 训练')"
   ],
   "metadata": {
    "collapsed": false,
    "ExecuteTime": {
     "end_time": "2023-10-24T08:54:12.318729Z",
     "start_time": "2023-10-24T08:54:12.298758Z"
    }
   },
   "id": "dd164d01f3c6f3ad"
  },
  {
   "cell_type": "markdown",
   "source": [
    "## 定义类\n",
    "\n",
    "使用 `nn.Module` 的子类来定义神经网络，并在 `__init__` 中初始化神经网络。每个 `nn.Module` 子类在 `forward` 方法\n",
    "中实现对输入数据的操作。"
   ],
   "metadata": {
    "collapsed": false
   },
   "id": "1a65bd7d7e154f9b"
  },
  {
   "cell_type": "code",
   "execution_count": 90,
   "outputs": [],
   "source": [
    "class NeuralNetwork(nn.Module):\n",
    "    def __init__(self):\n",
    "        super().__init__()\n",
    "        # 扁平化，默认扁平化为一维\n",
    "        self.flatten = nn.Flatten()\n",
    "        self.linear_relu_stack = nn.Sequential(\n",
    "            nn.Linear(28 * 28, 512),\n",
    "            nn.ReLU(),\n",
    "            nn.Linear(512, 512),\n",
    "            nn.ReLU(),\n",
    "            nn.Linear(512, 10)\n",
    "        )\n",
    "        \n",
    "    def forward(self, x):\n",
    "        x = self.flatten(x)\n",
    "        logits = self.linear_relu_stack(x)\n",
    "        return logits"
   ],
   "metadata": {
    "collapsed": false,
    "ExecuteTime": {
     "end_time": "2023-10-24T08:54:12.318768Z",
     "start_time": "2023-10-24T08:54:12.301627Z"
    }
   },
   "id": "fd3e0c76572fc6a9"
  },
  {
   "cell_type": "markdown",
   "source": [
    "可以更改模型的训练设备:"
   ],
   "metadata": {
    "collapsed": false
   },
   "id": "dfa7123fb4d9251f"
  },
  {
   "cell_type": "code",
   "execution_count": 91,
   "outputs": [
    {
     "data": {
      "text/plain": "NeuralNetwork(\n  (flatten): Flatten(start_dim=1, end_dim=-1)\n  (linear_relu_stack): Sequential(\n    (0): Linear(in_features=784, out_features=512, bias=True)\n    (1): ReLU()\n    (2): Linear(in_features=512, out_features=512, bias=True)\n    (3): ReLU()\n    (4): Linear(in_features=512, out_features=10, bias=True)\n  )\n)"
     },
     "execution_count": 91,
     "metadata": {},
     "output_type": "execute_result"
    }
   ],
   "source": [
    "model = NeuralNetwork().to(device)\n",
    "\n",
    "model"
   ],
   "metadata": {
    "collapsed": false,
    "ExecuteTime": {
     "end_time": "2023-10-24T08:54:12.319586Z",
     "start_time": "2023-10-24T08:54:12.304755Z"
    }
   },
   "id": "f198d5a1fc405516"
  },
  {
   "cell_type": "markdown",
   "source": [
    "当我们传递输入数据值，会执行模型的 `forward`，以及一些后台操作，不要直接调用 `model.forward()`。"
   ],
   "metadata": {
    "collapsed": false
   },
   "id": "fba08e8742de4a2e"
  },
  {
   "cell_type": "code",
   "execution_count": 92,
   "outputs": [
    {
     "data": {
      "text/plain": "tensor([0], device='mps:0')"
     },
     "execution_count": 92,
     "metadata": {},
     "output_type": "execute_result"
    }
   ],
   "source": [
    "X = torch.rand(1, 28, 28, device=device)\n",
    "\n",
    "logits = model(X)\n",
    "pred_probab = nn.Softmax(dim=1)(logits)\n",
    "y_pred = pred_probab.argmax(1)\n",
    "\n",
    "y_pred"
   ],
   "metadata": {
    "collapsed": false,
    "ExecuteTime": {
     "end_time": "2023-10-24T08:54:12.347182Z",
     "start_time": "2023-10-24T08:54:12.313614Z"
    }
   },
   "id": "7d96be969734449f"
  },
  {
   "cell_type": "markdown",
   "source": [
    "显示模型参数:"
   ],
   "metadata": {
    "collapsed": false
   },
   "id": "ece211ffd8bdd563"
  },
  {
   "cell_type": "code",
   "execution_count": 93,
   "outputs": [
    {
     "name": "stdout",
     "output_type": "stream",
     "text": [
      "Layer: linear_relu_stack.0.weight | Size: torch.Size([512, 784]) | Values: tensor([[-0.0162, -0.0056, -0.0142,  ..., -0.0196,  0.0132, -0.0150],\n",
      "        [ 0.0182,  0.0328,  0.0282,  ...,  0.0289, -0.0223, -0.0227]],\n",
      "       device='mps:0', grad_fn=<SliceBackward0>)\n",
      "Layer: linear_relu_stack.0.bias | Size: torch.Size([512]) | Values: tensor([0.0097, 0.0124], device='mps:0', grad_fn=<SliceBackward0>)\n",
      "Layer: linear_relu_stack.2.weight | Size: torch.Size([512, 512]) | Values: tensor([[ 0.0241,  0.0132,  0.0387,  ...,  0.0103,  0.0050,  0.0301],\n",
      "        [-0.0079, -0.0111,  0.0128,  ...,  0.0043,  0.0168,  0.0391]],\n",
      "       device='mps:0', grad_fn=<SliceBackward0>)\n",
      "Layer: linear_relu_stack.2.bias | Size: torch.Size([512]) | Values: tensor([ 0.0200, -0.0193], device='mps:0', grad_fn=<SliceBackward0>)\n",
      "Layer: linear_relu_stack.4.weight | Size: torch.Size([10, 512]) | Values: tensor([[ 0.0165,  0.0346,  0.0074,  ..., -0.0138,  0.0161,  0.0282],\n",
      "        [ 0.0124,  0.0189, -0.0383,  ..., -0.0132, -0.0166, -0.0131]],\n",
      "       device='mps:0', grad_fn=<SliceBackward0>)\n",
      "Layer: linear_relu_stack.4.bias | Size: torch.Size([10]) | Values: tensor([ 0.0190, -0.0139], device='mps:0', grad_fn=<SliceBackward0>)\n"
     ]
    }
   ],
   "source": [
    "for name, param in model.named_parameters():\n",
    "    print(f'Layer: {name} | Size: {param.size()} | Values: {param[:2]}')"
   ],
   "metadata": {
    "collapsed": false,
    "ExecuteTime": {
     "end_time": "2023-10-24T08:54:12.430159Z",
     "start_time": "2023-10-24T08:54:12.321376Z"
    }
   },
   "id": "45ed610e63215a59"
  },
  {
   "cell_type": "markdown",
   "source": [
    "# 6. 自动区分 `torch.autograd`\n",
    "\n",
    "PyTorch 有一个名为 `torch.autograd` 的内置微分引擎，它支持任何计算图的梯度自动计算。"
   ],
   "metadata": {
    "collapsed": false
   },
   "id": "71d438d0815352ee"
  },
  {
   "cell_type": "code",
   "execution_count": 94,
   "outputs": [],
   "source": [
    "import torch\n",
    "\n",
    "x = torch.ones(5)\n",
    "y = torch.zeros(3)\n",
    "w = torch.randn(5, 3, requires_grad=True)\n",
    "b = torch.randn(3, requires_grad=True)"
   ],
   "metadata": {
    "collapsed": false,
    "ExecuteTime": {
     "end_time": "2023-10-24T08:54:12.430283Z",
     "start_time": "2023-10-24T08:54:12.361045Z"
    }
   },
   "id": "a58ff8e481bbbd2b"
  },
  {
   "cell_type": "code",
   "execution_count": 95,
   "outputs": [
    {
     "data": {
      "text/plain": "tensor(2.2179, grad_fn=<BinaryCrossEntropyWithLogitsBackward0>)"
     },
     "execution_count": 95,
     "metadata": {},
     "output_type": "execute_result"
    }
   ],
   "source": [
    "z = x @ w + b\n",
    "\n",
    "loss = torch.nn.functional.binary_cross_entropy_with_logits(z, y)\n",
    "loss"
   ],
   "metadata": {
    "collapsed": false,
    "ExecuteTime": {
     "end_time": "2023-10-24T08:54:12.430378Z",
     "start_time": "2023-10-24T08:54:12.365808Z"
    }
   },
   "id": "15426edb36d907dc"
  },
  {
   "cell_type": "code",
   "execution_count": 96,
   "outputs": [
    {
     "data": {
      "text/plain": "(<AddBackward0 at 0x293514a60>,\n <BinaryCrossEntropyWithLogitsBackward0 at 0x293516080>)"
     },
     "execution_count": 96,
     "metadata": {},
     "output_type": "execute_result"
    }
   ],
   "source": [
    "z.grad_fn, loss.grad_fn"
   ],
   "metadata": {
    "collapsed": false,
    "ExecuteTime": {
     "end_time": "2023-10-24T08:54:12.430669Z",
     "start_time": "2023-10-24T08:54:12.370742Z"
    }
   },
   "id": "74ccb89756e96c51"
  },
  {
   "cell_type": "markdown",
   "source": [
    "## 计算梯度"
   ],
   "metadata": {
    "collapsed": false
   },
   "id": "c5f14c57f54c47c7"
  },
  {
   "cell_type": "code",
   "execution_count": 97,
   "outputs": [
    {
     "data": {
      "text/plain": "(tensor([[0.3313, 0.2071, 0.1431],\n         [0.3313, 0.2071, 0.1431],\n         [0.3313, 0.2071, 0.1431],\n         [0.3313, 0.2071, 0.1431],\n         [0.3313, 0.2071, 0.1431]]),\n tensor([0.3313, 0.2071, 0.1431]))"
     },
     "execution_count": 97,
     "metadata": {},
     "output_type": "execute_result"
    }
   ],
   "source": [
    "loss.backward()\n",
    "\n",
    "w.grad, b.grad"
   ],
   "metadata": {
    "collapsed": false,
    "ExecuteTime": {
     "end_time": "2023-10-24T08:54:12.430787Z",
     "start_time": "2023-10-24T08:54:12.378270Z"
    }
   },
   "id": "b320eca9fe7604d6"
  },
  {
   "cell_type": "markdown",
   "source": [
    "## 禁用梯度跟踪"
   ],
   "metadata": {
    "collapsed": false
   },
   "id": "eb56685c01bcaa79"
  },
  {
   "cell_type": "code",
   "execution_count": 98,
   "outputs": [
    {
     "name": "stdout",
     "output_type": "stream",
     "text": [
      "True\n",
      "False\n"
     ]
    }
   ],
   "source": [
    "z = torch.matmul(x, w)+b\n",
    "print(z.requires_grad)\n",
    "\n",
    "with torch.no_grad():\n",
    "    z = torch.matmul(x, w)+b\n",
    "print(z.requires_grad)"
   ],
   "metadata": {
    "collapsed": false,
    "ExecuteTime": {
     "end_time": "2023-10-24T08:54:12.431207Z",
     "start_time": "2023-10-24T08:54:12.384872Z"
    }
   },
   "id": "4b6e04da66df80c6"
  },
  {
   "cell_type": "code",
   "execution_count": 99,
   "outputs": [
    {
     "name": "stdout",
     "output_type": "stream",
     "text": [
      "False\n"
     ]
    }
   ],
   "source": [
    "z = torch.matmul(x, w)+b\n",
    "z_det = z.detach()\n",
    "print(z_det.requires_grad)"
   ],
   "metadata": {
    "collapsed": false,
    "ExecuteTime": {
     "end_time": "2023-10-24T08:54:12.431269Z",
     "start_time": "2023-10-24T08:54:12.389435Z"
    }
   },
   "id": "eca0654cfbf5c368"
  },
  {
   "cell_type": "markdown",
   "source": [
    "# 7. 优化模型参数\n",
    "\n",
    "* epochs: 迭代次数\n",
    "* batch_size: 批处理大小，样本数量\n",
    "* learning_rate: 学习率"
   ],
   "metadata": {
    "collapsed": false
   },
   "id": "cb48798cb9da315d"
  },
  {
   "cell_type": "code",
   "execution_count": 100,
   "outputs": [],
   "source": [
    "learning_rate = 1e-3\n",
    "batch_size = 64\n",
    "epochs = 5"
   ],
   "metadata": {
    "collapsed": false,
    "ExecuteTime": {
     "end_time": "2023-10-24T08:54:12.431302Z",
     "start_time": "2023-10-24T08:54:12.392743Z"
    }
   },
   "id": "fdfa00b50b5c79c2"
  },
  {
   "cell_type": "markdown",
   "source": [
    "## 优化循环\n",
    "每个循环都包含两个重要的参数:\n",
    "* The Train Loop: 迭代训练数据集，并尝试收敛到最佳参数。\n",
    "* The Validation/Test Loop: 迭代测试数据集，以检查模型性能是否正在提高。\n",
    "\n",
    "## 损失函数\n",
    "\n",
    "常见的损失函数包括用于回归任务的 `nn.MSELoss`（平均平方错误）和用于分类的 `nn.NLLLoss`（负对数可能性）。\n",
    "`nn.CrossEntropyLoss` 结合了 `nn.LogSoftmax` 和 `nn.NLLLoss`。\n",
    "\n",
    "我们将模型的输出 logit 传递给 `nn.CrossEntropyLoss`，这将使logit正常化并计算预测误差。"
   ],
   "metadata": {
    "collapsed": false
   },
   "id": "5233ce2aae050908"
  },
  {
   "cell_type": "code",
   "execution_count": 101,
   "outputs": [],
   "source": [
    "loss_fn = nn.CrossEntropyLoss()"
   ],
   "metadata": {
    "collapsed": false,
    "ExecuteTime": {
     "end_time": "2023-10-24T08:54:12.431424Z",
     "start_time": "2023-10-24T08:54:12.396856Z"
    }
   },
   "id": "af89cf0aa05a6dff"
  },
  {
   "cell_type": "markdown",
   "source": [
    "## 优化器\n",
    "\n",
    "所有优化逻辑都封装在 `optimizer` 对象中。在这里，我们使用SGD优化器；此外，PyTorch中有许多不同的优化器，如 `ADAM` 和 `RMSProp` ，它们更适用于不同类型的模型和数据。\n"
   ],
   "metadata": {
    "collapsed": false
   },
   "id": "3c6ceb7d9d853c64"
  },
  {
   "cell_type": "code",
   "execution_count": 102,
   "outputs": [],
   "source": [
    "optimizer = torch.optim.SGD(model.parameters(), lr=learning_rate)"
   ],
   "metadata": {
    "collapsed": false,
    "ExecuteTime": {
     "end_time": "2023-10-24T08:54:12.431601Z",
     "start_time": "2023-10-24T08:54:12.403491Z"
    }
   },
   "id": "ff4133e870a89a39"
  },
  {
   "cell_type": "markdown",
   "source": [
    "## 全面实施"
   ],
   "metadata": {
    "collapsed": false
   },
   "id": "f0bc1ad18d02561a"
  },
  {
   "cell_type": "code",
   "execution_count": 103,
   "outputs": [
    {
     "name": "stdout",
     "output_type": "stream",
     "text": [
      "loss: 2.294318  [   64/60000]\n",
      "loss: 2.279976  [ 6464/60000]\n",
      "loss: 2.258103  [12864/60000]\n",
      "loss: 2.259092  [19264/60000]\n",
      "loss: 2.239009  [25664/60000]\n",
      "loss: 2.214313  [32064/60000]\n",
      "loss: 2.221273  [38464/60000]\n",
      "loss: 2.186905  [44864/60000]\n",
      "loss: 2.179608  [51264/60000]\n",
      "loss: 2.146931  [57664/60000]\n",
      "Test Error: \n",
      " Accuracy: 49.3%, Avg loss: 2.140845 \n",
      "\n",
      "loss: 2.155710  [   64/60000]\n",
      "loss: 2.142947  [ 6464/60000]\n",
      "loss: 2.081255  [12864/60000]\n",
      "loss: 2.097875  [19264/60000]\n",
      "loss: 2.048521  [25664/60000]\n",
      "loss: 1.991277  [32064/60000]\n",
      "loss: 2.013248  [38464/60000]\n",
      "loss: 1.938838  [44864/60000]\n",
      "loss: 1.926498  [51264/60000]\n",
      "loss: 1.851128  [57664/60000]\n",
      "Test Error: \n",
      " Accuracy: 61.0%, Avg loss: 1.855741 \n",
      "\n",
      "loss: 1.895651  [   64/60000]\n",
      "loss: 1.864016  [ 6464/60000]\n",
      "loss: 1.742036  [12864/60000]\n",
      "loss: 1.777261  [19264/60000]\n",
      "loss: 1.678504  [25664/60000]\n",
      "loss: 1.630444  [32064/60000]\n",
      "loss: 1.638888  [38464/60000]\n",
      "loss: 1.551071  [44864/60000]\n",
      "loss: 1.557170  [51264/60000]\n",
      "loss: 1.446563  [57664/60000]\n",
      "Test Error: \n",
      " Accuracy: 62.4%, Avg loss: 1.477442 \n",
      "\n",
      "loss: 1.549713  [   64/60000]\n",
      "loss: 1.514411  [ 6464/60000]\n",
      "loss: 1.364350  [12864/60000]\n",
      "loss: 1.436552  [19264/60000]\n",
      "loss: 1.325112  [25664/60000]\n",
      "loss: 1.315677  [32064/60000]\n",
      "loss: 1.331188  [38464/60000]\n",
      "loss: 1.263084  [44864/60000]\n",
      "loss: 1.289777  [51264/60000]\n",
      "loss: 1.184753  [57664/60000]\n",
      "Test Error: \n",
      " Accuracy: 63.8%, Avg loss: 1.219759 \n",
      "\n",
      "loss: 1.299215  [   64/60000]\n",
      "loss: 1.278877  [ 6464/60000]\n",
      "loss: 1.117668  [12864/60000]\n",
      "loss: 1.226190  [19264/60000]\n",
      "loss: 1.102833  [25664/60000]\n",
      "loss: 1.121061  [32064/60000]\n",
      "loss: 1.151305  [38464/60000]\n",
      "loss: 1.093161  [44864/60000]\n",
      "loss: 1.127635  [51264/60000]\n",
      "loss: 1.036954  [57664/60000]\n",
      "Test Error: \n",
      " Accuracy: 64.9%, Avg loss: 1.064490 \n",
      "\n",
      "loss: 1.136749  [   64/60000]\n",
      "loss: 1.135587  [ 6464/60000]\n",
      "loss: 0.960043  [12864/60000]\n",
      "loss: 1.096672  [19264/60000]\n",
      "loss: 0.969851  [25664/60000]\n",
      "loss: 0.994848  [32064/60000]\n",
      "loss: 1.041606  [38464/60000]\n",
      "loss: 0.987662  [44864/60000]\n",
      "loss: 1.022514  [51264/60000]\n",
      "loss: 0.945433  [57664/60000]\n",
      "Test Error: \n",
      " Accuracy: 65.9%, Avg loss: 0.965317 \n",
      "\n",
      "loss: 1.024871  [   64/60000]\n",
      "loss: 1.043245  [ 6464/60000]\n",
      "loss: 0.853116  [12864/60000]\n",
      "loss: 1.010833  [19264/60000]\n",
      "loss: 0.887258  [25664/60000]\n",
      "loss: 0.907371  [32064/60000]\n",
      "loss: 0.969368  [38464/60000]\n",
      "loss: 0.919456  [44864/60000]\n",
      "loss: 0.949298  [51264/60000]\n",
      "loss: 0.883369  [57664/60000]\n",
      "Test Error: \n",
      " Accuracy: 67.3%, Avg loss: 0.897653 \n",
      "\n",
      "loss: 0.942348  [   64/60000]\n",
      "loss: 0.979001  [ 6464/60000]\n",
      "loss: 0.776150  [12864/60000]\n",
      "loss: 0.949554  [19264/60000]\n",
      "loss: 0.832103  [25664/60000]\n",
      "loss: 0.843596  [32064/60000]\n",
      "loss: 0.917717  [38464/60000]\n",
      "loss: 0.873441  [44864/60000]\n",
      "loss: 0.895601  [51264/60000]\n",
      "loss: 0.837550  [57664/60000]\n",
      "Test Error: \n",
      " Accuracy: 68.5%, Avg loss: 0.848712 \n",
      "\n",
      "loss: 0.878655  [   64/60000]\n",
      "loss: 0.930364  [ 6464/60000]\n",
      "loss: 0.718483  [12864/60000]\n",
      "loss: 0.903447  [19264/60000]\n",
      "loss: 0.792422  [25664/60000]\n",
      "loss: 0.795737  [32064/60000]\n",
      "loss: 0.877926  [38464/60000]\n",
      "loss: 0.840995  [44864/60000]\n",
      "loss: 0.854974  [51264/60000]\n",
      "loss: 0.801979  [57664/60000]\n",
      "Test Error: \n",
      " Accuracy: 69.6%, Avg loss: 0.811427 \n",
      "\n",
      "loss: 0.827771  [   64/60000]\n",
      "loss: 0.891070  [ 6464/60000]\n",
      "loss: 0.673254  [12864/60000]\n",
      "loss: 0.867247  [19264/60000]\n",
      "loss: 0.762178  [25664/60000]\n",
      "loss: 0.758987  [32064/60000]\n",
      "loss: 0.845319  [38464/60000]\n",
      "loss: 0.816724  [44864/60000]\n",
      "loss: 0.823167  [51264/60000]\n",
      "loss: 0.772961  [57664/60000]\n",
      "Test Error: \n",
      " Accuracy: 71.0%, Avg loss: 0.781635 \n",
      "\n",
      "Done!\n"
     ]
    }
   ],
   "source": [
    "def train_loop(dataloader: DataLoader, model: nn.Module, loss_fn, optimizer: torch.optim.Optimizer):\n",
    "    size = len(dataloader.dataset)\n",
    "    model.train()\n",
    "    \n",
    "    for batch, (X, y) in enumerate(dataloader):\n",
    "        X = X.to(device)\n",
    "        y = y.to(device)\n",
    "        # 计算\n",
    "        pred = model(X)\n",
    "        # 损失函数\n",
    "        loss = loss_fn(pred, y)\n",
    "        \n",
    "        # 传播\n",
    "        loss.backward()\n",
    "        # 收集梯度，调整参数\n",
    "        optimizer.step()\n",
    "        # 梯度归零\n",
    "        optimizer.zero_grad()\n",
    "        \n",
    "        if batch % 100 == 0:\n",
    "            loss, current = loss.item(), (batch + 1) * len(X)\n",
    "            print(f\"loss: {loss:>7f}  [{current:>5d}/{size:>5d}]\")\n",
    "\n",
    "def test_loop(dataloader: DataLoader, model: nn.Module, loss_fn):\n",
    "    model.eval()\n",
    "    \n",
    "    size = len(dataloader.dataset)\n",
    "    num_batches = len(dataloader)\n",
    "    \n",
    "    test_loss, correct = 0, 0\n",
    "    \n",
    "    with torch.no_grad():\n",
    "        for X, y in dataloader:\n",
    "            X = X.to(device)\n",
    "            y = y.to(device)\n",
    "            pred = model(X)\n",
    "            test_loss += loss_fn(pred, y).item()\n",
    "            correct += (pred.argmax(1) == y).type(torch.float).sum().item()\n",
    "    \n",
    "    test_loss /= num_batches\n",
    "    correct /= size\n",
    "\n",
    "    print(f\"Test Error: \\n Accuracy: {(100*correct):>0.1f}%, Avg loss: {test_loss:>8f} \\n\")\n",
    "    \n",
    "    \n",
    "epochs = 10\n",
    "\n",
    "model = model.to(device)\n",
    "\n",
    "for t in range(epochs):\n",
    "    train_loop(training_loader, model, loss_fn, optimizer)\n",
    "    test_loop(test_loader, model, loss_fn)\n",
    "    \n",
    "print(\"Done!\")"
   ],
   "metadata": {
    "collapsed": false,
    "ExecuteTime": {
     "end_time": "2023-10-24T08:54:55.400448Z",
     "start_time": "2023-10-24T08:54:12.410688Z"
    }
   },
   "id": "e359677a44b04db8"
  },
  {
   "cell_type": "markdown",
   "source": [
    "# 8. 保存并加载模型"
   ],
   "metadata": {
    "collapsed": false
   },
   "id": "f9a7873212bfac4d"
  },
  {
   "cell_type": "code",
   "execution_count": 105,
   "outputs": [],
   "source": [
    "import torchvision.models as models\n",
    "\n",
    "# model = models.vgg16(weights='IMAGENET1K_V1')\n",
    "torch.save(model.state_dict(), 'model/model_weights.pth')"
   ],
   "metadata": {
    "collapsed": false,
    "ExecuteTime": {
     "end_time": "2023-10-24T08:57:45.134416Z",
     "start_time": "2023-10-24T08:57:45.116209Z"
    }
   },
   "id": "d0618fe531432ffb"
  },
  {
   "cell_type": "code",
   "execution_count": 114,
   "outputs": [
    {
     "name": "stdout",
     "output_type": "stream",
     "text": [
      "tensor([[-3.3202e+00, -4.5739e+00, -2.2370e+00, -2.2068e+00, -1.6825e+00,\n",
      "          4.8000e+00, -1.8904e+00,  4.3857e+00,  2.5438e+00,  5.2866e+00],\n",
      "        [ 1.7661e+00, -4.0231e+00,  6.9929e+00, -8.8461e-01,  5.4995e+00,\n",
      "         -3.5034e+00,  5.4542e+00, -9.1497e+00,  2.0230e+00, -4.7693e+00],\n",
      "        [ 1.7346e+00,  8.9043e+00,  7.8760e-03,  5.1391e+00,  1.7825e+00,\n",
      "         -4.4732e+00,  5.5923e-01, -5.4554e+00, -4.6510e+00, -4.4455e+00],\n",
      "        [ 1.1316e+00,  6.9757e+00, -1.3950e-01,  4.0477e+00,  1.0689e+00,\n",
      "         -3.1429e+00,  2.3478e-01, -3.9871e+00, -3.8080e+00, -3.1102e+00],\n",
      "        [ 2.2519e+00, -2.1258e+00,  2.4761e+00,  2.3205e-01,  1.7527e+00,\n",
      "         -1.6160e+00,  2.8801e+00, -5.0092e+00,  8.5849e-01, -1.9855e+00],\n",
      "        [ 2.3901e+00,  6.2923e+00,  9.1322e-01,  3.9452e+00,  2.1777e+00,\n",
      "         -4.2071e+00,  1.5019e+00, -5.8215e+00, -3.5663e+00, -4.3940e+00],\n",
      "        [ 1.3236e+00, -7.0680e-01,  1.9686e+00,  6.2039e-02,  1.9924e+00,\n",
      "         -1.3592e+00,  1.9748e+00, -3.3161e+00,  2.5980e-01, -2.4508e+00],\n",
      "        [ 2.7177e-01, -1.7952e+00,  2.6208e+00, -8.5702e-02,  2.9190e+00,\n",
      "         -1.2869e+00,  2.5870e+00, -4.0473e+00,  1.1467e+00, -2.4719e+00],\n",
      "        [-1.0330e+00, -1.1131e+00, -5.9879e-01, -3.2716e-01, -3.4124e-01,\n",
      "          1.4268e+00, -4.4470e-01,  1.7291e+00,  7.5274e-01, -3.5251e-02],\n",
      "        [-2.8789e+00, -2.8947e+00, -1.8621e+00, -1.3315e+00, -1.1810e+00,\n",
      "          3.6783e+00, -1.6528e+00,  5.0506e+00,  1.8522e+00,  1.6931e+00],\n",
      "        [ 2.5990e-01,  1.0843e-02,  4.5942e+00,  6.9695e-02,  4.5120e+00,\n",
      "         -2.8405e+00,  3.1354e+00, -6.0761e+00, -4.5058e-01, -3.7525e+00],\n",
      "        [-2.4483e+00, -3.4690e+00, -1.4378e+00, -1.6684e+00, -1.0476e+00,\n",
      "          3.6364e+00, -1.2421e+00,  3.2916e+00,  2.0006e+00,  3.2543e+00],\n",
      "        [-2.7329e+00, -3.4785e+00, -1.3164e+00, -1.2195e+00, -6.6805e-01,\n",
      "          3.4132e+00, -9.9186e-01,  3.7305e+00,  2.8162e+00,  1.0572e+00],\n",
      "        [ 7.5210e-01,  2.2223e+00, -1.8571e+00,  4.9293e+00,  3.0220e-01,\n",
      "         -1.5976e+00,  2.4238e-01, -2.5996e+00, -9.5396e-01, -1.5416e+00],\n",
      "        [ 1.1654e+00, -3.5815e+00,  4.8016e+00,  8.4686e-01,  5.9887e+00,\n",
      "         -3.5436e+00,  5.1979e+00, -9.0161e+00,  2.6207e+00, -4.7815e+00],\n",
      "        [ 1.6492e+00,  6.1298e+00, -9.7379e-02,  4.3274e+00,  1.2076e+00,\n",
      "         -3.4040e+00,  6.6853e-01, -4.4993e+00, -3.5299e+00, -3.2354e+00],\n",
      "        [ 2.1527e+00, -7.5164e-01,  3.2847e+00, -1.0773e-01,  2.0449e+00,\n",
      "         -2.0440e+00,  2.6901e+00, -4.9460e+00, -8.4687e-02, -2.7782e+00],\n",
      "        [ 1.8402e+00, -2.5831e+00,  3.9786e+00, -1.2949e-01,  3.4416e+00,\n",
      "         -2.4200e+00,  3.7962e+00, -6.4998e+00,  1.4498e+00, -3.2248e+00],\n",
      "        [-2.9941e+00, -6.5500e+00, -2.4698e-01, -2.6603e+00,  5.0383e-01,\n",
      "          3.4921e+00,  9.9891e-02,  1.7162e+00,  4.7776e+00,  2.5559e+00],\n",
      "        [ 7.1624e+00,  6.1345e-01,  2.6092e+00,  3.6195e+00,  2.0978e+00,\n",
      "         -5.4335e+00,  4.6353e+00, -9.5320e+00, -1.2455e+00, -5.6522e+00],\n",
      "        [ 4.1594e+00, -2.7863e+00,  3.7765e+00,  6.8004e-02,  2.2887e+00,\n",
      "         -2.9092e+00,  4.2496e+00, -7.5437e+00,  1.3839e+00, -3.5955e+00],\n",
      "        [-3.5784e+00, -3.9762e+00, -2.0355e+00, -1.6520e+00, -1.2053e+00,\n",
      "          4.4959e+00, -1.7738e+00,  5.5939e+00,  2.7709e+00,  2.1434e+00],\n",
      "        [-5.0808e+00, -5.5162e+00, -3.3194e+00, -2.4558e+00, -2.1349e+00,\n",
      "          6.4808e+00, -2.9254e+00,  8.3005e+00,  3.4797e+00,  4.4291e+00],\n",
      "        [-4.0230e+00, -5.1275e+00, -2.6257e+00, -2.3704e+00, -1.7921e+00,\n",
      "          5.6725e+00, -2.2811e+00,  6.4268e+00,  3.0925e+00,  4.1596e+00],\n",
      "        [ 9.5436e-01,  7.0038e+00, -4.2639e-01,  4.2394e+00,  1.0658e+00,\n",
      "         -3.1005e+00,  7.4417e-02, -3.7500e+00, -3.6132e+00, -3.1533e+00],\n",
      "        [ 3.1489e-02, -1.6126e+00,  2.4057e+00, -2.2049e-01,  2.2054e+00,\n",
      "         -8.4393e-01,  1.9189e+00, -3.1260e+00,  1.0541e+00, -1.9302e+00],\n",
      "        [ 9.2025e-01, -2.3229e+00,  4.9900e+00,  5.1213e-01,  5.5010e+00,\n",
      "         -3.3801e+00,  4.5940e+00, -8.4865e+00,  1.3966e+00, -4.0985e+00],\n",
      "        [ 4.6483e+00,  3.4927e+00,  7.5315e-01,  5.8709e+00,  2.5533e+00,\n",
      "         -5.3442e+00,  3.1140e+00, -8.3168e+00, -2.0574e+00, -5.6525e+00],\n",
      "        [-3.9858e+00, -6.2128e+00, -2.5851e+00, -2.8989e+00, -1.8954e+00,\n",
      "          5.7250e+00, -2.1009e+00,  5.0254e+00,  3.7143e+00,  6.5359e+00],\n",
      "        [ 2.9483e+00,  7.5345e-01,  8.8206e-01,  4.0370e+00,  2.9492e+00,\n",
      "         -3.7259e+00,  2.9946e+00, -6.7515e+00, -3.1945e-01, -4.2723e+00],\n",
      "        [-3.7652e+00, -9.6420e+00,  4.7225e-02, -2.7342e+00,  1.2094e+00,\n",
      "          4.1196e+00,  1.0659e+00,  7.6762e-01,  7.9509e+00,  2.0705e+00],\n",
      "        [ 1.0263e+00, -3.4761e+00,  1.3925e-01,  5.5630e-01,  5.5819e-01,\n",
      "          1.0578e-01,  1.6289e+00, -2.9233e+00,  2.7708e+00, -2.4603e-01],\n",
      "        [ 2.9939e-01,  1.1022e+00, -1.0099e+00,  2.9096e+00,  1.7442e-01,\n",
      "         -7.1869e-01,  1.1221e-01, -1.5472e+00, -5.6052e-01, -8.6210e-01],\n",
      "        [ 2.9395e+00,  5.7483e-01,  9.9903e-01,  4.2228e+00,  2.4949e+00,\n",
      "         -3.6412e+00,  2.8585e+00, -6.4470e+00, -4.2580e-01, -4.1293e+00],\n",
      "        [-8.1150e-01, -6.2388e+00,  9.5552e-01, -9.2708e-01,  1.5323e+00,\n",
      "          1.2879e+00,  1.8979e+00, -1.9062e+00,  4.9499e+00, -2.6742e-01],\n",
      "        [ 3.1980e+00, -3.7932e-03,  1.2928e+00,  1.4055e+00,  8.1000e-01,\n",
      "         -2.1201e+00,  2.1924e+00, -4.2938e+00, -4.7316e-01, -2.4983e+00],\n",
      "        [-3.4912e+00, -3.3194e+00, -2.2715e+00, -1.5866e+00, -1.3398e+00,\n",
      "          4.2778e+00, -2.0008e+00,  5.9950e+00,  2.1597e+00,  2.2230e+00],\n",
      "        [-1.2404e+00, -1.3693e+00, -8.5137e-01, -4.5653e-01, -5.4579e-01,\n",
      "          1.8542e+00, -6.6462e-01,  2.1866e+00,  8.6598e-01,  4.7573e-01],\n",
      "        [-4.2933e+00, -4.4961e+00, -2.4027e+00, -2.1896e+00, -1.2496e+00,\n",
      "          5.1157e+00, -2.1589e+00,  7.0099e+00,  3.0701e+00,  2.2530e+00],\n",
      "        [-3.7926e+00, -6.7517e+00, -2.5481e+00, -3.2583e+00, -2.1283e+00,\n",
      "          5.9389e+00, -2.0815e+00,  4.0165e+00,  3.5115e+00,  8.5361e+00],\n",
      "        [ 6.3800e+00,  2.7653e-01,  2.6919e+00,  3.5294e+00,  2.7070e+00,\n",
      "         -5.3645e+00,  4.7965e+00, -9.7806e+00, -9.9226e-01, -5.1724e+00],\n",
      "        [ 1.2653e+00,  8.6995e+00, -2.5408e-01,  5.1095e+00,  1.7336e+00,\n",
      "         -4.0665e+00,  3.0177e-01, -4.9282e+00, -4.7951e+00, -3.8016e+00],\n",
      "        [ 3.4065e+00,  8.5175e-01,  1.5218e+00,  3.8868e+00,  3.1239e+00,\n",
      "         -4.1348e+00,  3.3966e+00, -7.3345e+00, -1.9231e-01, -5.1256e+00],\n",
      "        [-4.1888e+00, -6.0691e+00, -3.2821e+00, -3.0961e+00, -2.6542e+00,\n",
      "          6.5691e+00, -2.7963e+00,  6.5746e+00,  2.9250e+00,  7.4229e+00],\n",
      "        [ 2.4596e+00, -2.8612e+00,  5.5213e+00,  9.9642e-01,  5.8214e+00,\n",
      "         -4.3919e+00,  5.6435e+00, -9.6990e+00,  1.7027e+00, -5.8934e+00],\n",
      "        [-1.8312e+00, -3.2116e+00, -1.2614e+00, -1.5249e+00, -1.1168e+00,\n",
      "          3.0783e+00, -9.8860e-01,  2.2758e+00,  1.6977e+00,  3.3975e+00],\n",
      "        [ 3.3919e+00, -3.2172e+00,  5.3745e+00,  3.4032e-01,  4.3394e+00,\n",
      "         -3.8468e+00,  5.3308e+00, -9.2320e+00,  1.8792e+00, -4.9937e+00],\n",
      "        [ 1.8169e+00,  6.6076e+00, -3.8810e-01,  5.3561e+00,  1.5059e+00,\n",
      "         -3.9668e+00,  7.8146e-01, -5.1926e+00, -3.5351e+00, -3.7401e+00],\n",
      "        [-3.5196e-01, -2.4278e-01,  2.6218e+00,  4.1756e-01,  3.1692e+00,\n",
      "         -1.5657e+00,  1.9288e+00, -3.8140e+00,  6.1616e-02, -2.5467e+00],\n",
      "        [ 1.3262e+00, -3.4872e+00,  4.4587e+00, -1.1784e-01,  4.3791e+00,\n",
      "         -2.5160e+00,  4.4109e+00, -7.0409e+00,  2.1378e+00, -3.8305e+00],\n",
      "        [ 3.1525e+00, -3.5232e+00,  5.3173e+00, -2.1265e-01,  4.2792e+00,\n",
      "         -3.4797e+00,  5.1629e+00, -8.9832e+00,  2.2934e+00, -4.7801e+00],\n",
      "        [-9.0956e-02, -1.4737e+00,  2.8435e+00, -6.4537e-01,  2.5310e+00,\n",
      "         -9.1983e-01,  2.0660e+00, -3.0587e+00,  9.1748e-01, -2.3871e+00],\n",
      "        [-1.4000e+00, -1.3999e+00, -9.4914e-01, -3.9696e-01, -6.2702e-01,\n",
      "          1.9598e+00, -7.6513e-01,  2.2793e+00,  8.2268e-01,  6.8073e-01],\n",
      "        [ 2.2241e+00, -6.8947e+00,  4.2419e+00, -1.2294e+00,  3.5260e+00,\n",
      "         -1.4682e+00,  4.8183e+00, -7.7377e+00,  3.9584e+00, -1.8885e+00],\n",
      "        [ 1.1866e+00, -9.8119e-02,  2.5135e+00,  1.3816e+00,  3.2990e+00,\n",
      "         -2.5993e+00,  2.6633e+00, -5.3284e+00,  2.3516e-01, -3.5714e+00],\n",
      "        [ 3.5964e+00, -2.9781e+00,  4.8408e+00, -4.1063e-02,  3.1120e+00,\n",
      "         -3.2178e+00,  4.5569e+00, -8.1402e+00,  1.4868e+00, -4.0514e+00],\n",
      "        [-2.1080e+00, -8.2151e+00,  1.1983e+00, -3.3477e+00,  1.4091e+00,\n",
      "          2.6874e+00,  1.5319e+00, -2.6581e-01,  6.5168e+00,  1.0806e+00],\n",
      "        [-1.2457e-01, -2.7944e+00,  4.6998e+00,  5.4504e-03,  5.1271e+00,\n",
      "         -2.5255e+00,  3.8379e+00, -6.5526e+00,  1.9489e+00, -3.9515e+00],\n",
      "        [-3.1190e+00, -7.3671e+00, -1.8225e-02, -3.0024e+00,  5.7102e-01,\n",
      "          3.6370e+00,  3.2464e-01,  2.1263e+00,  5.7333e+00,  1.7591e+00],\n",
      "        [ 2.9679e+00,  9.2195e-01,  1.1488e+00,  1.2676e+00,  6.2703e-01,\n",
      "         -2.0270e+00,  1.7162e+00, -3.8187e+00, -1.1478e+00, -2.1946e+00],\n",
      "        [-3.5230e+00, -3.6811e+00, -2.5134e+00, -1.7369e+00, -1.6850e+00,\n",
      "          4.6950e+00, -2.2000e+00,  6.4526e+00,  2.1607e+00,  2.7492e+00],\n",
      "        [-4.2123e+00, -5.0951e+00, -2.8208e+00, -2.2407e+00, -1.9257e+00,\n",
      "          5.7074e+00, -2.3993e+00,  6.8364e+00,  3.2365e+00,  4.1617e+00],\n",
      "        [-4.8833e+00, -7.9747e+00, -6.9185e-01, -2.8893e+00,  6.4739e-01,\n",
      "          4.7327e+00, -3.0317e-01,  2.9221e+00,  6.6882e+00,  2.9846e+00],\n",
      "        [-1.7942e+00, -2.4280e+00, -1.1244e+00, -9.6478e-01, -7.7447e-01,\n",
      "          2.7060e+00, -8.6567e-01,  2.6159e+00,  1.4855e+00,  1.6101e+00]],\n",
      "       device='mps:0', grad_fn=<LinearBackward0>)\n"
     ]
    }
   ],
   "source": [
    "load_model = NeuralNetwork().to('mps')\n",
    "load_model.load_state_dict(torch.load('model/model_weights.pth'))\n"
   ],
   "metadata": {
    "collapsed": false,
    "ExecuteTime": {
     "end_time": "2023-10-24T09:02:06.584869Z",
     "start_time": "2023-10-24T09:02:05.990466Z"
    }
   },
   "id": "51a9cc5cdea80840"
  },
  {
   "cell_type": "code",
   "execution_count": 115,
   "outputs": [],
   "source": [
    "torch.save(model, 'model/model.pth')\n",
    "load_model = torch.load('model/model.pth')"
   ],
   "metadata": {
    "collapsed": false,
    "ExecuteTime": {
     "end_time": "2023-10-24T09:03:19.208559Z",
     "start_time": "2023-10-24T09:03:19.165436Z"
    }
   },
   "id": "b940829e5b72376e"
  },
  {
   "cell_type": "code",
   "execution_count": 152,
   "outputs": [
    {
     "data": {
      "text/plain": "array([['Ankle Boot', 'Pullover', 'Trouser', 'Trouser', 'Shirt',\n        'Trouser', 'Coat', 'Coat', 'Sneaker', 'Sneaker', 'Pullover',\n        'Sandal', 'Sneaker', 'Dress', 'Coat', 'Trouser', 'Pullover',\n        'Pullover', 'Bag', 'T-Shirt', 'Shirt', 'Sneaker', 'Sneaker',\n        'Sneaker', 'Trouser', 'Pullover', 'Coat', 'Dress', 'Ankle Boot',\n        'Dress', 'Bag', 'Bag', 'Dress', 'Dress', 'Bag', 'T-Shirt',\n        'Sneaker', 'Sneaker', 'Sneaker', 'Ankle Boot', 'T-Shirt',\n        'Trouser', 'Dress', 'Ankle Boot', 'Coat', 'Ankle Boot',\n        'Pullover', 'Trouser', 'Coat', 'Pullover', 'Pullover',\n        'Pullover', 'Sneaker', 'Shirt', 'Coat', 'Pullover', 'Bag',\n        'Coat', 'Bag', 'T-Shirt', 'Sneaker', 'Sneaker', 'Bag', 'Sandal'],\n       ['Ankle Boot', 'Pullover', 'Trouser', 'Trouser', 'Shirt',\n        'Trouser', 'Coat', 'Shirt', 'Sandal', 'Sneaker', 'Coat',\n        'Sandal', 'Sneaker', 'Dress', 'Coat', 'Trouser', 'Pullover',\n        'Coat', 'Bag', 'T-Shirt', 'Pullover', 'Sandal', 'Sneaker',\n        'Ankle Boot', 'Trouser', 'Coat', 'Shirt', 'T-Shirt',\n        'Ankle Boot', 'Dress', 'Bag', 'Bag', 'Dress', 'Dress', 'Bag',\n        'T-Shirt', 'Sneaker', 'Sandal', 'Sneaker', 'Ankle Boot', 'Shirt',\n        'Trouser', 'Dress', 'Sneaker', 'Shirt', 'Sneaker', 'Pullover',\n        'Trouser', 'Pullover', 'Pullover', 'Coat', 'Coat', 'Sandal',\n        'Bag', 'Pullover', 'Pullover', 'Bag', 'Coat', 'Bag', 'T-Shirt',\n        'Sneaker', 'Sneaker', 'Bag', 'Sandal'],\n       ['5.286579', '6.9929047', '8.904346', '6.9756675', '2.8801422',\n        '6.292269', '1.9923583', '2.918996', '1.7291176', '5.050643',\n        '4.5942106', '3.6364095', '3.7304797', '4.929256', '5.9886684',\n        '6.1298223', '3.2846553', '3.9785726', '4.7775645', '7.1624312',\n        '4.249554', '5.593862', '8.300472', '6.4267564', '7.0037613',\n        '2.4056664', '5.500958', '5.870896', '6.5359178', '4.03702',\n        '7.9508533', '2.7708223', '2.9096336', '4.222785', '4.949863',\n        '3.197953', '5.9949565', '2.186581', '7.009893', '8.536145',\n        '6.3800373', '8.699472', '3.8867602', '7.42285', '5.821352',\n        '3.3974767', '5.374546', '6.607597', '3.1692338', '4.458667',\n        '5.3173122', '2.8434792', '2.279298', '4.8183274', '3.2989821',\n        '4.8407526', '6.5168114', '5.1270533', '5.7332983', '2.9679272',\n        '6.45259', '6.836412', '6.688228', '2.7059982']], dtype='<U32')"
     },
     "execution_count": 152,
     "metadata": {},
     "output_type": "execute_result"
    }
   ],
   "source": [
    "\n",
    "load_model.eval()\n",
    "ret = []\n",
    "for X, y in test_loader:\n",
    "    X = X.to('mps')\n",
    "    y = y.to('mps')\n",
    "    model_ret = load_model(X) # type: torch.Tensor\n",
    "    ret = model_ret.argmax(1) # type: torch.Tensor\n",
    "    ret_label = [labels_map[i.item()] for i in ret]\n",
    "    y_label = [labels_map[i.item()] for i in y.data]\n",
    "    max = model_ret.max(1) # type: torch.return_types.max\n",
    "    ret = np.array([ret_label, y_label, max[0].cpu().detach().numpy()])\n",
    "    break\n",
    "ret"
   ],
   "metadata": {
    "collapsed": false,
    "ExecuteTime": {
     "end_time": "2023-10-24T09:51:21.281797Z",
     "start_time": "2023-10-24T09:51:21.242600Z"
    }
   },
   "id": "ebf60ea3e3cf4b7c"
  },
  {
   "cell_type": "code",
   "execution_count": null,
   "outputs": [],
   "source": [],
   "metadata": {
    "collapsed": false
   },
   "id": "98860a3696e13b19"
  }
 ],
 "metadata": {
  "kernelspec": {
   "display_name": "Python 3",
   "language": "python",
   "name": "python3"
  },
  "language_info": {
   "codemirror_mode": {
    "name": "ipython",
    "version": 2
   },
   "file_extension": ".py",
   "mimetype": "text/x-python",
   "name": "python",
   "nbconvert_exporter": "python",
   "pygments_lexer": "ipython2",
   "version": "2.7.6"
  }
 },
 "nbformat": 4,
 "nbformat_minor": 5
}
