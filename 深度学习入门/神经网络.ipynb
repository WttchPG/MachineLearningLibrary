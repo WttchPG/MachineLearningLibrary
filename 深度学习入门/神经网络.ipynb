{
 "cells": [
  {
   "cell_type": "code",
   "execution_count": 32,
   "outputs": [
    {
     "name": "stdout",
     "output_type": "stream",
     "text": [
      "load_mnist发现位于../datasets/mnist/dataframe.pkl的任务结果\n"
     ]
    }
   ],
   "source": [
    "from sklearn.datasets import fetch_openml\n",
    "from sklearn.model_selection import train_test_split\n",
    "import pandas as pd\n",
    "import numpy as np\n",
    "from utils.joblib_wrapper import joblib_wrapper\n",
    "\n",
    "@joblib_wrapper(\"../datasets/mnist/dataframe.pkl\")\n",
    "def load_mnist():\n",
    "    return fetch_openml('mnist_784', cache=True, data_home='../datasets', as_frame=True, parser='auto')\n",
    "\n",
    "\n",
    "mnist_dataset = load_mnist()['frame']  # type: pd.DataFrame"
   ],
   "metadata": {
    "collapsed": false,
    "ExecuteTime": {
     "end_time": "2023-11-24T06:07:47.567091Z",
     "start_time": "2023-11-24T06:07:47.215335Z"
    }
   },
   "id": "fbdf0d32bfe62ea9"
  },
  {
   "cell_type": "code",
   "execution_count": 33,
   "outputs": [
    {
     "data": {
      "text/plain": "((60000, 784), (60000,), (10000, 784), (10000,))"
     },
     "execution_count": 33,
     "metadata": {},
     "output_type": "execute_result"
    }
   ],
   "source": [
    "train_dataset, test_dataset = train_test_split(mnist_dataset, train_size=60000,\n",
    "                                               test_size=10000)  # type: pd.DataFrame, pd.DataFrame\n",
    "\n",
    "\n",
    "def dataset2xy(dataset: pd.DataFrame):\n",
    "    x_df = dataset.iloc[:, :-1]  # type: pd.DataFrame\n",
    "    y_df = dataset.iloc[:, -1]  # type: pd.DataFrame\n",
    "\n",
    "    return x_df.to_numpy(), y_df.to_numpy(dtype=int)\n",
    "\n",
    "x_train, y_train = dataset2xy(train_dataset) # type: np.ndarray, np.ndarray\n",
    "x_test, y_test = dataset2xy(test_dataset) # type: np.ndarray, np.ndarray\n",
    "\n",
    "x_train.shape, y_train.shape, x_test.shape, y_test.shape"
   ],
   "metadata": {
    "collapsed": false,
    "ExecuteTime": {
     "end_time": "2023-11-24T06:07:51.279463Z",
     "start_time": "2023-11-24T06:07:50.999197Z"
    }
   },
   "id": "378e51f520603610"
  },
  {
   "cell_type": "code",
   "execution_count": null,
   "outputs": [],
   "source": [],
   "metadata": {
    "collapsed": false
   },
   "id": "4f92cd5e2fff51c2"
  }
 ],
 "metadata": {
  "kernelspec": {
   "display_name": "Python 3",
   "language": "python",
   "name": "python3"
  },
  "language_info": {
   "codemirror_mode": {
    "name": "ipython",
    "version": 2
   },
   "file_extension": ".py",
   "mimetype": "text/x-python",
   "name": "python",
   "nbconvert_exporter": "python",
   "pygments_lexer": "ipython2",
   "version": "2.7.6"
  }
 },
 "nbformat": 4,
 "nbformat_minor": 5
}
