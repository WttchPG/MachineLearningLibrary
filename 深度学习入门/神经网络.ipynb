{
 "cells": [
  {
   "cell_type": "code",
   "execution_count": 1,
   "outputs": [
    {
     "name": "stdout",
     "output_type": "stream",
     "text": [
      "load_mnist发现位于../datasets/mnist/dataframe.pkl的任务结果\n"
     ]
    }
   ],
   "source": [
    "from sklearn.datasets import fetch_openml\n",
    "from sklearn.model_selection import train_test_split\n",
    "import pandas as pd\n",
    "import numpy as np\n",
    "from utils.joblib_wrapper import joblib_wrapper\n",
    "\n",
    "@joblib_wrapper(\"../datasets/mnist/dataframe.pkl\")\n",
    "def load_mnist():\n",
    "    return fetch_openml('mnist_784', cache=True, data_home='../datasets', as_frame=True, parser='auto')\n",
    "\n",
    "\n",
    "mnist_dataset = load_mnist()['frame']  # type: pd.DataFrame"
   ],
   "metadata": {
    "collapsed": false,
    "ExecuteTime": {
     "end_time": "2023-12-20T12:44:07.009005Z",
     "start_time": "2023-12-20T12:44:02.724639Z"
    }
   },
   "id": "fbdf0d32bfe62ea9"
  },
  {
   "cell_type": "code",
   "execution_count": 55,
   "outputs": [
    {
     "data": {
      "text/plain": "((60000, 784), (60000, 10), (10000, 784), (10000, 10))"
     },
     "execution_count": 55,
     "metadata": {},
     "output_type": "execute_result"
    }
   ],
   "source": [
    "from sklearn.preprocessing import OneHotEncoder\n",
    "\n",
    "train_dataset, test_dataset = train_test_split(mnist_dataset, train_size=60000,\n",
    "                                               test_size=10000)  # type: pd.DataFrame, pd.DataFrame\n",
    "\n",
    "def dataset2xy(dataset: pd.DataFrame):\n",
    "    x_df = dataset.iloc[:, :-1]  # type: pd.DataFrame\n",
    "    y_df = dataset.iloc[:, -1]  # type: pd.DataFrame\n",
    "\n",
    "    return x_df.to_numpy(), y_df.to_numpy(dtype=int)\n",
    "\n",
    "x_train, y_train = dataset2xy(train_dataset) # type: np.ndarray, np.ndarray\n",
    "x_test, y_test = dataset2xy(test_dataset) # type: np.ndarray, np.ndarray\n",
    "\n",
    "\n",
    "one_hot_encoder = OneHotEncoder()\n",
    "one_hot_encoder.fit(y_train.reshape(-1, 1))\n",
    "y_train = one_hot_encoder.transform(y_train.reshape(-1, 1)).toarray()\n",
    "y_test = one_hot_encoder.transform(y_test.reshape(-1, 1)).toarray()\n",
    "\n",
    "x_train.shape, y_train.shape, x_test.shape, y_test.shape"
   ],
   "metadata": {
    "collapsed": false,
    "ExecuteTime": {
     "end_time": "2023-12-20T13:10:48.521404Z",
     "start_time": "2023-12-20T13:10:48.267324Z"
    }
   },
   "id": "378e51f520603610"
  },
  {
   "cell_type": "code",
   "execution_count": 56,
   "outputs": [
    {
     "data": {
      "text/plain": "array([0.09976469, 0.09368956, 0.10018773, 0.09619245, 0.0990026 ,\n       0.09779123, 0.10233236, 0.09895777, 0.11765148, 0.09443013])"
     },
     "execution_count": 56,
     "metadata": {},
     "output_type": "execute_result"
    }
   ],
   "source": [
    "import numpy as np\n",
    "from nets import TwoLayerNet\n",
    "\n",
    "net = TwoLayerNet(784, 100, 10)\n",
    "net.predict(x_train[0, :])"
   ],
   "metadata": {
    "collapsed": false,
    "ExecuteTime": {
     "end_time": "2023-12-20T13:10:49.207579Z",
     "start_time": "2023-12-20T13:10:49.128851Z"
    }
   },
   "id": "4f92cd5e2fff51c2"
  },
  {
   "cell_type": "markdown",
   "source": [
    "### mini-batch 的实现"
   ],
   "metadata": {
    "collapsed": false
   },
   "id": "4d70001b1c3acd7c"
  },
  {
   "cell_type": "code",
   "execution_count": 63,
   "outputs": [
    {
     "name": "stdout",
     "output_type": "stream",
     "text": [
      "0\n",
      "1\n",
      "2\n",
      "3\n",
      "4\n",
      "5\n",
      "6\n",
      "7\n",
      "8\n",
      "9\n",
      "10\n",
      "11\n",
      "12\n",
      "13\n",
      "14\n",
      "15\n",
      "16\n",
      "17\n",
      "18\n",
      "19\n",
      "20\n",
      "21\n",
      "22\n",
      "23\n",
      "24\n",
      "25\n",
      "26\n",
      "27\n",
      "28\n",
      "29\n",
      "30\n",
      "31\n",
      "32\n",
      "33\n",
      "34\n",
      "35\n",
      "36\n",
      "37\n",
      "38\n",
      "39\n"
     ]
    },
    {
     "data": {
      "text/plain": "[14.50266205526922,\n 14.515999985608888,\n 14.503530236788887,\n 14.490359101620399,\n 14.501208971048836,\n 14.499689227393231,\n 14.494002763329675,\n 14.519482957667229,\n 14.496080197307432,\n 14.495768913545453,\n 14.475748080823056,\n 14.49949939676777,\n 14.499319112111753,\n 14.509472849766336,\n 14.486969953833178,\n 14.486780695892529,\n 14.501303979489641,\n 14.51291421037389,\n 14.5034201588029,\n 14.500808597679608,\n 14.49480674824808,\n 14.503999340267438,\n 14.491333289125212,\n 14.496974782105559,\n 14.505936443618456,\n 14.503013368309208,\n 14.508661683597653,\n 14.50136701271151,\n 14.477339881214277,\n 14.495006072243791,\n 14.503832015075627,\n 14.51669732001049,\n 14.50188971553795,\n 14.490378449615694,\n 14.500874525462232,\n 14.502485101906023,\n 14.494143956938816,\n 14.499620636360946,\n 14.501245702161608,\n 14.490864849394585]"
     },
     "execution_count": 63,
     "metadata": {},
     "output_type": "execute_result"
    }
   ],
   "source": [
    "train_loss_list = []\n",
    "\n",
    "# 超参数\n",
    "iters_num = 40\n",
    "train_size = x_train.shape[0]\n",
    "batch_size = 100\n",
    "learning_rate = 0.1\n",
    "network = TwoLayerNet(input_size=784, hidden_size=50, output_size=10)\n",
    "\n",
    "for i in range(0, iters_num):\n",
    "    batch_mask = np.random.choice(train_size, batch_size)\n",
    "    x_batch = x_train[batch_mask, :]\n",
    "    y_batch = y_train[batch_mask]\n",
    "    \n",
    "    grad = network.numerical_gradient(x_batch, y_batch)\n",
    "    \n",
    "    # 更新参数\n",
    "    for key in ('W1', 'W2', 'b1', 'b2'):\n",
    "        network.params[key] -= learning_rate * grad[key]\n",
    "    \n",
    "    loss = network.loss(x_batch, y_batch)\n",
    "    train_loss_list.append(loss)\n",
    "    print(i)\n",
    "train_loss_list"
   ],
   "metadata": {
    "collapsed": false,
    "ExecuteTime": {
     "end_time": "2023-12-20T13:15:07.843052Z",
     "start_time": "2023-12-20T13:14:17.194309Z"
    }
   },
   "id": "5f25ed77cdaf4562"
  },
  {
   "cell_type": "code",
   "execution_count": null,
   "outputs": [],
   "source": [],
   "metadata": {
    "collapsed": false
   },
   "id": "cb8d6f755238b77"
  }
 ],
 "metadata": {
  "kernelspec": {
   "display_name": "Python 3",
   "language": "python",
   "name": "python3"
  },
  "language_info": {
   "codemirror_mode": {
    "name": "ipython",
    "version": 2
   },
   "file_extension": ".py",
   "mimetype": "text/x-python",
   "name": "python",
   "nbconvert_exporter": "python",
   "pygments_lexer": "ipython2",
   "version": "2.7.6"
  }
 },
 "nbformat": 4,
 "nbformat_minor": 5
}
