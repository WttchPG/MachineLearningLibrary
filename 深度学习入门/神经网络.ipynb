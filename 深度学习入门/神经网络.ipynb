{
 "cells": [
  {
   "cell_type": "code",
   "execution_count": 7,
   "outputs": [
    {
     "data": {
      "text/plain": "((60000, 784), (60000, 10), (10000, 784), (10000, 10))"
     },
     "execution_count": 7,
     "metadata": {},
     "output_type": "execute_result"
    }
   ],
   "source": [
    "import numpy as np\n",
    "import torch\n",
    "\n",
    "from common import load_mnist\n",
    "from optimizers import *\n",
    "from nets import Net\n",
    "\n",
    "x_train, y_train, x_test, y_test = load_mnist()\n",
    "\n",
    "x_train.shape, y_train.shape, x_test.shape, y_test.shape"
   ],
   "metadata": {
    "collapsed": false,
    "ExecuteTime": {
     "end_time": "2023-12-26T14:06:33.412987Z",
     "start_time": "2023-12-26T14:06:29.576287Z"
    }
   },
   "id": "fbdf0d32bfe62ea9"
  },
  {
   "cell_type": "code",
   "execution_count": 8,
   "outputs": [
    {
     "data": {
      "text/plain": "array([0., 0., 0., 0., 0., 1., 0., 0., 0., 0.])"
     },
     "execution_count": 8,
     "metadata": {},
     "output_type": "execute_result"
    },
    {
     "data": {
      "text/plain": "<Figure size 640x480 with 1 Axes>",
      "image/png": "[encoded data removed]"
     },
     "metadata": {},
     "output_type": "display_data"
    }
   ],
   "source": [
    "from common import to_image\n",
    "import matplotlib.pyplot as plt\n",
    "\n",
    "plt.imshow(to_image(x_train[0] * 255))\n",
    "y_train[0]"
   ],
   "metadata": {
    "collapsed": false,
    "ExecuteTime": {
     "end_time": "2023-12-26T14:06:33.488358Z",
     "start_time": "2023-12-26T14:06:33.420305Z"
    }
   },
   "id": "378e51f520603610"
  },
  {
   "cell_type": "markdown",
   "source": [
    "### mini-batch 的实现"
   ],
   "metadata": {
    "collapsed": false
   },
   "id": "4d70001b1c3acd7c"
  },
  {
   "cell_type": "code",
   "execution_count": 10,
   "outputs": [
    {
     "name": "stdout",
     "output_type": "stream",
     "text": [
      "0.1594 14.495018748925517\n",
      "0.9537 0.6866426475585532\n",
      "0.9569 0.6779537534612856\n",
      "0.9639 0.4950446786431456\n",
      "0.9659 0.1638385587490037\n",
      "0.9621 0.13930064219057275\n"
     ]
    }
   ],
   "source": [
    "\n",
    "train_loss_list = []\n",
    "\n",
    "# 超参数\n",
    "iters_num = 10000\n",
    "train_size = x_train.shape[0]\n",
    "batch_size = 64\n",
    "epoch_size = train_size / batch_size\n",
    "learning_rate = 0.01\n",
    "network = Net()\n",
    "\n",
    "optimizer = Adam(lr=learning_rate)\n",
    "\n",
    "for i in range(0, iters_num):\n",
    "    batch_mask = np.random.choice(train_size, batch_size)\n",
    "    x_batch = x_train[batch_mask]\n",
    "    y_batch = y_train[batch_mask]\n",
    "    \n",
    "    grad = network.gradient(x_batch, y_batch)\n",
    "    \n",
    "    # 更新参数\n",
    "    optimizer.update(network.params(), grad)\n",
    "    \n",
    "    loss = network.loss(x_batch, y_batch)\n",
    "    train_loss_list.append(loss)\n",
    "    if i % epoch_size == 0:\n",
    "        print(network.accuracy(x_test, y_test), loss)\n"
   ],
   "metadata": {
    "collapsed": false,
    "ExecuteTime": {
     "end_time": "2023-12-26T14:07:49.974591Z",
     "start_time": "2023-12-26T14:06:55.371032Z"
    }
   },
   "id": "5f25ed77cdaf4562"
  },
  {
   "cell_type": "code",
   "execution_count": 11,
   "outputs": [
    {
     "data": {
      "text/plain": "99"
     },
     "execution_count": 11,
     "metadata": {},
     "output_type": "execute_result"
    }
   ],
   "source": [
    "pred = network.predict(x_train[:100, :]).argmax(axis=1) # type: np.ndarray\n",
    "(pred == y_train[:100, :].argmax(axis=1)).sum()"
   ],
   "metadata": {
    "collapsed": false,
    "ExecuteTime": {
     "end_time": "2023-12-26T14:07:53.505523Z",
     "start_time": "2023-12-26T14:07:53.487917Z"
    }
   },
   "id": "5823a3658e64d24a"
  },
  {
   "cell_type": "code",
   "execution_count": 14,
   "outputs": [
    {
     "name": "stdout",
     "output_type": "stream",
     "text": [
      "Parameter containing:\n",
      "tensor([[-3.6351e-03, -8.0713e-02, -3.1012e-02,  4.0315e-02,  7.1241e-02,\n",
      "          1.8232e-02, -2.3766e-02, -3.2001e-02,  8.1452e-02, -7.9906e-02,\n",
      "         -9.6543e-02, -4.3963e-02,  4.7425e-03, -8.1797e-02, -3.2832e-02,\n",
      "         -2.5291e-02,  9.0282e-02,  2.6745e-02,  7.9437e-02, -5.4742e-02,\n",
      "          8.9625e-02,  9.4219e-02, -4.5956e-02, -1.7401e-02, -1.3641e-02,\n",
      "          8.8983e-02,  7.6566e-03, -4.7886e-03, -2.4853e-02, -8.3480e-02,\n",
      "          7.8619e-02, -3.6282e-02,  8.0816e-02, -2.7683e-03,  9.0063e-02,\n",
      "          2.5323e-02, -3.7437e-02, -5.8267e-02,  2.7826e-02, -6.8713e-02,\n",
      "          3.8401e-02,  3.4798e-02, -4.1293e-02,  7.7246e-02,  7.2431e-03,\n",
      "         -1.7247e-02, -2.4272e-03, -4.4874e-03,  3.6795e-02, -5.6717e-02,\n",
      "          1.4774e-02, -1.9267e-02,  8.5126e-02,  6.7332e-03, -7.2557e-02,\n",
      "         -3.7692e-03, -3.4161e-02,  5.2815e-02, -4.7343e-02,  9.1832e-02,\n",
      "         -9.4979e-02, -3.8258e-02,  5.4120e-02, -5.4490e-02,  2.0861e-02,\n",
      "         -3.7900e-02,  8.8198e-03,  4.5738e-02,  4.4223e-02, -8.7836e-02,\n",
      "         -3.8992e-02, -5.5260e-03, -6.6824e-02,  4.3881e-02,  3.2556e-02,\n",
      "         -1.3177e-02,  8.9922e-02, -3.2729e-02,  2.3446e-02, -7.5304e-02,\n",
      "          3.1264e-02, -7.4224e-03,  7.5401e-02,  8.7067e-02, -2.2888e-02,\n",
      "          4.4549e-02,  2.2604e-02, -6.3697e-03,  7.0235e-03,  7.7511e-02,\n",
      "         -1.5102e-02,  6.6095e-02, -7.1302e-02,  7.0437e-02, -4.6462e-02,\n",
      "          7.3021e-02, -2.5830e-02,  2.0425e-02, -5.4099e-02, -6.5933e-02],\n",
      "        [-8.1728e-02,  5.9913e-03, -4.3388e-02,  6.3405e-02,  6.0368e-02,\n",
      "          2.1474e-02, -7.9567e-02,  8.9255e-02,  3.1357e-02,  7.0103e-02,\n",
      "          3.8536e-02, -4.5779e-02,  7.4974e-03, -9.6282e-02, -3.8883e-03,\n",
      "         -3.2476e-02, -4.4226e-02,  7.5297e-02, -6.7770e-02,  7.5634e-02,\n",
      "          6.3959e-02, -1.5055e-02,  9.6381e-02,  3.8823e-02, -5.4287e-02,\n",
      "          9.3123e-02,  6.3090e-02, -4.2451e-03, -2.2647e-02,  4.6145e-02,\n",
      "          5.5297e-02,  7.5178e-02,  4.5249e-02,  1.0867e-02, -3.8744e-03,\n",
      "         -3.5855e-02, -6.6309e-02, -6.1735e-03,  4.8588e-02, -6.9605e-02,\n",
      "         -2.1170e-02, -5.4917e-02, -8.6556e-03, -6.3697e-03, -6.3677e-02,\n",
      "          5.7111e-04,  5.4060e-02, -6.0325e-02, -9.5298e-02,  2.0315e-02,\n",
      "         -2.5472e-02, -1.4709e-02, -8.1975e-02,  5.0401e-02, -9.8600e-02,\n",
      "          6.3051e-02,  5.9644e-02, -1.1831e-03, -6.4844e-02, -7.2249e-02,\n",
      "          7.5550e-02, -9.4409e-02,  2.7031e-02, -5.4952e-02,  7.8943e-03,\n",
      "         -5.7909e-03,  6.8719e-02,  9.5054e-02,  6.9768e-02, -2.4500e-02,\n",
      "          8.7901e-02, -9.5738e-02, -9.4255e-02,  4.8862e-02, -5.5490e-02,\n",
      "          3.7087e-02, -9.9444e-02,  1.8346e-02,  3.4284e-02,  4.9980e-02,\n",
      "         -4.4295e-02, -9.9669e-02,  5.4022e-02, -4.1207e-02, -4.3041e-02,\n",
      "         -1.1396e-02,  8.2694e-03,  7.8742e-02, -8.6165e-02,  4.0485e-02,\n",
      "         -5.3260e-02, -6.7611e-02,  7.7854e-02,  1.8835e-02,  9.0788e-04,\n",
      "          9.4407e-02, -1.0871e-02, -8.1093e-02,  9.6071e-02, -9.3186e-02],\n",
      "        [-6.1008e-02, -8.4301e-02, -9.0984e-03, -7.0472e-03,  9.1534e-03,\n",
      "          9.0917e-02,  5.4739e-02, -4.0691e-02,  7.5124e-02,  1.1065e-02,\n",
      "          1.0309e-02, -2.8802e-02, -8.3837e-02, -8.8717e-02,  6.5403e-02,\n",
      "          9.7534e-02, -6.7066e-02,  1.4995e-02, -6.1367e-02, -9.7487e-02,\n",
      "         -8.4225e-02,  9.0643e-02, -4.5655e-02,  4.3185e-02,  2.7097e-02,\n",
      "          4.4159e-02, -4.0739e-02,  8.2133e-02, -2.9467e-02,  5.0569e-02,\n",
      "         -6.8893e-02,  9.5293e-02, -4.0133e-02, -1.8377e-03, -4.6984e-02,\n",
      "          7.6601e-02, -2.0385e-03,  3.0870e-02, -9.3032e-02, -1.5953e-02,\n",
      "         -2.0073e-02, -8.7969e-02,  7.8253e-02,  3.0871e-02, -4.5750e-02,\n",
      "         -7.9303e-02,  2.3388e-02, -8.6257e-02, -4.8220e-03, -3.4798e-02,\n",
      "          2.3968e-02,  1.1567e-03, -6.2188e-02,  5.4237e-02,  8.0174e-03,\n",
      "         -6.9865e-02, -4.6386e-02,  9.7478e-02, -5.7661e-02, -3.5431e-02,\n",
      "         -6.8108e-02,  5.7273e-02, -3.1019e-02, -8.9229e-02,  8.3419e-02,\n",
      "         -2.3990e-03,  2.9733e-02,  2.0390e-02, -5.8502e-02, -6.7564e-02,\n",
      "         -5.8492e-02, -1.5211e-02,  8.0010e-02, -4.3815e-02,  5.4667e-03,\n",
      "          8.0791e-02,  6.5121e-02,  3.2190e-02,  8.4358e-02,  4.2598e-02,\n",
      "         -5.7433e-02,  1.5172e-02, -8.0559e-03, -9.8716e-02,  5.8345e-02,\n",
      "         -5.0025e-02,  9.3350e-02,  9.4305e-02, -6.1051e-02,  1.9979e-02,\n",
      "          7.8805e-02,  7.2847e-02, -8.2482e-02,  2.5796e-02,  2.0097e-02,\n",
      "         -2.1212e-02,  3.3039e-03, -2.1003e-02,  6.7150e-03, -4.6137e-02],\n",
      "        [-4.0634e-02, -7.7167e-02,  1.4131e-02,  8.8328e-03, -2.5756e-02,\n",
      "         -1.0068e-02,  6.4909e-02, -6.7388e-02,  6.9106e-02,  1.1596e-02,\n",
      "          6.6891e-02,  5.0633e-03, -4.9564e-02, -9.3763e-02, -9.6684e-02,\n",
      "          9.5377e-02,  2.6795e-02,  9.1874e-02, -7.6846e-02, -9.8643e-02,\n",
      "          7.0823e-02, -8.7637e-03, -1.3499e-03,  9.6188e-02,  9.6938e-02,\n",
      "          6.9038e-02,  6.2863e-02, -7.7006e-02, -8.0744e-02, -1.8952e-02,\n",
      "         -5.3829e-02,  9.0666e-02,  2.5891e-02,  6.4299e-03, -7.7872e-02,\n",
      "         -9.8707e-02, -6.0232e-02,  8.9110e-02,  5.8519e-02, -3.6666e-02,\n",
      "          5.5221e-02,  4.8385e-02, -8.5220e-02, -8.6233e-02,  2.2183e-02,\n",
      "          1.3213e-02, -2.1002e-02, -7.3836e-02,  9.7034e-02,  5.1759e-02,\n",
      "         -3.5263e-02, -6.8573e-02,  2.8589e-02,  7.4292e-02,  4.3562e-02,\n",
      "         -7.5864e-03, -5.2570e-02, -7.8211e-02, -3.9951e-02,  8.6792e-02,\n",
      "          3.6174e-02,  4.7287e-02,  4.6519e-02, -8.4983e-02, -5.0326e-02,\n",
      "         -2.4010e-02,  1.5886e-04, -2.9417e-02, -7.2044e-02,  5.5993e-02,\n",
      "         -4.6323e-02,  2.9939e-02,  7.7958e-02,  3.8469e-02, -2.8803e-02,\n",
      "         -1.8528e-02, -9.4068e-02, -6.4258e-02,  8.0883e-02, -5.6877e-02,\n",
      "          6.6967e-02, -9.4743e-03, -9.5715e-02, -5.6650e-02, -2.9737e-02,\n",
      "          5.7541e-02,  1.2774e-02, -9.8091e-02,  2.2452e-02,  3.2931e-03,\n",
      "         -9.8089e-02, -3.9450e-02,  9.1603e-02, -9.5855e-02,  8.1506e-02,\n",
      "         -6.8244e-02,  2.5395e-02, -2.1201e-02,  5.6795e-02,  8.0441e-02],\n",
      "        [ 8.0717e-02, -4.6983e-02, -4.9694e-02,  4.2110e-02,  8.0961e-02,\n",
      "          2.0729e-02,  7.8686e-02,  3.4969e-02, -5.6754e-02,  5.1891e-03,\n",
      "          1.9510e-04, -3.8515e-03,  8.7087e-02,  4.6387e-03, -1.0815e-02,\n",
      "         -5.0386e-02,  1.2660e-02,  6.4957e-02, -5.3608e-02, -9.0327e-02,\n",
      "          8.8615e-02,  2.6331e-02, -4.0585e-02, -3.9238e-02,  2.2838e-02,\n",
      "          9.9858e-02,  1.3238e-02,  7.5851e-02,  1.6492e-02,  1.3056e-02,\n",
      "          9.8537e-02,  4.3898e-03,  7.8311e-02,  4.5953e-02, -7.5651e-02,\n",
      "          7.9241e-02, -9.7061e-02, -8.0349e-02, -9.3197e-03,  2.5877e-02,\n",
      "          3.0206e-02,  6.9546e-03, -6.7323e-03,  4.4389e-02,  8.4469e-02,\n",
      "         -8.3915e-02, -9.3697e-02, -1.5210e-03,  6.1622e-02, -2.0777e-02,\n",
      "          5.9751e-03, -6.9964e-04, -1.3248e-02, -9.9974e-02,  6.4341e-02,\n",
      "         -5.2050e-02,  7.2523e-02, -4.8216e-02,  6.5256e-02,  2.4787e-02,\n",
      "          3.6751e-02, -1.8152e-02,  8.5089e-02,  2.9820e-02,  9.2282e-02,\n",
      "         -2.0446e-02,  5.8167e-02,  2.5196e-02,  3.5998e-02,  6.1251e-03,\n",
      "          8.9622e-02, -4.5007e-02, -2.6666e-02, -4.1617e-02,  4.1954e-02,\n",
      "         -3.3769e-02, -2.0138e-02,  9.2644e-02, -9.2303e-02,  9.1470e-02,\n",
      "         -6.5870e-02,  5.7713e-03,  8.7215e-02,  8.0503e-02, -3.7060e-02,\n",
      "         -7.7416e-03,  2.5702e-02, -1.8579e-02, -2.6959e-02, -7.3415e-02,\n",
      "          3.8995e-02,  1.4662e-02,  5.1219e-02,  7.1654e-02,  4.2975e-04,\n",
      "         -3.8568e-02,  2.1561e-02, -5.4809e-02, -4.4359e-02,  1.3384e-02],\n",
      "        [-1.5773e-02, -9.9137e-02, -3.8537e-02,  9.2329e-02, -2.8663e-02,\n",
      "         -1.6638e-02, -3.7857e-02,  9.6530e-02, -6.9008e-02, -7.7448e-02,\n",
      "         -6.3113e-02, -1.7167e-02, -6.6051e-02, -9.9566e-02,  6.4932e-02,\n",
      "         -9.1485e-02, -6.8788e-02, -3.9215e-02, -1.0638e-02,  4.6964e-02,\n",
      "         -7.2191e-02, -4.3682e-02, -6.5944e-02, -3.1846e-02, -2.0983e-02,\n",
      "         -7.4559e-02, -2.7380e-02,  7.7385e-02,  2.3066e-02,  2.4931e-02,\n",
      "          3.6892e-02,  8.0098e-02, -8.0530e-02, -1.6375e-02, -6.6713e-02,\n",
      "          4.8135e-02, -1.6932e-02, -8.4800e-02, -8.5414e-02,  6.2801e-02,\n",
      "         -6.3264e-02, -9.7878e-02, -1.0030e-02, -4.2270e-02, -3.9012e-02,\n",
      "          4.9241e-02,  3.2650e-02,  5.0564e-02, -2.6384e-02, -2.7612e-02,\n",
      "         -5.2989e-02,  3.2902e-04, -4.5608e-02, -7.9517e-02,  6.7266e-02,\n",
      "          4.1898e-02, -1.0703e-02,  8.2414e-02, -6.8383e-02,  2.0169e-02,\n",
      "          5.5097e-02, -9.4396e-02, -9.7876e-02,  7.1044e-02, -4.4784e-03,\n",
      "         -9.0776e-02, -2.5234e-02,  3.7312e-02,  3.9130e-02,  5.8102e-02,\n",
      "          1.7390e-02, -6.7078e-02, -4.6824e-02, -4.8839e-02,  4.9470e-02,\n",
      "          5.6988e-02,  7.9980e-02, -2.4907e-02, -9.2183e-02, -7.2874e-02,\n",
      "         -7.3950e-02,  9.0758e-02, -8.9110e-02, -3.0469e-03,  9.3794e-02,\n",
      "          2.9302e-02,  6.9327e-02,  6.1288e-03, -3.4952e-02, -5.9290e-02,\n",
      "          5.6874e-02, -6.1207e-02, -5.2109e-02, -7.5148e-02,  1.2810e-03,\n",
      "          2.0905e-02, -2.2558e-02, -9.0712e-02, -8.2052e-02,  9.7484e-02],\n",
      "        [-9.5487e-02,  1.0783e-02,  5.9363e-02,  4.3790e-02,  9.5591e-03,\n",
      "          7.4152e-02, -6.4247e-02,  9.4024e-02,  1.3575e-02,  7.7478e-02,\n",
      "         -6.1485e-02, -5.6405e-02, -9.2539e-02, -1.6908e-02,  6.9403e-02,\n",
      "         -6.9090e-02, -1.1091e-03, -4.7070e-02,  4.3330e-02, -5.9096e-02,\n",
      "          2.4854e-02, -9.3400e-02,  5.9807e-02, -5.3944e-02, -7.3438e-02,\n",
      "          8.1867e-03, -4.3824e-02,  9.5813e-02,  6.6600e-02, -6.2299e-02,\n",
      "          1.2705e-02,  1.1893e-02, -6.1110e-02, -2.6980e-02, -6.1929e-02,\n",
      "          4.0995e-02,  8.8667e-02, -3.6270e-03, -3.3283e-02, -7.1829e-02,\n",
      "         -8.8437e-02,  3.8874e-02,  4.7573e-02, -2.8345e-03,  4.0908e-03,\n",
      "         -7.3061e-02,  8.9670e-02, -5.7793e-02,  1.2506e-02, -4.7037e-02,\n",
      "          7.5810e-03,  4.0473e-02,  8.3055e-02, -8.1025e-02, -7.5700e-02,\n",
      "         -6.8879e-02, -8.0521e-02, -3.8596e-02, -2.7826e-02, -9.5679e-02,\n",
      "         -5.4181e-02,  7.4233e-02,  8.9091e-03, -4.9876e-02,  3.8660e-02,\n",
      "         -8.1468e-02, -3.0234e-04,  5.0082e-02, -8.0939e-02, -9.5971e-02,\n",
      "         -8.0267e-02,  3.3126e-02, -3.5772e-02, -8.1572e-02, -6.0402e-02,\n",
      "         -6.5730e-02, -3.0015e-02,  2.4268e-02,  7.7670e-02, -7.9454e-02,\n",
      "         -3.0660e-02,  4.9163e-02, -3.0332e-02,  6.3118e-02, -5.5585e-02,\n",
      "          8.0797e-02, -5.8242e-02,  1.2661e-03,  9.3847e-02,  3.6816e-02,\n",
      "         -6.3543e-02,  5.1386e-02, -1.6251e-02, -4.2318e-02, -2.3464e-02,\n",
      "          4.4790e-02,  8.3645e-02, -6.4126e-02, -8.4220e-02, -3.7910e-02],\n",
      "        [-6.9089e-03,  1.5045e-03, -1.6413e-02,  8.6529e-02,  7.3855e-02,\n",
      "          5.5295e-04,  7.4484e-02, -5.8890e-02,  6.6678e-03,  9.6319e-02,\n",
      "          5.9296e-02, -1.8197e-02,  9.9234e-03,  7.7934e-02, -9.7118e-02,\n",
      "         -4.9537e-02,  5.9490e-02, -8.4848e-02, -6.5108e-02, -5.1908e-02,\n",
      "         -3.1372e-02,  3.8560e-02, -1.1913e-02,  9.4135e-04,  6.2919e-02,\n",
      "          4.1639e-02,  1.2773e-02,  2.5097e-02,  2.7087e-02, -7.2066e-02,\n",
      "         -9.8874e-02,  2.0843e-02,  3.5424e-02, -5.9657e-02,  6.8421e-02,\n",
      "         -3.0180e-02,  7.4320e-02, -1.9800e-02, -8.6237e-02,  2.1062e-02,\n",
      "          4.8424e-02,  1.3581e-02,  3.2706e-02, -4.5230e-02,  8.9324e-02,\n",
      "          2.6057e-02, -7.1432e-02, -7.7057e-02, -3.3861e-02, -4.6010e-02,\n",
      "          6.4389e-02,  5.8627e-02, -2.8557e-03,  8.0834e-02, -7.5964e-02,\n",
      "          5.7445e-02, -6.7918e-02,  8.6553e-02,  7.9763e-03, -1.7852e-02,\n",
      "          4.1638e-02, -5.2684e-02, -6.7174e-02, -7.2377e-02, -2.1059e-02,\n",
      "         -4.9345e-02, -8.0128e-03,  3.3232e-02, -2.9791e-02,  9.2866e-02,\n",
      "          1.4509e-02,  6.9166e-02,  9.1400e-02,  8.6296e-02,  2.6820e-02,\n",
      "          2.2497e-02, -7.8169e-02,  7.6790e-02, -8.9967e-02, -5.5684e-02,\n",
      "          5.3390e-02, -7.8261e-02,  8.8227e-02, -2.4045e-02, -1.1050e-02,\n",
      "          6.4455e-02, -2.1887e-02,  7.9141e-02,  5.8035e-02, -7.1777e-02,\n",
      "         -5.6947e-02, -4.0035e-02,  3.9183e-03,  5.6267e-03,  5.2389e-02,\n",
      "          3.9686e-02,  5.3589e-02, -2.1757e-02,  5.8636e-02,  3.1141e-02],\n",
      "        [-2.5214e-02, -4.8513e-02, -8.8773e-02, -5.2316e-02,  6.1301e-02,\n",
      "         -5.6748e-02, -1.1155e-03, -7.9825e-02,  8.1953e-02, -3.1000e-02,\n",
      "         -7.5084e-02, -3.8472e-02, -9.6491e-02, -9.1816e-02, -8.7626e-04,\n",
      "         -7.0346e-02, -9.0082e-02, -1.1731e-02,  8.0848e-03, -5.0899e-02,\n",
      "          4.6002e-02, -9.6824e-02,  4.0732e-02,  2.3314e-02, -2.1320e-02,\n",
      "          8.0017e-02, -4.0372e-02, -4.8877e-02, -4.0212e-02,  5.8298e-02,\n",
      "         -2.1927e-02, -6.5610e-02,  3.4033e-02, -5.5286e-02, -4.5471e-02,\n",
      "          1.9316e-02,  7.0870e-02, -9.2041e-02, -1.4344e-02,  8.4713e-02,\n",
      "         -2.5156e-03,  7.5523e-02,  4.6931e-02, -8.0345e-03,  1.9042e-02,\n",
      "         -9.4883e-03, -4.4393e-02,  3.2290e-02,  5.9827e-02, -3.6066e-02,\n",
      "         -4.1442e-02, -7.7792e-02,  8.2421e-02,  6.2237e-02, -6.2465e-02,\n",
      "          7.7359e-02, -9.1965e-02, -5.0648e-02, -3.6465e-02,  4.9085e-02,\n",
      "         -1.2099e-02, -6.4269e-02, -4.9815e-02,  7.6852e-02,  4.6052e-02,\n",
      "         -1.0967e-02, -9.0139e-03,  4.5239e-02, -9.1140e-02,  7.6284e-02,\n",
      "          3.7112e-02,  7.3152e-02,  5.2200e-02, -4.6489e-02, -6.9589e-02,\n",
      "         -1.0379e-02,  8.7926e-02, -9.3701e-02,  6.0922e-02,  8.2564e-02,\n",
      "         -4.6293e-02,  1.9176e-02, -7.5324e-02, -7.6240e-03,  6.1030e-02,\n",
      "          5.3546e-02, -3.9753e-02, -2.8679e-02, -2.9919e-02, -7.3057e-02,\n",
      "         -3.2425e-02, -2.1692e-02,  2.1954e-02,  6.4939e-03,  6.7896e-02,\n",
      "         -7.6967e-02,  5.3084e-02, -7.7119e-02,  7.8309e-02,  6.2083e-02],\n",
      "        [ 2.3846e-02,  2.7490e-02, -3.9627e-02,  1.2829e-02,  3.2056e-02,\n",
      "          1.5160e-03, -3.3440e-02, -9.2559e-02,  6.1204e-02,  8.5241e-02,\n",
      "         -4.2853e-02,  1.8816e-03, -6.6727e-02, -4.7391e-02,  5.6126e-02,\n",
      "         -7.7179e-02, -7.1173e-02,  3.9838e-02,  8.0555e-02,  6.6359e-02,\n",
      "         -5.5357e-02, -1.0542e-02,  7.9236e-02, -8.4905e-02, -8.1837e-05,\n",
      "         -6.0450e-02,  6.7934e-02, -2.4444e-02,  4.0055e-02, -5.7941e-02,\n",
      "          4.6373e-02, -3.1635e-02, -7.3237e-02,  1.7934e-02,  6.4950e-02,\n",
      "         -5.4860e-02,  4.2780e-02, -8.2262e-02,  9.8947e-02,  9.8970e-02,\n",
      "          3.6361e-02, -3.8662e-02, -9.6891e-02,  3.2620e-02, -7.9311e-02,\n",
      "          1.2887e-02,  6.0854e-02,  3.3611e-03,  5.5561e-03, -2.6365e-02,\n",
      "          5.7503e-02,  6.9169e-02, -1.8076e-04, -4.5469e-02, -7.8265e-02,\n",
      "          4.2207e-02,  5.3065e-02, -6.0601e-02,  2.8044e-03,  7.5863e-02,\n",
      "          9.3536e-02, -6.4360e-02, -8.8210e-02, -5.7857e-02, -1.2868e-02,\n",
      "         -9.1877e-02, -8.3630e-02, -8.2490e-02, -8.7557e-02,  1.5799e-02,\n",
      "          5.6259e-02, -1.7458e-02, -3.8445e-02,  2.9985e-02,  7.0086e-02,\n",
      "         -8.7089e-02, -9.6472e-02, -6.6758e-02, -4.1201e-02, -4.8405e-02,\n",
      "         -3.6431e-02, -3.0752e-02,  1.5242e-02, -9.8117e-02, -9.0303e-02,\n",
      "         -1.4302e-02, -2.9008e-03,  1.1358e-02, -5.2708e-02,  4.9160e-02,\n",
      "         -9.0199e-02, -3.3305e-02,  6.1664e-02, -1.8526e-02,  9.7816e-03,\n",
      "          6.2189e-02,  2.0922e-02, -7.5809e-02,  9.8872e-02,  2.1199e-03]],\n",
      "       requires_grad=True)\n"
     ]
    },
    {
     "data": {
      "text/plain": "tensor([[-0.1146, -0.0108, -0.0445, -0.0781, -0.0520, -0.0712, -0.0623, -0.0304,\n         -0.1180, -0.0316, -0.0859, -0.0329, -0.1028, -0.0390, -0.0305, -0.0142,\n         -0.1148, -0.0512, -0.0234, -0.0259, -0.0250, -0.0965, -0.0465, -0.1058,\n         -0.0679, -0.0294, -0.0742, -0.0378, -0.0844, -0.0565, -0.0556, -0.0054,\n         -0.0781, -0.1000, -0.1086, -0.1029, -0.0704, -0.0200, -0.0699, -0.0975,\n         -0.0212, -0.0449, -0.1167, -0.0360, -0.0085, -0.0285, -0.0217, -0.0655,\n         -0.0704, -0.0289, -0.0913, -0.0355, -0.0147, -0.0446, -0.0720, -0.0534,\n         -0.0085, -0.0474, -0.0840, -0.0656, -0.0103, -0.1081, -0.0905, -0.1078,\n         -0.0418, -0.1169, -0.0055, -0.0353, -0.0405, -0.1154, -0.0769, -0.1004,\n         -0.0682, -0.0207, -0.0355, -0.1184, -0.0620, -0.0044, -0.0302, -0.0687,\n         -0.1187, -0.0478, -0.0975, -0.0274, -0.0307, -0.0900, -0.0268, -0.0409,\n         -0.1193, -0.0084, -0.1037, -0.1148, -0.1057, -0.0383, -0.0375, -0.0749,\n         -0.0479, -0.0229, -0.0674, -0.0410],\n        [-0.2153, -0.0202, -0.0835, -0.1466, -0.0977, -0.1336, -0.1171, -0.0571,\n         -0.2217, -0.0594, -0.1613, -0.0617, -0.1931, -0.0732, -0.0573, -0.0268,\n         -0.2156, -0.0962, -0.0440, -0.0486, -0.0469, -0.1812, -0.0872, -0.1988,\n         -0.1275, -0.0552, -0.1394, -0.0709, -0.1585, -0.1062, -0.1044, -0.0101,\n         -0.1467, -0.1878, -0.2040, -0.1933, -0.1322, -0.0375, -0.1312, -0.1832,\n         -0.0398, -0.0844, -0.2192, -0.0677, -0.0160, -0.0536, -0.0408, -0.1230,\n         -0.1323, -0.0543, -0.1714, -0.0667, -0.0277, -0.0838, -0.1352, -0.1004,\n         -0.0160, -0.0889, -0.1577, -0.1232, -0.0193, -0.2031, -0.1699, -0.2025,\n         -0.0785, -0.2195, -0.0104, -0.0663, -0.0761, -0.2168, -0.1445, -0.1885,\n         -0.1281, -0.0389, -0.0667, -0.2225, -0.1164, -0.0082, -0.0567, -0.1291,\n         -0.2230, -0.0897, -0.1831, -0.0514, -0.0577, -0.1690, -0.0503, -0.0769,\n         -0.2241, -0.0158, -0.1947, -0.2157, -0.1985, -0.0719, -0.0704, -0.1407,\n         -0.0899, -0.0430, -0.1266, -0.0770],\n        [-0.2092, -0.0196, -0.0812, -0.1425, -0.0949, -0.1299, -0.1138, -0.0554,\n         -0.2154, -0.0577, -0.1567, -0.0600, -0.1877, -0.0712, -0.0557, -0.0260,\n         -0.2095, -0.0935, -0.0428, -0.0473, -0.0456, -0.1761, -0.0848, -0.1931,\n         -0.1239, -0.0536, -0.1355, -0.0689, -0.1540, -0.1032, -0.1015, -0.0098,\n         -0.1425, -0.1825, -0.1983, -0.1878, -0.1284, -0.0364, -0.1275, -0.1780,\n         -0.0387, -0.0820, -0.2130, -0.0657, -0.0156, -0.0521, -0.0396, -0.1195,\n         -0.1285, -0.0527, -0.1666, -0.0648, -0.0269, -0.0815, -0.1313, -0.0975,\n         -0.0156, -0.0864, -0.1533, -0.1197, -0.0187, -0.1974, -0.1651, -0.1968,\n         -0.0762, -0.2132, -0.0101, -0.0644, -0.0740, -0.2106, -0.1404, -0.1832,\n         -0.1244, -0.0378, -0.0648, -0.2162, -0.1131, -0.0080, -0.0551, -0.1254,\n         -0.2167, -0.0872, -0.1779, -0.0500, -0.0560, -0.1642, -0.0489, -0.0747,\n         -0.2177, -0.0154, -0.1892, -0.2095, -0.1928, -0.0698, -0.0684, -0.1367,\n         -0.0874, -0.0417, -0.1230, -0.0748],\n        [-0.0361, -0.0034, -0.0140, -0.0246, -0.0164, -0.0224, -0.0196, -0.0096,\n         -0.0372, -0.0100, -0.0270, -0.0103, -0.0324, -0.0123, -0.0096, -0.0045,\n         -0.0361, -0.0161, -0.0074, -0.0082, -0.0079, -0.0304, -0.0146, -0.0333,\n         -0.0214, -0.0092, -0.0234, -0.0119, -0.0266, -0.0178, -0.0175, -0.0017,\n         -0.0246, -0.0315, -0.0342, -0.0324, -0.0222, -0.0063, -0.0220, -0.0307,\n         -0.0067, -0.0141, -0.0367, -0.0113, -0.0027, -0.0090, -0.0068, -0.0206,\n         -0.0222, -0.0091, -0.0287, -0.0112, -0.0046, -0.0141, -0.0227, -0.0168,\n         -0.0027, -0.0149, -0.0264, -0.0207, -0.0032, -0.0340, -0.0285, -0.0339,\n         -0.0131, -0.0368, -0.0017, -0.0111, -0.0128, -0.0363, -0.0242, -0.0316,\n         -0.0215, -0.0065, -0.0112, -0.0373, -0.0195, -0.0014, -0.0095, -0.0216,\n         -0.0374, -0.0150, -0.0307, -0.0086, -0.0097, -0.0283, -0.0084, -0.0129,\n         -0.0376, -0.0027, -0.0326, -0.0361, -0.0333, -0.0120, -0.0118, -0.0236,\n         -0.0151, -0.0072, -0.0212, -0.0129],\n        [-0.0406, -0.0038, -0.0157, -0.0276, -0.0184, -0.0252, -0.0221, -0.0108,\n         -0.0418, -0.0112, -0.0304, -0.0116, -0.0364, -0.0138, -0.0108, -0.0050,\n         -0.0406, -0.0181, -0.0083, -0.0092, -0.0088, -0.0341, -0.0164, -0.0375,\n         -0.0240, -0.0104, -0.0263, -0.0134, -0.0299, -0.0200, -0.0197, -0.0019,\n         -0.0276, -0.0354, -0.0384, -0.0364, -0.0249, -0.0071, -0.0247, -0.0345,\n         -0.0075, -0.0159, -0.0413, -0.0127, -0.0030, -0.0101, -0.0077, -0.0232,\n         -0.0249, -0.0102, -0.0323, -0.0126, -0.0052, -0.0158, -0.0255, -0.0189,\n         -0.0030, -0.0168, -0.0297, -0.0232, -0.0036, -0.0383, -0.0320, -0.0382,\n         -0.0148, -0.0414, -0.0020, -0.0125, -0.0143, -0.0408, -0.0272, -0.0355,\n         -0.0241, -0.0073, -0.0126, -0.0419, -0.0219, -0.0015, -0.0107, -0.0243,\n         -0.0420, -0.0169, -0.0345, -0.0097, -0.0109, -0.0318, -0.0095, -0.0145,\n         -0.0422, -0.0030, -0.0367, -0.0406, -0.0374, -0.0135, -0.0133, -0.0265,\n         -0.0169, -0.0081, -0.0238, -0.0145],\n        [-0.2216, -0.0208, -0.0860, -0.1509, -0.1005, -0.1376, -0.1205, -0.0587,\n         -0.2282, -0.0612, -0.1660, -0.0635, -0.1988, -0.0754, -0.0590, -0.0275,\n         -0.2219, -0.0990, -0.0453, -0.0501, -0.0483, -0.1865, -0.0898, -0.2046,\n         -0.1312, -0.0568, -0.1435, -0.0730, -0.1632, -0.1093, -0.1075, -0.0104,\n         -0.1509, -0.1933, -0.2100, -0.1989, -0.1361, -0.0386, -0.1351, -0.1886,\n         -0.0410, -0.0868, -0.2256, -0.0696, -0.0165, -0.0551, -0.0420, -0.1266,\n         -0.1361, -0.0559, -0.1765, -0.0687, -0.0285, -0.0863, -0.1391, -0.1033,\n         -0.0165, -0.0915, -0.1624, -0.1268, -0.0198, -0.2090, -0.1749, -0.2084,\n         -0.0807, -0.2259, -0.0107, -0.0683, -0.0783, -0.2231, -0.1487, -0.1940,\n         -0.1318, -0.0401, -0.0687, -0.2290, -0.1198, -0.0085, -0.0583, -0.1329,\n         -0.2295, -0.0924, -0.1885, -0.0529, -0.0593, -0.1739, -0.0518, -0.0791,\n         -0.2306, -0.0163, -0.2004, -0.2220, -0.2043, -0.0740, -0.0725, -0.1448,\n         -0.0926, -0.0442, -0.1303, -0.0792],\n        [-0.2158, -0.0202, -0.0837, -0.1469, -0.0979, -0.1339, -0.1173, -0.0572,\n         -0.2222, -0.0595, -0.1617, -0.0619, -0.1936, -0.0734, -0.0575, -0.0268,\n         -0.2161, -0.0964, -0.0441, -0.0487, -0.0470, -0.1816, -0.0874, -0.1992,\n         -0.1278, -0.0553, -0.1397, -0.0711, -0.1589, -0.1064, -0.1046, -0.0101,\n         -0.1470, -0.1882, -0.2045, -0.1937, -0.1325, -0.0376, -0.1315, -0.1836,\n         -0.0399, -0.0846, -0.2197, -0.0678, -0.0161, -0.0537, -0.0409, -0.1233,\n         -0.1325, -0.0544, -0.1718, -0.0669, -0.0277, -0.0840, -0.1355, -0.1006,\n         -0.0161, -0.0891, -0.1581, -0.1235, -0.0193, -0.2035, -0.1703, -0.2029,\n         -0.0786, -0.2199, -0.0104, -0.0665, -0.0763, -0.2172, -0.1448, -0.1889,\n         -0.1284, -0.0390, -0.0669, -0.2229, -0.1167, -0.0082, -0.0568, -0.1294,\n         -0.2235, -0.0899, -0.1835, -0.0515, -0.0578, -0.1693, -0.0504, -0.0771,\n         -0.2246, -0.0159, -0.1951, -0.2161, -0.1989, -0.0720, -0.0706, -0.1410,\n         -0.0901, -0.0431, -0.1268, -0.0772],\n        [-0.0825, -0.0077, -0.0320, -0.0562, -0.0374, -0.0512, -0.0449, -0.0219,\n         -0.0850, -0.0228, -0.0618, -0.0237, -0.0740, -0.0281, -0.0220, -0.0103,\n         -0.0827, -0.0369, -0.0169, -0.0186, -0.0180, -0.0695, -0.0334, -0.0762,\n         -0.0489, -0.0212, -0.0534, -0.0272, -0.0608, -0.0407, -0.0400, -0.0039,\n         -0.0562, -0.0720, -0.0782, -0.0741, -0.0507, -0.0144, -0.0503, -0.0702,\n         -0.0153, -0.0323, -0.0840, -0.0259, -0.0061, -0.0205, -0.0156, -0.0472,\n         -0.0507, -0.0208, -0.0657, -0.0256, -0.0106, -0.0321, -0.0518, -0.0385,\n         -0.0061, -0.0341, -0.0605, -0.0472, -0.0074, -0.0779, -0.0651, -0.0776,\n         -0.0301, -0.0841, -0.0040, -0.0254, -0.0292, -0.0831, -0.0554, -0.0723,\n         -0.0491, -0.0149, -0.0256, -0.0853, -0.0446, -0.0032, -0.0217, -0.0495,\n         -0.0855, -0.0344, -0.0702, -0.0197, -0.0221, -0.0648, -0.0193, -0.0295,\n         -0.0859, -0.0061, -0.0746, -0.0827, -0.0761, -0.0275, -0.0270, -0.0539,\n         -0.0345, -0.0165, -0.0485, -0.0295],\n        [-0.0423, -0.0040, -0.0164, -0.0288, -0.0192, -0.0263, -0.0230, -0.0112,\n         -0.0435, -0.0117, -0.0317, -0.0121, -0.0379, -0.0144, -0.0113, -0.0053,\n         -0.0424, -0.0189, -0.0086, -0.0096, -0.0092, -0.0356, -0.0171, -0.0390,\n         -0.0250, -0.0108, -0.0274, -0.0139, -0.0311, -0.0209, -0.0205, -0.0020,\n         -0.0288, -0.0369, -0.0401, -0.0380, -0.0260, -0.0074, -0.0258, -0.0360,\n         -0.0078, -0.0166, -0.0431, -0.0133, -0.0031, -0.0105, -0.0080, -0.0242,\n         -0.0260, -0.0107, -0.0337, -0.0131, -0.0054, -0.0165, -0.0265, -0.0197,\n         -0.0031, -0.0175, -0.0310, -0.0242, -0.0038, -0.0399, -0.0334, -0.0398,\n         -0.0154, -0.0431, -0.0020, -0.0130, -0.0149, -0.0426, -0.0284, -0.0370,\n         -0.0252, -0.0076, -0.0131, -0.0437, -0.0229, -0.0016, -0.0111, -0.0254,\n         -0.0438, -0.0176, -0.0360, -0.0101, -0.0113, -0.0332, -0.0099, -0.0151,\n         -0.0440, -0.0031, -0.0382, -0.0424, -0.0390, -0.0141, -0.0138, -0.0276,\n         -0.0177, -0.0084, -0.0249, -0.0151],\n        [-0.1466, -0.0138, -0.0569, -0.0998, -0.0665, -0.0910, -0.0797, -0.0389,\n         -0.1510, -0.0405, -0.1099, -0.0420, -0.1315, -0.0499, -0.0391, -0.0182,\n         -0.1469, -0.0655, -0.0300, -0.0331, -0.0320, -0.1234, -0.0594, -0.1354,\n         -0.0868, -0.0376, -0.0950, -0.0483, -0.1080, -0.0723, -0.0711, -0.0069,\n         -0.0999, -0.1279, -0.1390, -0.1316, -0.0900, -0.0255, -0.0894, -0.1248,\n         -0.0271, -0.0575, -0.1493, -0.0461, -0.0109, -0.0365, -0.0278, -0.0838,\n         -0.0901, -0.0370, -0.1168, -0.0454, -0.0189, -0.0571, -0.0921, -0.0684,\n         -0.0109, -0.0606, -0.1074, -0.0839, -0.0131, -0.1383, -0.1157, -0.1379,\n         -0.0534, -0.1495, -0.0071, -0.0452, -0.0518, -0.1476, -0.0984, -0.1284,\n         -0.0872, -0.0265, -0.0454, -0.1515, -0.0793, -0.0056, -0.0386, -0.0879,\n         -0.1519, -0.0611, -0.1247, -0.0350, -0.0393, -0.1151, -0.0343, -0.0524,\n         -0.1526, -0.0108, -0.1326, -0.1469, -0.1352, -0.0489, -0.0480, -0.0958,\n         -0.0613, -0.0293, -0.0862, -0.0524]])"
     },
     "execution_count": 14,
     "metadata": {},
     "output_type": "execute_result"
    }
   ],
   "source": [
    "from torch.nn import Linear, MSELoss\n",
    "import torch\n",
    "\n",
    "line = Linear(100, 10)\n",
    "print(line.weight)\n",
    "line.forward(torch.rand(100))\n",
    "loss = MSELoss()\n",
    "ls = loss(line.forward(torch.rand(100)), torch.rand(10))\n",
    "ls.backward()\n",
    "\n",
    "line.weight.grad"
   ],
   "metadata": {
    "collapsed": false,
    "ExecuteTime": {
     "end_time": "2023-12-30T14:31:28.330494Z",
     "start_time": "2023-12-30T14:31:28.308731Z"
    }
   },
   "id": "22c361301018e71e"
  },
  {
   "cell_type": "code",
   "execution_count": null,
   "outputs": [],
   "source": [],
   "metadata": {
    "collapsed": false
   },
   "id": "8bb389add31dfbc5"
  }
 ],
 "metadata": {
  "kernelspec": {
   "display_name": "Python 3",
   "language": "python",
   "name": "python3"
  },
  "language_info": {
   "codemirror_mode": {
    "name": "ipython",
    "version": 2
   },
   "file_extension": ".py",
   "mimetype": "text/x-python",
   "name": "python",
   "nbconvert_exporter": "python",
   "pygments_lexer": "ipython2",
   "version": "2.7.6"
  }
 },
 "nbformat": 4,
 "nbformat_minor": 5
}
