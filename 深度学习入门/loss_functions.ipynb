{
 "cells": [
  {
   "cell_type": "code",
   "execution_count": 10,
   "outputs": [],
   "source": [
    "import numpy as np"
   ],
   "metadata": {
    "collapsed": false,
    "ExecuteTime": {
     "end_time": "2023-11-24T06:40:49.061082Z",
     "start_time": "2023-11-24T06:40:49.040692Z"
    }
   },
   "id": "cd36954234a17956"
  },
  {
   "cell_type": "markdown",
   "source": [
    "**均方误差(mean squared error)**\n",
    "\n",
    "$E = \\frac{1}{m} \\sum_{i = 1}^{m}(y_{i} - \\hat{y_{i}}) ^ 2$\n",
    "\n",
    "* $m$: 样本数量\n",
    "* $y_{i}$: 样本值\n",
    "* $\\hat{y_{i}}$: 预测值"
   ],
   "metadata": {
    "collapsed": false
   },
   "id": "599fb726a1082d2c"
  },
  {
   "cell_type": "code",
   "execution_count": 11,
   "outputs": [],
   "source": [
    "def mean_squared_error(y: np.ndarray, y_bar: np.ndarray):\n",
    "    return np.mean((y - y_bar) ** 2)"
   ],
   "metadata": {
    "collapsed": false,
    "ExecuteTime": {
     "end_time": "2023-11-24T06:40:49.078771Z",
     "start_time": "2023-11-24T06:40:49.055289Z"
    }
   },
   "id": "bfcc5d429e173633"
  },
  {
   "cell_type": "markdown",
   "source": [
    "**交叉熵误差(cross entropy error)**\n",
    "\n",
    "$ E = \\frac{1}{N} \\sum_{i} L_{i} = -\\frac{1}{N} \\sum_{i} \\sum_{1}^{M} y_{ic} \\log (p_{ic}) $\n",
    "\n",
    "* $N$: 样本总数\n",
    "* $M$: 类别的数量\n",
    "* $y_{ic}$: one-hot 表示的样本数值\n",
    "* $p_{ic}$: 观测样本 $i$ 属于类别 $c$ 的预测概率\n"
   ],
   "metadata": {
    "collapsed": false
   },
   "id": "8d1cea9e7ee16acf"
  },
  {
   "cell_type": "code",
   "execution_count": 12,
   "outputs": [
    {
     "data": {
      "text/plain": "0.510825457099338"
     },
     "execution_count": 12,
     "metadata": {},
     "output_type": "execute_result"
    }
   ],
   "source": [
    "def cross_entropy_error(y: np.ndarray, p: np.ndarray):\n",
    "    delta = 1e-7\n",
    "    return - np.sum(y * np.log(p + delta))"
   ],
   "metadata": {
    "collapsed": false,
    "ExecuteTime": {
     "end_time": "2023-11-24T06:49:11.528863Z",
     "start_time": "2023-11-24T06:49:11.512294Z"
    }
   },
   "id": "bdc3eaa9907a8161"
  }
 ],
 "metadata": {
  "kernelspec": {
   "display_name": "Python 3",
   "language": "python",
   "name": "python3"
  },
  "language_info": {
   "codemirror_mode": {
    "name": "ipython",
    "version": 2
   },
   "file_extension": ".py",
   "mimetype": "text/x-python",
   "name": "python",
   "nbconvert_exporter": "python",
   "pygments_lexer": "ipython2",
   "version": "2.7.6"
  }
 },
 "nbformat": 4,
 "nbformat_minor": 5
}
