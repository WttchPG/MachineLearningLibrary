{
 "cells": [
  {
   "cell_type": "code",
   "execution_count": 1,
   "outputs": [],
   "source": [
    "import numpy as np\n",
    "from loss_functions import *"
   ],
   "metadata": {
    "collapsed": false,
    "ExecuteTime": {
     "end_time": "2023-12-07T12:35:26.613716Z",
     "start_time": "2023-12-07T12:35:26.481532Z"
    }
   },
   "id": "cd36954234a17956"
  },
  {
   "cell_type": "markdown",
   "source": [
    "**均方误差(mean squared error)**\n",
    "\n",
    "$E = \\frac{1}{m} \\sum_{i = 1}^{m}(y_{i} - \\hat{y_{i}}) ^ 2$\n",
    "\n",
    "* $m$: 样本数量\n",
    "* $y_{i}$: 样本值\n",
    "* $\\hat{y_{i}}$: 预测值"
   ],
   "metadata": {
    "collapsed": false
   },
   "id": "599fb726a1082d2c"
  },
  {
   "cell_type": "code",
   "execution_count": 2,
   "outputs": [
    {
     "data": {
      "text/plain": "<function loss_functions.mean_squared_error(y: numpy.ndarray, y_bar: numpy.ndarray)>"
     },
     "execution_count": 2,
     "metadata": {},
     "output_type": "execute_result"
    }
   ],
   "source": [
    "mean_squared_error"
   ],
   "metadata": {
    "collapsed": false,
    "ExecuteTime": {
     "end_time": "2023-12-07T12:35:26.679248Z",
     "start_time": "2023-12-07T12:35:26.592360Z"
    }
   },
   "id": "bfcc5d429e173633"
  },
  {
   "cell_type": "markdown",
   "source": [
    "**交叉熵误差(cross entropy error)**\n",
    "\n",
    "$ E = \\frac{1}{N} \\sum_{i} L_{i} = -\\frac{1}{N} \\sum_{i} \\sum_{1}^{M} y_{ic} \\log (p_{ic}) $\n",
    "\n",
    "* $N$: 样本总数\n",
    "* $M$: 类别的数量\n",
    "* $y_{ic}$: one-hot 表示的样本数值\n",
    "* $p_{ic}$: 观测样本 $i$ 属于类别 $c$ 的预测概率\n"
   ],
   "metadata": {
    "collapsed": false
   },
   "id": "8d1cea9e7ee16acf"
  },
  {
   "cell_type": "code",
   "execution_count": 3,
   "outputs": [
    {
     "data": {
      "text/plain": "<function loss_functions.cross_entropy_error(y: numpy.ndarray, p: numpy.ndarray)>"
     },
     "execution_count": 3,
     "metadata": {},
     "output_type": "execute_result"
    }
   ],
   "source": [
    "cross_entropy_error"
   ],
   "metadata": {
    "collapsed": false,
    "ExecuteTime": {
     "end_time": "2023-12-07T12:35:26.716914Z",
     "start_time": "2023-12-07T12:35:26.675766Z"
    }
   },
   "id": "bdc3eaa9907a8161"
  }
 ],
 "metadata": {
  "kernelspec": {
   "display_name": "Python 3",
   "language": "python",
   "name": "python3"
  },
  "language_info": {
   "codemirror_mode": {
    "name": "ipython",
    "version": 2
   },
   "file_extension": ".py",
   "mimetype": "text/x-python",
   "name": "python",
   "nbconvert_exporter": "python",
   "pygments_lexer": "ipython2",
   "version": "2.7.6"
  }
 },
 "nbformat": 4,
 "nbformat_minor": 5
}
