{
 "cells": [
  {
   "cell_type": "code",
   "execution_count": 1,
   "outputs": [],
   "source": [
    "import numpy as np\n",
    "\n",
    "from gradient import *"
   ],
   "metadata": {
    "collapsed": false,
    "ExecuteTime": {
     "end_time": "2023-12-07T13:13:45.358728Z",
     "start_time": "2023-12-07T13:13:45.272390Z"
    }
   },
   "id": "3556a49c76a897a7"
  },
  {
   "cell_type": "markdown",
   "source": [
    "**数值微分**:\n",
    "\n",
    "$$\n",
    "\\frac{df(x)}{dx} = \\lim_{h \\to 0} \\frac{f(x+h) - f(x)}{h}\n",
    "$$"
   ],
   "metadata": {
    "collapsed": false
   },
   "id": "92cf2d3a1f538d37"
  },
  {
   "cell_type": "code",
   "execution_count": 2,
   "outputs": [
    {
     "data": {
      "text/plain": "1.9999999999992246"
     },
     "execution_count": 2,
     "metadata": {},
     "output_type": "execute_result"
    }
   ],
   "source": [
    "numerical_diff(lambda x: x ** 2, 1)"
   ],
   "metadata": {
    "collapsed": false,
    "ExecuteTime": {
     "end_time": "2023-12-07T13:13:45.371847Z",
     "start_time": "2023-12-07T13:13:45.358867Z"
    }
   },
   "id": "initial_id"
  },
  {
   "cell_type": "markdown",
   "source": [
    "**梯度**:"
   ],
   "metadata": {
    "collapsed": false
   },
   "id": "c081159403d0a2d0"
  },
  {
   "cell_type": "code",
   "execution_count": 3,
   "outputs": [
    {
     "data": {
      "text/plain": "array([1, 4])"
     },
     "execution_count": 3,
     "metadata": {},
     "output_type": "execute_result"
    }
   ],
   "source": [
    "def func(x: np.ndarray) -> float:\n",
    "    return np.sum(x ** 2).astype(float)\n",
    "\n",
    "numerical_gradient(func, np.array([1, 2]))"
   ],
   "metadata": {
    "collapsed": false,
    "ExecuteTime": {
     "end_time": "2023-12-07T13:13:45.372022Z",
     "start_time": "2023-12-07T13:13:45.365963Z"
    }
   },
   "id": "6d1b78b4cdfffdea"
  },
  {
   "cell_type": "markdown",
   "source": [
    "**梯度下降**:"
   ],
   "metadata": {
    "collapsed": false
   },
   "id": "516da268ca3b67f9"
  },
  {
   "cell_type": "code",
   "execution_count": 5,
   "outputs": [
    {
     "data": {
      "text/plain": "array([0.13261956, 0.26523911])"
     },
     "execution_count": 5,
     "metadata": {},
     "output_type": "execute_result"
    }
   ],
   "source": [
    "gradient_descent(func, np.array([1, 2]))"
   ],
   "metadata": {
    "collapsed": false,
    "ExecuteTime": {
     "end_time": "2023-12-07T13:25:35.436420Z",
     "start_time": "2023-12-07T13:25:35.410916Z"
    }
   },
   "id": "84669ed511b1ef7d"
  },
  {
   "cell_type": "code",
   "execution_count": null,
   "outputs": [],
   "source": [],
   "metadata": {
    "collapsed": false
   },
   "id": "1b4c83051f7d0d33"
  }
 ],
 "metadata": {
  "kernelspec": {
   "display_name": "Python 3",
   "language": "python",
   "name": "python3"
  },
  "language_info": {
   "codemirror_mode": {
    "name": "ipython",
    "version": 2
   },
   "file_extension": ".py",
   "mimetype": "text/x-python",
   "name": "python",
   "nbconvert_exporter": "python",
   "pygments_lexer": "ipython2",
   "version": "2.7.6"
  }
 },
 "nbformat": 4,
 "nbformat_minor": 5
}
