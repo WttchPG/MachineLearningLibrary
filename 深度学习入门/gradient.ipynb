{
 "cells": [
  {
   "cell_type": "markdown",
   "source": [
    "**数值微分**:\n",
    "\n",
    "$$\n",
    "\\frac{df(x)}{dx} = \\lim_{h \\to 0} \\frac{f(x+h) - f(x)}{h}\n",
    "$$"
   ],
   "metadata": {
    "collapsed": false
   },
   "id": "92cf2d3a1f538d37"
  },
  {
   "cell_type": "code",
   "execution_count": 8,
   "outputs": [],
   "source": [
    "import numpy as np\n",
    "\n",
    "\n",
    "def numerical_diff(func, x):\n",
    "    h = 1e-4\n",
    "    return (func(x + h) - func(x - h)) / (2 * h)"
   ],
   "metadata": {
    "collapsed": false,
    "ExecuteTime": {
     "end_time": "2023-11-28T11:48:26.440966Z",
     "start_time": "2023-11-28T11:48:26.437302Z"
    }
   },
   "id": "initial_id"
  },
  {
   "cell_type": "markdown",
   "source": [
    "**梯度**:"
   ],
   "metadata": {
    "collapsed": false
   },
   "id": "c081159403d0a2d0"
  },
  {
   "cell_type": "code",
   "execution_count": 9,
   "outputs": [],
   "source": [
    "def numerical_gradient(f, x):\n",
    "    h = 1e-4\n",
    "    grad = np.zeros_like(x)\n",
    "\n",
    "    for i in range(x.size):\n",
    "        tmp_val = x[i]\n",
    "        # f(x + h)\n",
    "        x[i] = tmp_val + h\n",
    "        fxh1 = f(x)\n",
    "        # f(x - h)\n",
    "        x[i] = tmp_val - h\n",
    "        fxh2 = f(x)\n",
    "\n",
    "        grad[i] = (fxh1 - fxh2) / (2 * h)\n",
    "\n",
    "        x[i] = tmp_val\n",
    "\n",
    "    return grad"
   ],
   "metadata": {
    "collapsed": false,
    "ExecuteTime": {
     "end_time": "2023-11-28T11:48:26.448540Z",
     "start_time": "2023-11-28T11:48:26.442708Z"
    }
   },
   "id": "6d1b78b4cdfffdea"
  },
  {
   "cell_type": "markdown",
   "source": [
    "**梯度下降**:"
   ],
   "metadata": {
    "collapsed": false
   },
   "id": "516da268ca3b67f9"
  },
  {
   "cell_type": "code",
   "execution_count": 10,
   "outputs": [],
   "source": [
    "def gradient_descent(f, init_x, lr=0.01, step_num=100) -> np.ndarray:\n",
    "    \"\"\"\n",
    "    梯度下降\n",
    "    :param f: 要优化的函数\n",
    "    :param init_x: 初始值\n",
    "    :param lr: 学习率\n",
    "    :param step_num: 下降迭代次数 \n",
    "    :return: \n",
    "    \"\"\"\n",
    "    x = init_x\n",
    "\n",
    "    for i in range(step_num):\n",
    "        grad = numerical_gradient(f, x)\n",
    "        x -= lr * grad\n",
    "\n",
    "    return x"
   ],
   "metadata": {
    "collapsed": false,
    "ExecuteTime": {
     "end_time": "2023-11-28T11:48:26.451748Z",
     "start_time": "2023-11-28T11:48:26.446345Z"
    }
   },
   "id": "84669ed511b1ef7d"
  },
  {
   "cell_type": "code",
   "execution_count": null,
   "outputs": [],
   "source": [],
   "metadata": {
    "collapsed": false
   },
   "id": "32d45ac4da6622d3"
  }
 ],
 "metadata": {
  "kernelspec": {
   "display_name": "Python 3",
   "language": "python",
   "name": "python3"
  },
  "language_info": {
   "codemirror_mode": {
    "name": "ipython",
    "version": 2
   },
   "file_extension": ".py",
   "mimetype": "text/x-python",
   "name": "python",
   "nbconvert_exporter": "python",
   "pygments_lexer": "ipython2",
   "version": "2.7.6"
  }
 },
 "nbformat": 4,
 "nbformat_minor": 5
}
